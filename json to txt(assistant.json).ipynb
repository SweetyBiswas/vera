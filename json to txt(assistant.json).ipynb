{
 "cells": [
  {
   "cell_type": "code",
   "execution_count": 1,
   "id": "bdd1039a",
   "metadata": {},
   "outputs": [],
   "source": [
    "import json\n",
    "f = open('assistant.json')\n",
    "data = json.load(f)"
   ]
  },
  {
   "cell_type": "code",
   "execution_count": 2,
   "id": "6ea821fa",
   "metadata": {},
   "outputs": [
    {
     "data": {
      "text/plain": [
       "dict"
      ]
     },
     "execution_count": 2,
     "metadata": {},
     "output_type": "execute_result"
    }
   ],
   "source": [
    "type(data)"
   ]
  },
  {
   "cell_type": "code",
   "execution_count": 3,
   "id": "b0a1e9c1",
   "metadata": {},
   "outputs": [
    {
     "ename": "NameError",
     "evalue": "name 'chat_id' is not defined",
     "output_type": "error",
     "traceback": [
      "\u001b[1;31m---------------------------------------------------------------------------\u001b[0m",
      "\u001b[1;31mNameError\u001b[0m                                 Traceback (most recent call last)",
      "\u001b[1;32m<ipython-input-3-389b45ffae50>\u001b[0m in \u001b[0;36m<module>\u001b[1;34m\u001b[0m\n\u001b[1;32m----> 1\u001b[1;33m \u001b[0mchat_id\u001b[0m\u001b[1;33m\u001b[0m\u001b[1;33m\u001b[0m\u001b[0m\n\u001b[0m",
      "\u001b[1;31mNameError\u001b[0m: name 'chat_id' is not defined"
     ]
    }
   ],
   "source": [
    "chat_id"
   ]
  },
  {
   "cell_type": "code",
   "execution_count": 6,
   "id": "b21d447d",
   "metadata": {},
   "outputs": [
    {
     "name": "stdout",
     "output_type": "stream",
     "text": [
      "\n",
      "\n"
     ]
    }
   ],
   "source": [
    "\n",
    "\n",
    "chat_duration=data['chat_duration']\n",
    "email_id=data['email_id']\n",
    "chat_id=data['chat_id']\n",
    "chat_starttime=data['chat_starttime']\n",
    "\n",
    "chat_data=\"Total Chat_duration:\" + chat_duration + '\\n' + \"Email Id:\"+ email_id+ \"\\n\" + \"Chat_ID:\"+ chat_id+ \"\\n\" +\"Chat START TIME:\"+chat_starttime+\"\\n------------------------------------------\\n\"+\"Chat History:\"+\"\\n\"\n",
    "# print(chat_details)\n",
    "# print('-------------------------------------')\n",
    "print('\\n')\n",
    "for i in data['chat']:\n",
    "    #print(i)\n",
    "    for k,v in i.items():\n",
    "        person=k\n",
    "        text=v['text']\n",
    "        time=v['time']\n",
    "        message_type=v['message_type']\n",
    "        #print('\\n',person,time,text)\n",
    "        chat_data+= time+\" \"+person+\" \"+text+\"\\n\"\n",
    "   \n",
    "\n",
    "\n"
   ]
  },
  {
   "cell_type": "code",
   "execution_count": 8,
   "id": "56eb1cb4",
   "metadata": {},
   "outputs": [
    {
     "data": {
      "text/plain": [
       "'Total Chat_duration:1 minute(s) 1 second(s)\\nEmail Id:avishwakarma@veracitiz.com\\nChat_ID:dsgdt273eu3y23gu3t8\\nChat START TIME:2020-10-20 10:20 AM\\n------------------------------------------\\nChat History:\\n24-10-2020 12:00 AM User hello how are you\\n24-10-2020 12:00 AM Assistant hwo are you\\n24-10-2020 12:00 AM User am good\\n24-10-2020 12:00 AM Assistant what is time\\n24-10-2020 12:00 AM User time is money\\n24-10-2020 12:00 AM Assistant ok sir\\n24-10-2020 12:00 AM User good\\n24-10-2020 12:00 AM Assistant ok\\n'"
      ]
     },
     "execution_count": 8,
     "metadata": {},
     "output_type": "execute_result"
    }
   ],
   "source": [
    "chat_data"
   ]
  },
  {
   "cell_type": "code",
   "execution_count": 2,
   "id": "f3977c03",
   "metadata": {},
   "outputs": [
    {
     "name": "stdout",
     "output_type": "stream",
     "text": [
      "\n"
     ]
    },
    {
     "ename": "TypeError",
     "evalue": "can only concatenate str (not \"dict\") to str",
     "output_type": "error",
     "traceback": [
      "\u001b[1;31m---------------------------------------------------------------------------\u001b[0m",
      "\u001b[1;31mTypeError\u001b[0m                                 Traceback (most recent call last)",
      "\u001b[1;32m<ipython-input-2-0a939d7b3d08>\u001b[0m in \u001b[0;36m<module>\u001b[1;34m\u001b[0m\n\u001b[0;32m     20\u001b[0m         \u001b[0mprint\u001b[0m\u001b[1;33m(\u001b[0m\u001b[1;33m)\u001b[0m\u001b[1;33m\u001b[0m\u001b[1;33m\u001b[0m\u001b[0m\n\u001b[0;32m     21\u001b[0m \u001b[1;33m\u001b[0m\u001b[0m\n\u001b[1;32m---> 22\u001b[1;33m         \u001b[0mchat_data\u001b[0m\u001b[1;33m+=\u001b[0m \u001b[0mtime\u001b[0m\u001b[1;33m+\u001b[0m\u001b[1;34m\" \"\u001b[0m\u001b[1;33m+\u001b[0m\u001b[0mwho\u001b[0m\u001b[1;33m+\u001b[0m\u001b[1;34m\" \"\u001b[0m\u001b[1;33m+\u001b[0m\u001b[0mtext\u001b[0m\u001b[1;33m+\u001b[0m\u001b[1;34m\"\\n\"\u001b[0m\u001b[1;33m\u001b[0m\u001b[1;33m\u001b[0m\u001b[0m\n\u001b[0m",
      "\u001b[1;31mTypeError\u001b[0m: can only concatenate str (not \"dict\") to str"
     ]
    }
   ],
   "source": [
    "chat_duration=data['chat_duration']\n",
    "email=data['email_id']\n",
    "chat_id=data['chat_id']\n",
    "chat_strtime=data['chat_starttime']\n",
    "\n",
    "# print(chat_duration)\n",
    "# print(email)\n",
    "# print(chat_id)\n",
    "# print(chat_strtime)\n",
    "\n",
    "chat_data=\"Total Chat_duration:\" + chat_duration + \"\\n\" + \"Email Id:\"+ email+ \"\\n\" + \"Chat_ID:\"+ chat_id+ \"\\n\" +\"Chat START TIME:\"+chat_strtime+\"\\n------------------------------------------\\n\"+\"Chat History:\"+\"\\n\"\n",
    "    \n",
    "for i in data['chat']:\n",
    "   # print(i)\n",
    "    for k,v in i.items():\n",
    "        who=k\n",
    "        text=v\n",
    "        time=v['time']\n",
    "        msg=v['message_type']\n",
    "        print()\n",
    "        \n",
    "        chat_data+= time+\" \"+who+\" \"+text+\"\\n\""
   ]
  },
  {
   "cell_type": "code",
   "execution_count": 7,
   "id": "01162abc",
   "metadata": {},
   "outputs": [],
   "source": [
    "with open('assistant_chat_data.txt','w') as demo:\n",
    "    demo.write(chat_data)"
   ]
  },
  {
   "cell_type": "code",
   "execution_count": null,
   "id": "361d5d96",
   "metadata": {},
   "outputs": [],
   "source": []
  }
 ],
 "metadata": {
  "kernelspec": {
   "display_name": "Python 3",
   "language": "python",
   "name": "python3"
  },
  "language_info": {
   "codemirror_mode": {
    "name": "ipython",
    "version": 3
   },
   "file_extension": ".py",
   "mimetype": "text/x-python",
   "name": "python",
   "nbconvert_exporter": "python",
   "pygments_lexer": "ipython3",
   "version": "3.8.8"
  }
 },
 "nbformat": 4,
 "nbformat_minor": 5
}
