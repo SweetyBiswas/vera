{
 "cells": [
  {
   "cell_type": "code",
   "execution_count": 4,
   "id": "ce9ec8dd",
   "metadata": {},
   "outputs": [
    {
     "name": "stdout",
     "output_type": "stream",
     "text": [
      "Collecting SpeechRecognitionNote: you may need to restart the kernel to use updated packages.\n",
      "  Downloading SpeechRecognition-3.8.1-py2.py3-none-any.whl (32.8 MB)\n",
      "Installing collected packages: SpeechRecognition\n",
      "Successfully installed SpeechRecognition-3.8.1\n",
      "\n"
     ]
    }
   ],
   "source": [
    "pip install SpeechRecognition"
   ]
  },
  {
   "cell_type": "code",
   "execution_count": 4,
   "id": "214fcf22",
   "metadata": {},
   "outputs": [
    {
     "name": "stdout",
     "output_type": "stream",
     "text": [
      "speak Anything : \n",
      "you said : hello this is sweetie\n"
     ]
    }
   ],
   "source": [
    "import speech_recognition as sr\n",
    "r=sr.Recognizer()\n",
    "\n",
    "with sr.Microphone() as source:\n",
    "    print('speak Anything : ')\n",
    "    audio=r.listen(source)\n",
    "    try:\n",
    "        text=r.recognize_google(audio)\n",
    "        print('you said : {}'.format(text))\n",
    "    except:\n",
    "        print('sorry could not recognize your voice')"
   ]
  },
  {
   "cell_type": "code",
   "execution_count": 2,
   "id": "6fa84078",
   "metadata": {},
   "outputs": [
    {
     "name": "stdout",
     "output_type": "stream",
     "text": [
      "Recognizing...\n",
      "hello this is sweetie\n"
     ]
    }
   ],
   "source": [
    "import speech_recognition as sr\n",
    "r=sr.Recognizer()\n",
    "with sr.Microphone() as source:\n",
    "    \n",
    "    audio_data = r.record(source, duration=5)\n",
    "    print(\"Recognizing...\")\n",
    "    \n",
    "    text = r.recognize_google(audio_data)\n",
    "    print(text)"
   ]
  },
  {
   "cell_type": "code",
   "execution_count": 2,
   "id": "650d91cc",
   "metadata": {},
   "outputs": [
    {
     "name": "stdout",
     "output_type": "stream",
     "text": [
      "talking nonsense\n"
     ]
    }
   ],
   "source": [
    "import speech_recognition as sr\n",
    "filename = \"machine-learning_speech-recognition_16-122828-0002.wav\"\n",
    "\n",
    "r = sr.Recognizer()\n",
    "with sr.AudioFile(filename) as source:\n",
    "    # listen for the data (load audio to memory)\n",
    "    audio_data = r.record(source)\n",
    "    # recognize (convert from speech to text)\n",
    "    text = r.recognize_google(audio_data)\n",
    "    print(text)"
   ]
  },
  {
   "cell_type": "code",
   "execution_count": null,
   "id": "509b58b8",
   "metadata": {},
   "outputs": [],
   "source": [
    "ile:\n",
    "            recognizer = sr.Recognizer()\n",
    "            audioFile = sr.AudioFile(file)\n",
    "            with audioFile as source:\n",
    "                data = recognizer.record(source)\n",
    "            transcript = recognizer.recognize_google(data, key=None)"
   ]
  },
  {
   "cell_type": "code",
   "execution_count": 2,
   "id": "c3198fc1",
   "metadata": {},
   "outputs": [
    {
     "name": "stdout",
     "output_type": "stream",
     "text": [
      " * Serving Flask app \"__main__\" (lazy loading)\n",
      " * Environment: production\n",
      "   WARNING: This is a development server. Do not use it in a production deployment.\n",
      "   Use a production WSGI server instead.\n",
      " * Debug mode: on\n"
     ]
    },
    {
     "name": "stderr",
     "output_type": "stream",
     "text": [
      " * Restarting with windowsapi reloader\n"
     ]
    },
    {
     "ename": "SystemExit",
     "evalue": "1",
     "output_type": "error",
     "traceback": [
      "An exception has occurred, use %tb to see the full traceback.\n",
      "\u001b[1;31mSystemExit\u001b[0m\u001b[1;31m:\u001b[0m 1\n"
     ]
    },
    {
     "name": "stderr",
     "output_type": "stream",
     "text": [
      "C:\\Users\\HP\\anaconda3\\lib\\site-packages\\IPython\\core\\interactiveshell.py:3445: UserWarning: To exit: use 'exit', 'quit', or Ctrl-D.\n",
      "  warn(\"To exit: use 'exit', 'quit', or Ctrl-D.\", stacklevel=1)\n"
     ]
    }
   ],
   "source": [
    "from flask import Flask, render_template, request, redirect\n",
    "import speech_recognition as sr\n",
    "\n",
    "app = Flask(__name__)\n",
    "\n",
    "\n",
    "@app.route(\"/\", methods=[\"GET\", \"POST\"])\n",
    "def index():\n",
    "    transcript = \"\"\n",
    "    if request.method == \"POST\":\n",
    "        print(\"FORM DATA RECEIVED\")\n",
    "\n",
    "        if \"file\" not in request.files:\n",
    "            return redirect(request.url)\n",
    "\n",
    "        file = request.files[\"file\"]\n",
    "        if file.filename == \"\":\n",
    "            return redirect(request.url)\n",
    "\n",
    "        if file:\n",
    "            recognizer = sr.Recognizer()\n",
    "            audioFile = sr.AudioFile(file)\n",
    "            with audioFile as source:\n",
    "                data = recognizer.record(source)\n",
    "            transcript = recognizer.recognize_google(data, key=None)\n",
    "\n",
    "    return render_template('index.html', transcript=transcript)\n",
    "\n",
    "\n",
    "if __name__ == \"__main__\":\n",
    "    app.run(debug=True, threaded=True)"
   ]
  },
  {
   "cell_type": "code",
   "execution_count": 5,
   "id": "a127bc55",
   "metadata": {},
   "outputs": [
    {
     "ename": "ImportError",
     "evalue": "cannot import name 'app' from 'app' (C:\\Users\\HP\\anaconda3\\lib\\site-packages\\app\\__init__.py)",
     "output_type": "error",
     "traceback": [
      "\u001b[1;31m---------------------------------------------------------------------------\u001b[0m",
      "\u001b[1;31mImportError\u001b[0m                               Traceback (most recent call last)",
      "\u001b[1;32m<ipython-input-5-ad8131c0f0e5>\u001b[0m in \u001b[0;36m<module>\u001b[1;34m\u001b[0m\n\u001b[1;32m----> 1\u001b[1;33m \u001b[1;32mfrom\u001b[0m \u001b[0mapp\u001b[0m \u001b[1;32mimport\u001b[0m \u001b[0mapp\u001b[0m\u001b[1;33m\u001b[0m\u001b[1;33m\u001b[0m\u001b[0m\n\u001b[0m\u001b[0;32m      2\u001b[0m \u001b[1;32mif\u001b[0m \u001b[0m__name__\u001b[0m \u001b[1;33m==\u001b[0m \u001b[1;34m\"__main__\"\u001b[0m\u001b[1;33m:\u001b[0m\u001b[1;33m\u001b[0m\u001b[1;33m\u001b[0m\u001b[0m\n\u001b[0;32m      3\u001b[0m   \u001b[0mapp\u001b[0m\u001b[1;33m.\u001b[0m\u001b[0mrun\u001b[0m\u001b[1;33m(\u001b[0m\u001b[1;33m)\u001b[0m\u001b[1;33m\u001b[0m\u001b[1;33m\u001b[0m\u001b[0m\n",
      "\u001b[1;31mImportError\u001b[0m: cannot import name 'app' from 'app' (C:\\Users\\HP\\anaconda3\\lib\\site-packages\\app\\__init__.py)"
     ]
    }
   ],
   "source": [
    "from app import app\n",
    "if __name__ == \"__main__\":\n",
    "  app.run()"
   ]
  },
  {
   "cell_type": "code",
   "execution_count": 4,
   "id": "603bce47",
   "metadata": {},
   "outputs": [
    {
     "name": "stdout",
     "output_type": "stream",
     "text": [
      "Collecting app\n",
      "  Downloading app-0.0.1.zip (2.2 kB)\n",
      "Building wheels for collected packages: app\n",
      "  Building wheel for app (setup.py): started\n",
      "  Building wheel for app (setup.py): finished with status 'done'\n",
      "  Created wheel for app: filename=app-0.0.1-py3-none-any.whl size=1517 sha256=bae0af1e54f340730a12aab67278978ed32ef9543cd89b1caf1235ac53b2e98e\n",
      "  Stored in directory: c:\\users\\hp\\appdata\\local\\pip\\cache\\wheels\\48\\84\\72\\c302cafb11cdce911bdb1660ad98ca24be21618cda90394799\n",
      "Successfully built app\n",
      "Installing collected packages: app\n",
      "Successfully installed app-0.0.1\n",
      "Note: you may need to restart the kernel to use updated packages.\n"
     ]
    }
   ],
   "source": [
    "pip install app"
   ]
  },
  {
   "cell_type": "code",
   "execution_count": null,
   "id": "cfbd6a39",
   "metadata": {},
   "outputs": [],
   "source": []
  }
 ],
 "metadata": {
  "kernelspec": {
   "display_name": "Python 3",
   "language": "python",
   "name": "python3"
  },
  "language_info": {
   "codemirror_mode": {
    "name": "ipython",
    "version": 3
   },
   "file_extension": ".py",
   "mimetype": "text/x-python",
   "name": "python",
   "nbconvert_exporter": "python",
   "pygments_lexer": "ipython3",
   "version": "3.8.8"
  }
 },
 "nbformat": 4,
 "nbformat_minor": 5
}
