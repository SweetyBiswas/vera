{
 "cells": [
  {
   "cell_type": "code",
   "execution_count": 9,
   "id": "58d8cf6d",
   "metadata": {},
   "outputs": [],
   "source": [
    "import pymysql\n",
    "  \n",
    "\n",
    "myconn = pymysql.connect(host = \"localhost\", user = \"root\",passwd = \"sweety110\", database='lms', autocommit = True, charset = 'utf8mb4', cursorclass = pymysql.cursors.DictCursor)\n",
    "\n",
    "cursor = myconn.cursor() "
   ]
  },
  {
   "cell_type": "code",
   "execution_count": 10,
   "id": "91a956dc",
   "metadata": {},
   "outputs": [
    {
     "name": "stdout",
     "output_type": "stream",
     "text": [
      "()\n"
     ]
    }
   ],
   "source": [
    "sql = \"select * from employee\"\n",
    "cursor.execute(sql)\n",
    "\n",
    "rows = cursor.fetchall()\n",
    "\n",
    "print(rows)"
   ]
  },
  {
   "cell_type": "code",
   "execution_count": 11,
   "id": "48cd1349",
   "metadata": {},
   "outputs": [
    {
     "name": "stdout",
     "output_type": "stream",
     "text": [
      "[{'Field': 'eid', 'Type': 'varchar(10)', 'Null': 'NO', 'Key': 'PRI', 'Default': None, 'Extra': ''}, {'Field': 'ename', 'Type': 'varchar(100)', 'Null': 'YES', 'Key': '', 'Default': None, 'Extra': ''}, {'Field': 'salary', 'Type': 'int', 'Null': 'YES', 'Key': '', 'Default': None, 'Extra': ''}]\n"
     ]
    }
   ],
   "source": [
    "sql = \"desc employee\"\n",
    "cursor.execute(sql)\n",
    "\n",
    "rows = cursor.fetchall()\n",
    "\n",
    "print(rows)"
   ]
  },
  {
   "cell_type": "code",
   "execution_count": 13,
   "id": "bbae0269",
   "metadata": {},
   "outputs": [
    {
     "name": "stdout",
     "output_type": "stream",
     "text": [
      "1 record inserted.\n"
     ]
    }
   ],
   "source": [
    "sql = \"insert into employee (eid,ename,salary) values (%s, %s,%s)\"\n",
    "val = (\"e1\",\"sweety biswas\", 5000)\n",
    "cursor.execute(sql, val)\n",
    "\n",
    "myconn.commit()\n",
    "\n",
    "print(cursor.rowcount, \"record inserted.\")"
   ]
  },
  {
   "cell_type": "code",
   "execution_count": 14,
   "id": "5a647c20",
   "metadata": {},
   "outputs": [
    {
     "name": "stdout",
     "output_type": "stream",
     "text": [
      "[{'eid': 'e1', 'ename': 'sweety biswas', 'salary': 5000}]\n"
     ]
    }
   ],
   "source": [
    "sql = \"select * from employee\"\n",
    "cursor.execute(sql)\n",
    "\n",
    "rows = cursor.fetchall()\n",
    "\n",
    "print(rows)"
   ]
  },
  {
   "cell_type": "code",
   "execution_count": 18,
   "id": "fbf6b989",
   "metadata": {},
   "outputs": [
    {
     "name": "stdout",
     "output_type": "stream",
     "text": [
      "2 was inserted.\n"
     ]
    }
   ],
   "source": [
    "sql = \"INSERT INTO employee (eid,ename,salary) VALUES (%s, %s, %s)\"\n",
    "val = [\n",
    "  ('e2', 'pamela dey',4000),\n",
    "  ('e3', 'manti biswas',50000)\n",
    "]\n",
    "\n",
    "cursor.executemany(sql, val)\n",
    "\n",
    "myconn.commit()\n",
    "\n",
    "print(cursor.rowcount, \"was inserted.\")"
   ]
  },
  {
   "cell_type": "code",
   "execution_count": null,
   "id": "a0d705a4",
   "metadata": {},
   "outputs": [],
   "source": [
    "import pandas as pd\n",
    "\n",
    "data = {'product_name': ['Computer','Tablet','Monitor','Printer'],\n",
    "        'price': [900,300,450,150]\n",
    "        }\n",
    "\n",
    "df = pd.DataFrame(data, columns= ['product_name','price'])\n",
    "print (df)"
   ]
  }
 ],
 "metadata": {
  "kernelspec": {
   "display_name": "Python 3",
   "language": "python",
   "name": "python3"
  },
  "language_info": {
   "codemirror_mode": {
    "name": "ipython",
    "version": 3
   },
   "file_extension": ".py",
   "mimetype": "text/x-python",
   "name": "python",
   "nbconvert_exporter": "python",
   "pygments_lexer": "ipython3",
   "version": "3.8.8"
  }
 },
 "nbformat": 4,
 "nbformat_minor": 5
}
