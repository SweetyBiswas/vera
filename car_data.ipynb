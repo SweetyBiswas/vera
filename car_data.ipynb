{
 "cells": [
  {
   "cell_type": "code",
   "execution_count": 1,
   "id": "e88fa6cb",
   "metadata": {},
   "outputs": [
    {
     "name": "stdout",
     "output_type": "stream",
     "text": [
      "{'car': {'make': 'Ford', 'car_details': {'model': 'Fiesta', 'mileage': 15000, 'color': 'yellow', 'value': 20000}}}\n",
      "{'car': {'make': 'Dodge', 'car_details': {'model': 'Viper', 'mileage': 30000, 'color': 'yellow', 'value': 30000}}}\n",
      "{'car': {'make': 'Ford', 'car_details': {'model': 'Fiesta', 'mileage': 15000, 'color': 'blue', 'value': 20000}}}\n",
      "{'car': {'make': 'Random', 'car_details': {'model': 'Temper', 'mileage': 25000, 'color': 'blue', 'value': 20000}}}\n"
     ]
    }
   ],
   "source": [
    "import json\n",
    " \n",
    "f = open('car.json') \n",
    "data = json.load(f)\n",
    " \n",
    "for i in data:\n",
    "    print(i)"
   ]
  },
  {
   "cell_type": "code",
   "execution_count": 2,
   "id": "4ba3795e",
   "metadata": {},
   "outputs": [
    {
     "data": {
      "text/plain": [
       "[['Ford', 'Fiesta', 15000, 'yellow', 20000],\n",
       " ['Dodge', 'Viper', 30000, 'yellow', 30000],\n",
       " ['Ford', 'Fiesta', 15000, 'blue', 20000],\n",
       " ['Random', 'Temper', 25000, 'blue', 20000]]"
      ]
     },
     "execution_count": 2,
     "metadata": {},
     "output_type": "execute_result"
    }
   ],
   "source": [
    "list=[]\n",
    "\n",
    "\n",
    "            \n",
    "for i in data:\n",
    "    \n",
    "    for m,v in i.items():\n",
    "        make=v['make']\n",
    "        x=v['car_details']\n",
    "        \n",
    "        \n",
    "        model=x['model']\n",
    "        mileage=x['mileage']\n",
    "        color=x['color']\n",
    "        value=x['value']\n",
    "        list.append([make,model,mileage,color,value])    \n",
    "            \n",
    "list"
   ]
  },
  {
   "cell_type": "code",
   "execution_count": 3,
   "id": "f053a15c",
   "metadata": {},
   "outputs": [],
   "source": [
    "import pandas as pd\n",
    "df = pd.DataFrame(list,columns =['car','model','mileage','color','value'])"
   ]
  },
  {
   "cell_type": "code",
   "execution_count": 4,
   "id": "123b65c4",
   "metadata": {},
   "outputs": [
    {
     "data": {
      "text/html": [
       "<div>\n",
       "<style scoped>\n",
       "    .dataframe tbody tr th:only-of-type {\n",
       "        vertical-align: middle;\n",
       "    }\n",
       "\n",
       "    .dataframe tbody tr th {\n",
       "        vertical-align: top;\n",
       "    }\n",
       "\n",
       "    .dataframe thead th {\n",
       "        text-align: right;\n",
       "    }\n",
       "</style>\n",
       "<table border=\"1\" class=\"dataframe\">\n",
       "  <thead>\n",
       "    <tr style=\"text-align: right;\">\n",
       "      <th></th>\n",
       "      <th>car</th>\n",
       "      <th>model</th>\n",
       "      <th>mileage</th>\n",
       "      <th>color</th>\n",
       "      <th>value</th>\n",
       "    </tr>\n",
       "  </thead>\n",
       "  <tbody>\n",
       "    <tr>\n",
       "      <th>0</th>\n",
       "      <td>Ford</td>\n",
       "      <td>Fiesta</td>\n",
       "      <td>15000</td>\n",
       "      <td>yellow</td>\n",
       "      <td>20000</td>\n",
       "    </tr>\n",
       "    <tr>\n",
       "      <th>1</th>\n",
       "      <td>Dodge</td>\n",
       "      <td>Viper</td>\n",
       "      <td>30000</td>\n",
       "      <td>yellow</td>\n",
       "      <td>30000</td>\n",
       "    </tr>\n",
       "    <tr>\n",
       "      <th>2</th>\n",
       "      <td>Ford</td>\n",
       "      <td>Fiesta</td>\n",
       "      <td>15000</td>\n",
       "      <td>blue</td>\n",
       "      <td>20000</td>\n",
       "    </tr>\n",
       "    <tr>\n",
       "      <th>3</th>\n",
       "      <td>Random</td>\n",
       "      <td>Temper</td>\n",
       "      <td>25000</td>\n",
       "      <td>blue</td>\n",
       "      <td>20000</td>\n",
       "    </tr>\n",
       "  </tbody>\n",
       "</table>\n",
       "</div>"
      ],
      "text/plain": [
       "      car   model  mileage   color  value\n",
       "0    Ford  Fiesta    15000  yellow  20000\n",
       "1   Dodge   Viper    30000  yellow  30000\n",
       "2    Ford  Fiesta    15000    blue  20000\n",
       "3  Random  Temper    25000    blue  20000"
      ]
     },
     "execution_count": 4,
     "metadata": {},
     "output_type": "execute_result"
    }
   ],
   "source": [
    "df"
   ]
  },
  {
   "cell_type": "markdown",
   "id": "013ef42c",
   "metadata": {},
   "source": [
    "#### 1. How many ford cars were sold."
   ]
  },
  {
   "cell_type": "code",
   "execution_count": 5,
   "id": "30341cb5",
   "metadata": {},
   "outputs": [
    {
     "data": {
      "text/plain": [
       "Ford      2\n",
       "Dodge     1\n",
       "Random    1\n",
       "Name: car, dtype: int64"
      ]
     },
     "execution_count": 5,
     "metadata": {},
     "output_type": "execute_result"
    }
   ],
   "source": [
    "df['car'].value_counts()"
   ]
  },
  {
   "cell_type": "code",
   "execution_count": 38,
   "id": "873e0ed7",
   "metadata": {},
   "outputs": [
    {
     "name": "stdout",
     "output_type": "stream",
     "text": [
      "Number of ford cars were sold :  Ford    2\n",
      "Name: car, dtype: int64\n"
     ]
    }
   ],
   "source": [
    "x=df[df['car']=='Ford']\n",
    "y=x['car'].value_counts()\n",
    "print('Number of ford cars were sold : ',y)"
   ]
  },
  {
   "cell_type": "markdown",
   "id": "1eba1aee",
   "metadata": {},
   "source": [
    "#### 2. Get the total value of Ford cars sold."
   ]
  },
  {
   "cell_type": "code",
   "execution_count": 39,
   "id": "7378d411",
   "metadata": {},
   "outputs": [
    {
     "name": "stdout",
     "output_type": "stream",
     "text": [
      "total value of Ford cars sold :  40000\n"
     ]
    }
   ],
   "source": [
    "\n",
    "x=df[df['car']=='Ford']\n",
    "y=x['value'].sum()\n",
    "print('total value of Ford cars sold : ',y)"
   ]
  },
  {
   "cell_type": "markdown",
   "id": "e648d29e",
   "metadata": {},
   "source": [
    "#### 3. Get Total value of car whose color is blue."
   ]
  },
  {
   "cell_type": "code",
   "execution_count": 16,
   "id": "0f61da36",
   "metadata": {},
   "outputs": [
    {
     "data": {
      "text/plain": [
       "car          FordRandom\n",
       "model      FiestaTemper\n",
       "mileage           40000\n",
       "color          blueblue\n",
       "value             40000\n",
       "dtype: object"
      ]
     },
     "execution_count": 16,
     "metadata": {},
     "output_type": "execute_result"
    }
   ],
   "source": [
    "df[df['color']=='blue'].sum()"
   ]
  },
  {
   "cell_type": "code",
   "execution_count": 40,
   "id": "af4fe177",
   "metadata": {},
   "outputs": [
    {
     "name": "stdout",
     "output_type": "stream",
     "text": [
      "Total value of car whose color is blue 40000\n"
     ]
    }
   ],
   "source": [
    "x=df[df['color']=='blue']\n",
    "y=x['value'].sum()\n",
    "print('Total value of car whose color is blue',y)"
   ]
  },
  {
   "cell_type": "markdown",
   "id": "3b8a8033",
   "metadata": {},
   "source": [
    "#### 4. Make a list of car models whose mileage is greater than 20000."
   ]
  },
  {
   "cell_type": "code",
   "execution_count": 18,
   "id": "b576ce01",
   "metadata": {},
   "outputs": [],
   "source": [
    "x=df[df['mileage']>20000]"
   ]
  },
  {
   "cell_type": "code",
   "execution_count": 24,
   "id": "1a1dab29",
   "metadata": {},
   "outputs": [],
   "source": [
    "y=x['model']"
   ]
  },
  {
   "cell_type": "code",
   "execution_count": 25,
   "id": "4fb733eb",
   "metadata": {},
   "outputs": [
    {
     "data": {
      "text/plain": [
       "['Viper', 'Temper']"
      ]
     },
     "execution_count": 25,
     "metadata": {},
     "output_type": "execute_result"
    }
   ],
   "source": [
    "l=[]\n",
    "for i in y:\n",
    "    l.append(i)\n",
    "l"
   ]
  },
  {
   "cell_type": "code",
   "execution_count": null,
   "id": "dbcc5e5b",
   "metadata": {},
   "outputs": [],
   "source": [
    "models=milege['Model'].values.tolist()\n",
    "models\n",
    "models=[]\n",
    "milege = Cr_data[Cr_data['Milege'] > 20000]\n",
    "\n",
    "models.append(milege['Model'])"
   ]
  }
 ],
 "metadata": {
  "kernelspec": {
   "display_name": "Python 3",
   "language": "python",
   "name": "python3"
  },
  "language_info": {
   "codemirror_mode": {
    "name": "ipython",
    "version": 3
   },
   "file_extension": ".py",
   "mimetype": "text/x-python",
   "name": "python",
   "nbconvert_exporter": "python",
   "pygments_lexer": "ipython3",
   "version": "3.8.8"
  }
 },
 "nbformat": 4,
 "nbformat_minor": 5
}
