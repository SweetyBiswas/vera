{
 "cells": [
  {
   "cell_type": "code",
   "execution_count": 1,
   "id": "199340bb",
   "metadata": {},
   "outputs": [],
   "source": [
    "import json\n",
    " \n",
    "\n",
    "f = open('assistant.json')\n",
    " \n",
    "data = json.load(f)"
   ]
  },
  {
   "cell_type": "code",
   "execution_count": 2,
   "id": "ff0c8c55",
   "metadata": {},
   "outputs": [
    {
     "data": {
      "text/plain": [
       "{'email_id': 'avishwakarma@veracitiz.com',\n",
       " 'chat_starttime': '2020-10-20 10:20 AM',\n",
       " 'chat_id': 'dsgdt273eu3y23gu3t8',\n",
       " 'chat_duration': '1 minute(s) 1 second(s)',\n",
       " 'chat': [{'User': {'text': 'hello how are you',\n",
       "    'time': '24-10-2020 12:00 AM',\n",
       "    'message_type': 'text'}},\n",
       "  {'Assistant': {'text': 'hwo are you',\n",
       "    'time': '24-10-2020 12:00 AM',\n",
       "    'message_type': 'text'}},\n",
       "  {'User': {'text': 'am good',\n",
       "    'time': '24-10-2020 12:00 AM',\n",
       "    'message_type': 'text'}},\n",
       "  {'Assistant': {'text': 'what is time',\n",
       "    'time': '24-10-2020 12:00 AM',\n",
       "    'message_type': 'text'}},\n",
       "  {'User': {'text': 'time is money',\n",
       "    'time': '24-10-2020 12:00 AM',\n",
       "    'message_type': 'text'}},\n",
       "  {'Assistant': {'text': 'ok sir',\n",
       "    'time': '24-10-2020 12:00 AM',\n",
       "    'message_type': 'text'}},\n",
       "  {'User': {'text': 'good',\n",
       "    'time': '24-10-2020 12:00 AM',\n",
       "    'message_type': 'text'}},\n",
       "  {'Assistant': {'text': 'ok',\n",
       "    'time': '24-10-2020 12:00 AM',\n",
       "    'message_type': 'text'}}]}"
      ]
     },
     "execution_count": 2,
     "metadata": {},
     "output_type": "execute_result"
    }
   ],
   "source": [
    "data"
   ]
  },
  {
   "cell_type": "code",
   "execution_count": 9,
   "id": "6de2164f",
   "metadata": {},
   "outputs": [
    {
     "name": "stdout",
     "output_type": "stream",
     "text": [
      "{'User': {'text': 'hello how are you', 'time': '24-10-2020 12:00 AM', 'message_type': 'text'}}\n",
      "{'Assistant': {'text': 'hwo are you', 'time': '24-10-2020 12:00 AM', 'message_type': 'text'}}\n",
      "{'User': {'text': 'am good', 'time': '24-10-2020 12:00 AM', 'message_type': 'text'}}\n",
      "{'Assistant': {'text': 'what is time', 'time': '24-10-2020 12:00 AM', 'message_type': 'text'}}\n",
      "{'User': {'text': 'time is money', 'time': '24-10-2020 12:00 AM', 'message_type': 'text'}}\n",
      "{'Assistant': {'text': 'ok sir', 'time': '24-10-2020 12:00 AM', 'message_type': 'text'}}\n",
      "{'User': {'text': 'good', 'time': '24-10-2020 12:00 AM', 'message_type': 'text'}}\n",
      "{'Assistant': {'text': 'ok', 'time': '24-10-2020 12:00 AM', 'message_type': 'text'}}\n"
     ]
    }
   ],
   "source": [
    "list=[]\n",
    "\n",
    "for i in data['chat']:\n",
    "    \n",
    "    print(i)"
   ]
  },
  {
   "cell_type": "code",
   "execution_count": 37,
   "id": "a1c2047c",
   "metadata": {},
   "outputs": [],
   "source": [
    "list=[]\n",
    "\n",
    "# for i in data['chat']:\n",
    "#     person=i.keys()\n",
    "#     for j in i.values() :\n",
    "#         text=j['text']\n",
    "#         time=j['time']\n",
    "#         message_type=j['message_type']\n",
    "#         list.append([person,text,time,message_type])\n",
    "#         #print(text)\n",
    "#         #print(j)\n",
    "# list\n",
    "\n",
    "\n",
    "for i in data['chat']:\n",
    "    #print(i)\n",
    "    for k,v in i.items():\n",
    "        person=k\n",
    "        text=v['text']\n",
    "        time=v['time']\n",
    "        message_type=v['message_type']\n",
    "        \n",
    "#         print(who,text,time,msg)\n",
    "#         print()\n",
    "        \n",
    "        \n",
    "        list.append([person,text,time,message_type])"
   ]
  },
  {
   "cell_type": "code",
   "execution_count": 33,
   "id": "46f4cd75",
   "metadata": {},
   "outputs": [],
   "source": [
    "import pandas as pd\n",
    "df = pd.DataFrame(list,columns =['person','text','time','message_type'])"
   ]
  },
  {
   "cell_type": "code",
   "execution_count": 34,
   "id": "c7a84861",
   "metadata": {},
   "outputs": [
    {
     "data": {
      "text/html": [
       "<div>\n",
       "<style scoped>\n",
       "    .dataframe tbody tr th:only-of-type {\n",
       "        vertical-align: middle;\n",
       "    }\n",
       "\n",
       "    .dataframe tbody tr th {\n",
       "        vertical-align: top;\n",
       "    }\n",
       "\n",
       "    .dataframe thead th {\n",
       "        text-align: right;\n",
       "    }\n",
       "</style>\n",
       "<table border=\"1\" class=\"dataframe\">\n",
       "  <thead>\n",
       "    <tr style=\"text-align: right;\">\n",
       "      <th></th>\n",
       "      <th>person</th>\n",
       "      <th>text</th>\n",
       "      <th>time</th>\n",
       "      <th>message_type</th>\n",
       "    </tr>\n",
       "  </thead>\n",
       "  <tbody>\n",
       "    <tr>\n",
       "      <th>0</th>\n",
       "      <td>User</td>\n",
       "      <td>hello how are you</td>\n",
       "      <td>24-10-2020 12:00 AM</td>\n",
       "      <td>text</td>\n",
       "    </tr>\n",
       "    <tr>\n",
       "      <th>1</th>\n",
       "      <td>Assistant</td>\n",
       "      <td>hwo are you</td>\n",
       "      <td>24-10-2020 12:00 AM</td>\n",
       "      <td>text</td>\n",
       "    </tr>\n",
       "    <tr>\n",
       "      <th>2</th>\n",
       "      <td>User</td>\n",
       "      <td>am good</td>\n",
       "      <td>24-10-2020 12:00 AM</td>\n",
       "      <td>text</td>\n",
       "    </tr>\n",
       "    <tr>\n",
       "      <th>3</th>\n",
       "      <td>Assistant</td>\n",
       "      <td>what is time</td>\n",
       "      <td>24-10-2020 12:00 AM</td>\n",
       "      <td>text</td>\n",
       "    </tr>\n",
       "    <tr>\n",
       "      <th>4</th>\n",
       "      <td>User</td>\n",
       "      <td>time is money</td>\n",
       "      <td>24-10-2020 12:00 AM</td>\n",
       "      <td>text</td>\n",
       "    </tr>\n",
       "    <tr>\n",
       "      <th>5</th>\n",
       "      <td>Assistant</td>\n",
       "      <td>ok sir</td>\n",
       "      <td>24-10-2020 12:00 AM</td>\n",
       "      <td>text</td>\n",
       "    </tr>\n",
       "    <tr>\n",
       "      <th>6</th>\n",
       "      <td>User</td>\n",
       "      <td>good</td>\n",
       "      <td>24-10-2020 12:00 AM</td>\n",
       "      <td>text</td>\n",
       "    </tr>\n",
       "    <tr>\n",
       "      <th>7</th>\n",
       "      <td>Assistant</td>\n",
       "      <td>ok</td>\n",
       "      <td>24-10-2020 12:00 AM</td>\n",
       "      <td>text</td>\n",
       "    </tr>\n",
       "  </tbody>\n",
       "</table>\n",
       "</div>"
      ],
      "text/plain": [
       "      person               text                 time message_type\n",
       "0       User  hello how are you  24-10-2020 12:00 AM         text\n",
       "1  Assistant        hwo are you  24-10-2020 12:00 AM         text\n",
       "2       User            am good  24-10-2020 12:00 AM         text\n",
       "3  Assistant       what is time  24-10-2020 12:00 AM         text\n",
       "4       User      time is money  24-10-2020 12:00 AM         text\n",
       "5  Assistant             ok sir  24-10-2020 12:00 AM         text\n",
       "6       User               good  24-10-2020 12:00 AM         text\n",
       "7  Assistant                 ok  24-10-2020 12:00 AM         text"
      ]
     },
     "execution_count": 34,
     "metadata": {},
     "output_type": "execute_result"
    }
   ],
   "source": [
    "df"
   ]
  },
  {
   "cell_type": "code",
   "execution_count": 36,
   "id": "fc931851",
   "metadata": {},
   "outputs": [],
   "source": [
    "df.to_csv('assistant.csv')"
   ]
  },
  {
   "cell_type": "code",
   "execution_count": null,
   "id": "8e362926",
   "metadata": {},
   "outputs": [],
   "source": []
  }
 ],
 "metadata": {
  "kernelspec": {
   "display_name": "Python 3",
   "language": "python",
   "name": "python3"
  },
  "language_info": {
   "codemirror_mode": {
    "name": "ipython",
    "version": 3
   },
   "file_extension": ".py",
   "mimetype": "text/x-python",
   "name": "python",
   "nbconvert_exporter": "python",
   "pygments_lexer": "ipython3",
   "version": "3.8.8"
  }
 },
 "nbformat": 4,
 "nbformat_minor": 5
}
