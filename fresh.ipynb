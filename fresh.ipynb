{
 "cells": [
  {
   "cell_type": "code",
   "execution_count": 1,
   "id": "8d70d3c1",
   "metadata": {},
   "outputs": [],
   "source": [
    "import pandas as pd\n",
    "df = pd.read_excel('Sample_Data_1.xlsx')"
   ]
  },
  {
   "cell_type": "code",
   "execution_count": 151,
   "id": "ff0856fb",
   "metadata": {},
   "outputs": [
    {
     "data": {
      "text/html": [
       "<div>\n",
       "<style scoped>\n",
       "    .dataframe tbody tr th:only-of-type {\n",
       "        vertical-align: middle;\n",
       "    }\n",
       "\n",
       "    .dataframe tbody tr th {\n",
       "        vertical-align: top;\n",
       "    }\n",
       "\n",
       "    .dataframe thead th {\n",
       "        text-align: right;\n",
       "    }\n",
       "</style>\n",
       "<table border=\"1\" class=\"dataframe\">\n",
       "  <thead>\n",
       "    <tr style=\"text-align: right;\">\n",
       "      <th></th>\n",
       "      <th>Fam. No.</th>\n",
       "      <th>Publication no</th>\n",
       "      <th>Current assignees</th>\n",
       "      <th>Player Type</th>\n",
       "      <th>XX Rating</th>\n",
       "      <th>Sub-component</th>\n",
       "      <th>Uniqueness</th>\n",
       "      <th>Impact/Benefit</th>\n",
       "      <th>AC/DC Motor</th>\n",
       "      <th>Phase</th>\n",
       "      <th>...</th>\n",
       "      <th>Motor Position</th>\n",
       "      <th>Family legal status</th>\n",
       "      <th>Geography Count</th>\n",
       "      <th>Cit Count</th>\n",
       "      <th>Claim Count</th>\n",
       "      <th>Priority Country</th>\n",
       "      <th>Overall Rating</th>\n",
       "      <th>Inventors</th>\n",
       "      <th>Earliest priority date</th>\n",
       "      <th>Application dates</th>\n",
       "    </tr>\n",
       "  </thead>\n",
       "  <tbody>\n",
       "    <tr>\n",
       "      <th>0</th>\n",
       "      <td>1</td>\n",
       "      <td>Reference9</td>\n",
       "      <td>BYD</td>\n",
       "      <td>OEM</td>\n",
       "      <td>5</td>\n",
       "      <td>MOTOR COOLING</td>\n",
       "      <td>Oil-cooled cooling system | Spraying device</td>\n",
       "      <td>Improved cooling | Compact</td>\n",
       "      <td>NaN</td>\n",
       "      <td>NaN</td>\n",
       "      <td>...</td>\n",
       "      <td>NaN</td>\n",
       "      <td>GRANTED</td>\n",
       "      <td>1</td>\n",
       "      <td>0</td>\n",
       "      <td>1</td>\n",
       "      <td>CN</td>\n",
       "      <td>3.20</td>\n",
       "      <td>WANG JIANXIN\\nZOU XIAOSONG\\nFANG ZHAOXIANG</td>\n",
       "      <td>2019-04-15</td>\n",
       "      <td>2019-04-15</td>\n",
       "    </tr>\n",
       "    <tr>\n",
       "      <th>1</th>\n",
       "      <td>2</td>\n",
       "      <td>Reference10</td>\n",
       "      <td>BYD</td>\n",
       "      <td>OEM</td>\n",
       "      <td>5</td>\n",
       "      <td>MOTOR CASING</td>\n",
       "      <td>Water-cooled cooling device</td>\n",
       "      <td>Compact</td>\n",
       "      <td>NaN</td>\n",
       "      <td>NaN</td>\n",
       "      <td>...</td>\n",
       "      <td>NaN</td>\n",
       "      <td>PENDING</td>\n",
       "      <td>1</td>\n",
       "      <td>5</td>\n",
       "      <td>1</td>\n",
       "      <td>CN</td>\n",
       "      <td>2.85</td>\n",
       "      <td>WANG JIANXIN\\nZOU XIAOSONG\\nFANG ZHAOXIANG</td>\n",
       "      <td>2019-04-15</td>\n",
       "      <td>2019-04-15</td>\n",
       "    </tr>\n",
       "    <tr>\n",
       "      <th>2</th>\n",
       "      <td>3</td>\n",
       "      <td>Reference330</td>\n",
       "      <td>NIDEC</td>\n",
       "      <td>Suplier</td>\n",
       "      <td>5</td>\n",
       "      <td>Winding</td>\n",
       "      <td>Hairpin windings</td>\n",
       "      <td>Improved Cooling</td>\n",
       "      <td>AC</td>\n",
       "      <td>NaN</td>\n",
       "      <td>...</td>\n",
       "      <td>NaN</td>\n",
       "      <td>GRANTED</td>\n",
       "      <td>2</td>\n",
       "      <td>5</td>\n",
       "      <td>1</td>\n",
       "      <td>FR</td>\n",
       "      <td>3.20</td>\n",
       "      <td>LENOIR ROMARIC ([FR])\\nBONNET VINCENT ([FR])</td>\n",
       "      <td>2019-10-31</td>\n",
       "      <td>2020-10-14</td>\n",
       "    </tr>\n",
       "  </tbody>\n",
       "</table>\n",
       "<p>3 rows × 27 columns</p>\n",
       "</div>"
      ],
      "text/plain": [
       "   Fam. No. Publication no Current assignees Player Type  XX Rating  \\\n",
       "0         1     Reference9               BYD         OEM          5   \n",
       "1         2    Reference10               BYD         OEM          5   \n",
       "2         3   Reference330             NIDEC     Suplier          5   \n",
       "\n",
       "   Sub-component                                   Uniqueness  \\\n",
       "0  MOTOR COOLING  Oil-cooled cooling system | Spraying device   \n",
       "1   MOTOR CASING                  Water-cooled cooling device   \n",
       "2        Winding                             Hairpin windings   \n",
       "\n",
       "               Impact/Benefit AC/DC Motor Phase  ... Motor Position  \\\n",
       "0  Improved cooling | Compact         NaN   NaN  ...            NaN   \n",
       "1                     Compact         NaN   NaN  ...            NaN   \n",
       "2            Improved Cooling          AC   NaN  ...            NaN   \n",
       "\n",
       "  Family legal status Geography Count Cit Count Claim Count Priority Country  \\\n",
       "0             GRANTED               1         0           1               CN   \n",
       "1             PENDING               1         5           1               CN   \n",
       "2             GRANTED               2         5           1               FR   \n",
       "\n",
       "  Overall Rating                                     Inventors  \\\n",
       "0           3.20    WANG JIANXIN\\nZOU XIAOSONG\\nFANG ZHAOXIANG   \n",
       "1           2.85    WANG JIANXIN\\nZOU XIAOSONG\\nFANG ZHAOXIANG   \n",
       "2           3.20  LENOIR ROMARIC ([FR])\\nBONNET VINCENT ([FR])   \n",
       "\n",
       "  Earliest priority date  Application dates  \n",
       "0             2019-04-15         2019-04-15  \n",
       "1             2019-04-15         2019-04-15  \n",
       "2             2019-10-31         2020-10-14  \n",
       "\n",
       "[3 rows x 27 columns]"
      ]
     },
     "execution_count": 151,
     "metadata": {},
     "output_type": "execute_result"
    }
   ],
   "source": [
    "df.head(3)"
   ]
  },
  {
   "cell_type": "code",
   "execution_count": 154,
   "id": "a353f40f",
   "metadata": {},
   "outputs": [],
   "source": [
    "x=df.groupby(['Current assignees'])['Sub-component'].sum()"
   ]
  },
  {
   "cell_type": "code",
   "execution_count": 158,
   "id": "82f870fd",
   "metadata": {},
   "outputs": [
    {
     "data": {
      "text/plain": [
       "Current assignees\n",
       "BORGWARNER                                                          STATOR\n",
       "BYD                      MOTOR COOLINGMOTOR CASINGMOTOR CASINGSTATOR WI...\n",
       "CONTINENTAL                                             MOTOR COOLINGROTOR\n",
       "DAIMLER                  STATORROTOR CORE | STATOR COREWINDINGSSTATORMO...\n",
       "DANA                        MOTOR COOLINGSTATOR WINDINGMOTOR COOLINGSTATOR\n",
       "DENSO  |TOYOTA                                                      STATOR\n",
       "FAW                                                      ROTORMOTOR CASING\n",
       "FORD                     STATOR WINDINGROTORMOTOR WINDINGROTORMOTOR WIN...\n",
       "GM                                                                   Rotor\n",
       "HITACHI                  MOTOR CASINGMOTOR CASINGSTATORSTATORROTORMOTOR...\n",
       "HONDA MOTOR              MOTOR WINDINGMOTOR COOLINGMOTOR COOLINGMOTOR C...\n",
       "HONDA MOTOR  |HITACHI                                        MOTOR COOLING\n",
       "HYUNDAI                                                      MOTOR COOLING\n",
       "HYUNDAI|KIA              STATOR MOTOR COOLINGMOTOR COOLINGMOTOR COOLING...\n",
       "NIDEC                                                       WindingWinding\n",
       "NISSAN                                                       MOTOR COOLING\n",
       "RENAULT  |NISSAN                                                    STATOR\n",
       "TOYOTA                                      SUPPORTING MEMBERMOTOR COOLING\n",
       "VITESCO                                                              ROTOR\n",
       "VOLKSWAGEN                                                   MOTOR COOLING\n",
       "Name: Sub-component, dtype: object"
      ]
     },
     "execution_count": 158,
     "metadata": {},
     "output_type": "execute_result"
    }
   ],
   "source": [
    "x"
   ]
  },
  {
   "cell_type": "code",
   "execution_count": 155,
   "id": "798e9c58",
   "metadata": {},
   "outputs": [
    {
     "name": "stdout",
     "output_type": "stream",
     "text": [
      "STATOR\n",
      "MOTOR COOLINGMOTOR CASINGMOTOR CASINGSTATOR WINDINGMOTOR CASINGMOTOR CASINGSTATORSTATOR WINDING\n",
      "MOTOR COOLINGROTOR\n",
      "STATORROTOR CORE | STATOR COREWINDINGSSTATORMOTOR COOLINGROTORSTATORMOTOR COOLINGSTATOR \n",
      "MOTOR COOLINGSTATOR WINDINGMOTOR COOLINGSTATOR\n",
      "STATOR\n",
      "ROTORMOTOR CASING\n",
      "STATOR WINDINGROTORMOTOR WINDINGROTORMOTOR WINDINGSTATORSTATORSTATORMOTOR WINDINGSTATOR\n",
      "Rotor\n",
      "MOTOR CASINGMOTOR CASINGSTATORSTATORROTORMOTOR WINDINGROTOR COREMOTOR COOLINGMOTOR CONTROLMOTOR COOLING\n",
      "MOTOR WINDINGMOTOR COOLINGMOTOR COOLINGMOTOR CONTROLMOTOR COOLINGSTATOR ROTORMOTOR COOLINGMOTOR CONTROLOUTPUT SHAFTROTOR MAGNETMOTOR COOLINGMOTOR COUPLINGMOTOR COOLINGMOTOR COOLINGMOTOR COOLINGMOTOR COOLINGMOTOR COOLINGMOTOR COOLINGMOTOR COOLINGMOTOR COOLINGMOTOR COOLINGMOTOR COOLINGSTATORSTATORMOTOR COOLINGMOTOR COOLINGMOTOR COOLINGMOTOR CONTROLMOTOR COOLINGMOTOR COOLINGMOTOR COOLINGMOTOR COOLINGROTOR MAGNETSTATORMOTOR CONTROL\n",
      "MOTOR COOLING\n",
      "MOTOR COOLING\n",
      "STATOR MOTOR COOLINGMOTOR COOLINGMOTOR COOLINGMOTOR BEARINGMOTOR COOLING\n",
      "WindingWinding\n",
      "MOTOR COOLING\n",
      "STATOR\n",
      "SUPPORTING MEMBERMOTOR COOLING\n",
      "ROTOR\n",
      "MOTOR COOLING\n"
     ]
    }
   ],
   "source": [
    "for i in x:\n",
    "    print(i)"
   ]
  },
  {
   "cell_type": "code",
   "execution_count": 162,
   "id": "db2e7df5",
   "metadata": {},
   "outputs": [
    {
     "data": {
      "text/plain": [
       "Current assignees      Sub-component           \n",
       "BORGWARNER             STATOR                       1\n",
       "BYD                    MOTOR CASING                 4\n",
       "                       STATOR WINDING               2\n",
       "                       MOTOR COOLING                1\n",
       "                       STATOR                       1\n",
       "CONTINENTAL            MOTOR COOLING                1\n",
       "                       ROTOR                        1\n",
       "DAIMLER                STATOR                       3\n",
       "                       MOTOR COOLING                2\n",
       "                       ROTOR                        1\n",
       "                       ROTOR CORE | STATOR CORE     1\n",
       "                       STATOR                       1\n",
       "                       WINDINGS                     1\n",
       "DANA                   MOTOR COOLING                2\n",
       "                       STATOR                       1\n",
       "                       STATOR WINDING               1\n",
       "DENSO  |TOYOTA         STATOR                       1\n",
       "FAW                    MOTOR CASING                 1\n",
       "                       ROTOR                        1\n",
       "FORD                   STATOR                       4\n",
       "                       MOTOR WINDING                3\n",
       "                       ROTOR                        2\n",
       "                       STATOR WINDING               1\n",
       "GM                     Rotor                        1\n",
       "HITACHI                MOTOR CASING                 2\n",
       "                       MOTOR COOLING                2\n",
       "                       STATOR                       2\n",
       "                       MOTOR CONTROL                1\n",
       "                       MOTOR WINDING                1\n",
       "                       ROTOR                        1\n",
       "                       ROTOR CORE                   1\n",
       "HONDA MOTOR            MOTOR COOLING               22\n",
       "                       MOTOR CONTROL                4\n",
       "                       STATOR                       3\n",
       "                       ROTOR MAGNET                 2\n",
       "                       MOTOR COUPLING               1\n",
       "                       MOTOR WINDING                1\n",
       "                       OUTPUT SHAFT                 1\n",
       "                       ROTOR                        1\n",
       "                       STATOR                       1\n",
       "HONDA MOTOR  |HITACHI  MOTOR COOLING                1\n",
       "HYUNDAI                MOTOR COOLING                1\n",
       "HYUNDAI|KIA            MOTOR COOLING                4\n",
       "                       MOTOR BEARING                1\n",
       "                       STATOR                       1\n",
       "NIDEC                  Winding                      2\n",
       "NISSAN                 MOTOR COOLING                1\n",
       "RENAULT  |NISSAN       STATOR                       1\n",
       "TOYOTA                 MOTOR COOLING                1\n",
       "                       SUPPORTING MEMBER            1\n",
       "VITESCO                ROTOR                        1\n",
       "VOLKSWAGEN             MOTOR COOLING                1\n",
       "Name: Sub-component, dtype: int64"
      ]
     },
     "execution_count": 162,
     "metadata": {},
     "output_type": "execute_result"
    }
   ],
   "source": [
    "df.groupby(['Current assignees'])['Sub-component'].value_counts()"
   ]
  },
  {
   "cell_type": "code",
   "execution_count": 164,
   "id": "6b5abbe8",
   "metadata": {},
   "outputs": [],
   "source": [
    "temp=df[['Current assignees','Sub-component']]"
   ]
  },
  {
   "cell_type": "code",
   "execution_count": 167,
   "id": "f0787ff8",
   "metadata": {},
   "outputs": [],
   "source": [
    "x=temp.pivot_table(index='Current assignees',columns='Sub-component',aggfunc=len,fill_value=0)"
   ]
  },
  {
   "cell_type": "code",
   "execution_count": 168,
   "id": "e5fdc2e1",
   "metadata": {},
   "outputs": [
    {
     "data": {
      "text/plain": [
       "<AxesSubplot:xlabel='Sub-component', ylabel='Current assignees'>"
      ]
     },
     "execution_count": 168,
     "metadata": {},
     "output_type": "execute_result"
    },
    {
     "data": {
      "image/png": "[encoded data removed]",
      "text/plain": [
       "<Figure size 432x288 with 2 Axes>"
      ]
     },
     "metadata": {
      "needs_background": "light"
     },
     "output_type": "display_data"
    }
   ],
   "source": [
    "sns.heatmap(x,annot=True)"
   ]
  },
  {
   "cell_type": "code",
   "execution_count": null,
   "id": "6f68b5f2",
   "metadata": {},
   "outputs": [],
   "source": []
  },
  {
   "cell_type": "code",
   "execution_count": null,
   "id": "4107c462",
   "metadata": {},
   "outputs": [],
   "source": []
  },
  {
   "cell_type": "code",
   "execution_count": null,
   "id": "3fbcbd13",
   "metadata": {},
   "outputs": [],
   "source": []
  },
  {
   "cell_type": "code",
   "execution_count": null,
   "id": "8395e2cf",
   "metadata": {},
   "outputs": [],
   "source": []
  },
  {
   "cell_type": "code",
   "execution_count": null,
   "id": "820b6ba6",
   "metadata": {},
   "outputs": [],
   "source": []
  },
  {
   "cell_type": "code",
   "execution_count": 152,
   "id": "e01d873e",
   "metadata": {},
   "outputs": [
    {
     "ename": "ValueError",
     "evalue": "Index contains duplicate entries, cannot reshape",
     "output_type": "error",
     "traceback": [
      "\u001b[1;31m---------------------------------------------------------------------------\u001b[0m",
      "\u001b[1;31mValueError\u001b[0m                                Traceback (most recent call last)",
      "\u001b[1;32m<ipython-input-152-af1236503f64>\u001b[0m in \u001b[0;36m<module>\u001b[1;34m\u001b[0m\n\u001b[1;32m----> 1\u001b[1;33m \u001b[0mdf\u001b[0m\u001b[1;33m.\u001b[0m\u001b[0mpivot\u001b[0m\u001b[1;33m(\u001b[0m\u001b[0mindex\u001b[0m\u001b[1;33m=\u001b[0m\u001b[1;34m'Current assignees'\u001b[0m\u001b[1;33m,\u001b[0m\u001b[0mcolumns\u001b[0m\u001b[1;33m=\u001b[0m\u001b[1;34m'Sub-component'\u001b[0m\u001b[1;33m)\u001b[0m\u001b[1;33m\u001b[0m\u001b[1;33m\u001b[0m\u001b[0m\n\u001b[0m",
      "\u001b[1;32m~\\anaconda3\\lib\\site-packages\\pandas\\core\\frame.py\u001b[0m in \u001b[0;36mpivot\u001b[1;34m(self, index, columns, values)\u001b[0m\n\u001b[0;32m   6877\u001b[0m         \u001b[1;32mfrom\u001b[0m \u001b[0mpandas\u001b[0m\u001b[1;33m.\u001b[0m\u001b[0mcore\u001b[0m\u001b[1;33m.\u001b[0m\u001b[0mreshape\u001b[0m\u001b[1;33m.\u001b[0m\u001b[0mpivot\u001b[0m \u001b[1;32mimport\u001b[0m \u001b[0mpivot\u001b[0m\u001b[1;33m\u001b[0m\u001b[1;33m\u001b[0m\u001b[0m\n\u001b[0;32m   6878\u001b[0m \u001b[1;33m\u001b[0m\u001b[0m\n\u001b[1;32m-> 6879\u001b[1;33m         \u001b[1;32mreturn\u001b[0m \u001b[0mpivot\u001b[0m\u001b[1;33m(\u001b[0m\u001b[0mself\u001b[0m\u001b[1;33m,\u001b[0m \u001b[0mindex\u001b[0m\u001b[1;33m=\u001b[0m\u001b[0mindex\u001b[0m\u001b[1;33m,\u001b[0m \u001b[0mcolumns\u001b[0m\u001b[1;33m=\u001b[0m\u001b[0mcolumns\u001b[0m\u001b[1;33m,\u001b[0m \u001b[0mvalues\u001b[0m\u001b[1;33m=\u001b[0m\u001b[0mvalues\u001b[0m\u001b[1;33m)\u001b[0m\u001b[1;33m\u001b[0m\u001b[1;33m\u001b[0m\u001b[0m\n\u001b[0m\u001b[0;32m   6880\u001b[0m \u001b[1;33m\u001b[0m\u001b[0m\n\u001b[0;32m   6881\u001b[0m     _shared_docs[\n",
      "\u001b[1;32m~\\anaconda3\\lib\\site-packages\\pandas\\core\\reshape\\pivot.py\u001b[0m in \u001b[0;36mpivot\u001b[1;34m(data, index, columns, values)\u001b[0m\n\u001b[0;32m    459\u001b[0m         \u001b[1;32melse\u001b[0m\u001b[1;33m:\u001b[0m\u001b[1;33m\u001b[0m\u001b[1;33m\u001b[0m\u001b[0m\n\u001b[0;32m    460\u001b[0m             \u001b[0mindexed\u001b[0m \u001b[1;33m=\u001b[0m \u001b[0mdata\u001b[0m\u001b[1;33m.\u001b[0m\u001b[0m_constructor_sliced\u001b[0m\u001b[1;33m(\u001b[0m\u001b[0mdata\u001b[0m\u001b[1;33m[\u001b[0m\u001b[0mvalues\u001b[0m\u001b[1;33m]\u001b[0m\u001b[1;33m.\u001b[0m\u001b[0m_values\u001b[0m\u001b[1;33m,\u001b[0m \u001b[0mindex\u001b[0m\u001b[1;33m=\u001b[0m\u001b[0mindex\u001b[0m\u001b[1;33m)\u001b[0m\u001b[1;33m\u001b[0m\u001b[1;33m\u001b[0m\u001b[0m\n\u001b[1;32m--> 461\u001b[1;33m     \u001b[1;32mreturn\u001b[0m \u001b[0mindexed\u001b[0m\u001b[1;33m.\u001b[0m\u001b[0munstack\u001b[0m\u001b[1;33m(\u001b[0m\u001b[0mcolumns\u001b[0m\u001b[1;33m)\u001b[0m\u001b[1;33m\u001b[0m\u001b[1;33m\u001b[0m\u001b[0m\n\u001b[0m\u001b[0;32m    462\u001b[0m \u001b[1;33m\u001b[0m\u001b[0m\n\u001b[0;32m    463\u001b[0m \u001b[1;33m\u001b[0m\u001b[0m\n",
      "\u001b[1;32m~\\anaconda3\\lib\\site-packages\\pandas\\core\\frame.py\u001b[0m in \u001b[0;36munstack\u001b[1;34m(self, level, fill_value)\u001b[0m\n\u001b[0;32m   7350\u001b[0m         \u001b[1;32mfrom\u001b[0m \u001b[0mpandas\u001b[0m\u001b[1;33m.\u001b[0m\u001b[0mcore\u001b[0m\u001b[1;33m.\u001b[0m\u001b[0mreshape\u001b[0m\u001b[1;33m.\u001b[0m\u001b[0mreshape\u001b[0m \u001b[1;32mimport\u001b[0m \u001b[0munstack\u001b[0m\u001b[1;33m\u001b[0m\u001b[1;33m\u001b[0m\u001b[0m\n\u001b[0;32m   7351\u001b[0m \u001b[1;33m\u001b[0m\u001b[0m\n\u001b[1;32m-> 7352\u001b[1;33m         \u001b[0mresult\u001b[0m \u001b[1;33m=\u001b[0m \u001b[0munstack\u001b[0m\u001b[1;33m(\u001b[0m\u001b[0mself\u001b[0m\u001b[1;33m,\u001b[0m \u001b[0mlevel\u001b[0m\u001b[1;33m,\u001b[0m \u001b[0mfill_value\u001b[0m\u001b[1;33m)\u001b[0m\u001b[1;33m\u001b[0m\u001b[1;33m\u001b[0m\u001b[0m\n\u001b[0m\u001b[0;32m   7353\u001b[0m \u001b[1;33m\u001b[0m\u001b[0m\n\u001b[0;32m   7354\u001b[0m         \u001b[1;32mreturn\u001b[0m \u001b[0mresult\u001b[0m\u001b[1;33m.\u001b[0m\u001b[0m__finalize__\u001b[0m\u001b[1;33m(\u001b[0m\u001b[0mself\u001b[0m\u001b[1;33m,\u001b[0m \u001b[0mmethod\u001b[0m\u001b[1;33m=\u001b[0m\u001b[1;34m\"unstack\"\u001b[0m\u001b[1;33m)\u001b[0m\u001b[1;33m\u001b[0m\u001b[1;33m\u001b[0m\u001b[0m\n",
      "\u001b[1;32m~\\anaconda3\\lib\\site-packages\\pandas\\core\\reshape\\reshape.py\u001b[0m in \u001b[0;36munstack\u001b[1;34m(obj, level, fill_value)\u001b[0m\n\u001b[0;32m    415\u001b[0m     \u001b[1;32mif\u001b[0m \u001b[0misinstance\u001b[0m\u001b[1;33m(\u001b[0m\u001b[0mobj\u001b[0m\u001b[1;33m,\u001b[0m \u001b[0mDataFrame\u001b[0m\u001b[1;33m)\u001b[0m\u001b[1;33m:\u001b[0m\u001b[1;33m\u001b[0m\u001b[1;33m\u001b[0m\u001b[0m\n\u001b[0;32m    416\u001b[0m         \u001b[1;32mif\u001b[0m \u001b[0misinstance\u001b[0m\u001b[1;33m(\u001b[0m\u001b[0mobj\u001b[0m\u001b[1;33m.\u001b[0m\u001b[0mindex\u001b[0m\u001b[1;33m,\u001b[0m \u001b[0mMultiIndex\u001b[0m\u001b[1;33m)\u001b[0m\u001b[1;33m:\u001b[0m\u001b[1;33m\u001b[0m\u001b[1;33m\u001b[0m\u001b[0m\n\u001b[1;32m--> 417\u001b[1;33m             \u001b[1;32mreturn\u001b[0m \u001b[0m_unstack_frame\u001b[0m\u001b[1;33m(\u001b[0m\u001b[0mobj\u001b[0m\u001b[1;33m,\u001b[0m \u001b[0mlevel\u001b[0m\u001b[1;33m,\u001b[0m \u001b[0mfill_value\u001b[0m\u001b[1;33m=\u001b[0m\u001b[0mfill_value\u001b[0m\u001b[1;33m)\u001b[0m\u001b[1;33m\u001b[0m\u001b[1;33m\u001b[0m\u001b[0m\n\u001b[0m\u001b[0;32m    418\u001b[0m         \u001b[1;32melse\u001b[0m\u001b[1;33m:\u001b[0m\u001b[1;33m\u001b[0m\u001b[1;33m\u001b[0m\u001b[0m\n\u001b[0;32m    419\u001b[0m             \u001b[1;32mreturn\u001b[0m \u001b[0mobj\u001b[0m\u001b[1;33m.\u001b[0m\u001b[0mT\u001b[0m\u001b[1;33m.\u001b[0m\u001b[0mstack\u001b[0m\u001b[1;33m(\u001b[0m\u001b[0mdropna\u001b[0m\u001b[1;33m=\u001b[0m\u001b[1;32mFalse\u001b[0m\u001b[1;33m)\u001b[0m\u001b[1;33m\u001b[0m\u001b[1;33m\u001b[0m\u001b[0m\n",
      "\u001b[1;32m~\\anaconda3\\lib\\site-packages\\pandas\\core\\reshape\\reshape.py\u001b[0m in \u001b[0;36m_unstack_frame\u001b[1;34m(obj, level, fill_value)\u001b[0m\n\u001b[0;32m    438\u001b[0m \u001b[1;32mdef\u001b[0m \u001b[0m_unstack_frame\u001b[0m\u001b[1;33m(\u001b[0m\u001b[0mobj\u001b[0m\u001b[1;33m,\u001b[0m \u001b[0mlevel\u001b[0m\u001b[1;33m,\u001b[0m \u001b[0mfill_value\u001b[0m\u001b[1;33m=\u001b[0m\u001b[1;32mNone\u001b[0m\u001b[1;33m)\u001b[0m\u001b[1;33m:\u001b[0m\u001b[1;33m\u001b[0m\u001b[1;33m\u001b[0m\u001b[0m\n\u001b[0;32m    439\u001b[0m     \u001b[1;32mif\u001b[0m \u001b[1;32mnot\u001b[0m \u001b[0mobj\u001b[0m\u001b[1;33m.\u001b[0m\u001b[0m_can_fast_transpose\u001b[0m\u001b[1;33m:\u001b[0m\u001b[1;33m\u001b[0m\u001b[1;33m\u001b[0m\u001b[0m\n\u001b[1;32m--> 440\u001b[1;33m         \u001b[0munstacker\u001b[0m \u001b[1;33m=\u001b[0m \u001b[0m_Unstacker\u001b[0m\u001b[1;33m(\u001b[0m\u001b[0mobj\u001b[0m\u001b[1;33m.\u001b[0m\u001b[0mindex\u001b[0m\u001b[1;33m,\u001b[0m \u001b[0mlevel\u001b[0m\u001b[1;33m=\u001b[0m\u001b[0mlevel\u001b[0m\u001b[1;33m)\u001b[0m\u001b[1;33m\u001b[0m\u001b[1;33m\u001b[0m\u001b[0m\n\u001b[0m\u001b[0;32m    441\u001b[0m         \u001b[0mmgr\u001b[0m \u001b[1;33m=\u001b[0m \u001b[0mobj\u001b[0m\u001b[1;33m.\u001b[0m\u001b[0m_mgr\u001b[0m\u001b[1;33m.\u001b[0m\u001b[0munstack\u001b[0m\u001b[1;33m(\u001b[0m\u001b[0munstacker\u001b[0m\u001b[1;33m,\u001b[0m \u001b[0mfill_value\u001b[0m\u001b[1;33m=\u001b[0m\u001b[0mfill_value\u001b[0m\u001b[1;33m)\u001b[0m\u001b[1;33m\u001b[0m\u001b[1;33m\u001b[0m\u001b[0m\n\u001b[0;32m    442\u001b[0m         \u001b[1;32mreturn\u001b[0m \u001b[0mobj\u001b[0m\u001b[1;33m.\u001b[0m\u001b[0m_constructor\u001b[0m\u001b[1;33m(\u001b[0m\u001b[0mmgr\u001b[0m\u001b[1;33m)\u001b[0m\u001b[1;33m\u001b[0m\u001b[1;33m\u001b[0m\u001b[0m\n",
      "\u001b[1;32m~\\anaconda3\\lib\\site-packages\\pandas\\core\\reshape\\reshape.py\u001b[0m in \u001b[0;36m__init__\u001b[1;34m(self, index, level, constructor)\u001b[0m\n\u001b[0;32m    116\u001b[0m             \u001b[1;32mraise\u001b[0m \u001b[0mValueError\u001b[0m\u001b[1;33m(\u001b[0m\u001b[1;34m\"Unstacked DataFrame is too big, causing int32 overflow\"\u001b[0m\u001b[1;33m)\u001b[0m\u001b[1;33m\u001b[0m\u001b[1;33m\u001b[0m\u001b[0m\n\u001b[0;32m    117\u001b[0m \u001b[1;33m\u001b[0m\u001b[0m\n\u001b[1;32m--> 118\u001b[1;33m         \u001b[0mself\u001b[0m\u001b[1;33m.\u001b[0m\u001b[0m_make_selectors\u001b[0m\u001b[1;33m(\u001b[0m\u001b[1;33m)\u001b[0m\u001b[1;33m\u001b[0m\u001b[1;33m\u001b[0m\u001b[0m\n\u001b[0m\u001b[0;32m    119\u001b[0m \u001b[1;33m\u001b[0m\u001b[0m\n\u001b[0;32m    120\u001b[0m     \u001b[1;33m@\u001b[0m\u001b[0mcache_readonly\u001b[0m\u001b[1;33m\u001b[0m\u001b[1;33m\u001b[0m\u001b[0m\n",
      "\u001b[1;32m~\\anaconda3\\lib\\site-packages\\pandas\\core\\reshape\\reshape.py\u001b[0m in \u001b[0;36m_make_selectors\u001b[1;34m(self)\u001b[0m\n\u001b[0;32m    165\u001b[0m \u001b[1;33m\u001b[0m\u001b[0m\n\u001b[0;32m    166\u001b[0m         \u001b[1;32mif\u001b[0m \u001b[0mmask\u001b[0m\u001b[1;33m.\u001b[0m\u001b[0msum\u001b[0m\u001b[1;33m(\u001b[0m\u001b[1;33m)\u001b[0m \u001b[1;33m<\u001b[0m \u001b[0mlen\u001b[0m\u001b[1;33m(\u001b[0m\u001b[0mself\u001b[0m\u001b[1;33m.\u001b[0m\u001b[0mindex\u001b[0m\u001b[1;33m)\u001b[0m\u001b[1;33m:\u001b[0m\u001b[1;33m\u001b[0m\u001b[1;33m\u001b[0m\u001b[0m\n\u001b[1;32m--> 167\u001b[1;33m             \u001b[1;32mraise\u001b[0m \u001b[0mValueError\u001b[0m\u001b[1;33m(\u001b[0m\u001b[1;34m\"Index contains duplicate entries, cannot reshape\"\u001b[0m\u001b[1;33m)\u001b[0m\u001b[1;33m\u001b[0m\u001b[1;33m\u001b[0m\u001b[0m\n\u001b[0m\u001b[0;32m    168\u001b[0m \u001b[1;33m\u001b[0m\u001b[0m\n\u001b[0;32m    169\u001b[0m         \u001b[0mself\u001b[0m\u001b[1;33m.\u001b[0m\u001b[0mgroup_index\u001b[0m \u001b[1;33m=\u001b[0m \u001b[0mcomp_index\u001b[0m\u001b[1;33m\u001b[0m\u001b[1;33m\u001b[0m\u001b[0m\n",
      "\u001b[1;31mValueError\u001b[0m: Index contains duplicate entries, cannot reshape"
     ]
    }
   ],
   "source": [
    "df.pivot(index='Current assignees',columns='Sub-component')"
   ]
  },
  {
   "cell_type": "code",
   "execution_count": null,
   "id": "a8055e7c",
   "metadata": {},
   "outputs": [],
   "source": []
  },
  {
   "cell_type": "code",
   "execution_count": 3,
   "id": "a1b1e010",
   "metadata": {},
   "outputs": [],
   "source": [
    "df.drop(df.filter(regex=\"Unname\"),axis=1, inplace=True)"
   ]
  },
  {
   "cell_type": "code",
   "execution_count": 4,
   "id": "935a0aa3",
   "metadata": {},
   "outputs": [],
   "source": [
    "df.rename(columns = {'Phase ':'Phase'}, inplace = True)"
   ]
  },
  {
   "cell_type": "code",
   "execution_count": 5,
   "id": "70d238fe",
   "metadata": {},
   "outputs": [],
   "source": [
    "df.reset_index(drop=True, inplace=True)"
   ]
  },
  {
   "cell_type": "code",
   "execution_count": 6,
   "id": "b923423e",
   "metadata": {},
   "outputs": [
    {
     "name": "stdout",
     "output_type": "stream",
     "text": [
      "<class 'pandas.core.frame.DataFrame'>\n",
      "RangeIndex: 100 entries, 0 to 99\n",
      "Data columns (total 27 columns):\n",
      " #   Column                  Non-Null Count  Dtype         \n",
      "---  ------                  --------------  -----         \n",
      " 0   Fam. No.                100 non-null    int64         \n",
      " 1   Publication no          100 non-null    object        \n",
      " 2   Current assignees       100 non-null    object        \n",
      " 3   Player Type             100 non-null    object        \n",
      " 4   XX Rating               100 non-null    int64         \n",
      " 5   Sub-component           100 non-null    object        \n",
      " 6   Uniqueness              100 non-null    object        \n",
      " 7   Impact/Benefit          100 non-null    object        \n",
      " 8   AC/DC Motor             23 non-null     object        \n",
      " 9   Phase                   31 non-null     object        \n",
      " 10  MOTOR Type              19 non-null     object        \n",
      " 11  Winding config          1 non-null      object        \n",
      " 12  Hairpin                 8 non-null      object        \n",
      " 13  Flux                    2 non-null      object        \n",
      " 14  Cooling Passage         15 non-null     object        \n",
      " 15  Coolant guide           4 non-null      object        \n",
      " 16  Cooling Type            48 non-null     object        \n",
      " 17  Motor Position          17 non-null     object        \n",
      " 18  Family legal status     100 non-null    object        \n",
      " 19  Geography Count         100 non-null    int64         \n",
      " 20  Cit Count               100 non-null    int64         \n",
      " 21  Claim Count             100 non-null    int64         \n",
      " 22  Priority Country        100 non-null    object        \n",
      " 23  Overall Rating          100 non-null    float64       \n",
      " 24  Inventors               100 non-null    object        \n",
      " 25  Earliest priority date  100 non-null    datetime64[ns]\n",
      " 26  Application dates       100 non-null    datetime64[ns]\n",
      "dtypes: datetime64[ns](2), float64(1), int64(5), object(19)\n",
      "memory usage: 21.2+ KB\n"
     ]
    }
   ],
   "source": [
    "df.info()"
   ]
  },
  {
   "cell_type": "code",
   "execution_count": 7,
   "id": "b1d07598",
   "metadata": {},
   "outputs": [
    {
     "data": {
      "text/plain": [
       "Fam. No.                   0\n",
       "Publication no             0\n",
       "Current assignees          0\n",
       "Player Type                0\n",
       "XX Rating                  0\n",
       "Sub-component              0\n",
       "Uniqueness                 0\n",
       "Impact/Benefit             0\n",
       "AC/DC Motor               77\n",
       "Phase                     69\n",
       "MOTOR Type                81\n",
       "Winding config            99\n",
       "Hairpin                   92\n",
       "Flux                      98\n",
       "Cooling Passage           85\n",
       "Coolant guide             96\n",
       "Cooling Type              52\n",
       "Motor Position            83\n",
       "Family legal status        0\n",
       "Geography Count            0\n",
       "Cit Count                  0\n",
       "Claim Count                0\n",
       "Priority Country           0\n",
       "Overall Rating             0\n",
       "Inventors                  0\n",
       "Earliest priority date     0\n",
       "Application dates          0\n",
       "dtype: int64"
      ]
     },
     "execution_count": 7,
     "metadata": {},
     "output_type": "execute_result"
    }
   ],
   "source": [
    "df.isnull().sum()"
   ]
  },
  {
   "cell_type": "code",
   "execution_count": 9,
   "id": "21e4083a",
   "metadata": {},
   "outputs": [
    {
     "data": {
      "text/plain": [
       "(100, 27)"
      ]
     },
     "execution_count": 9,
     "metadata": {},
     "output_type": "execute_result"
    }
   ],
   "source": [
    "df.shape"
   ]
  },
  {
   "cell_type": "code",
   "execution_count": 10,
   "id": "f54173e0",
   "metadata": {},
   "outputs": [
    {
     "data": {
      "text/plain": [
       "Fam. No.                           int64\n",
       "Publication no                    object\n",
       "Current assignees                 object\n",
       "Player Type                       object\n",
       "XX Rating                          int64\n",
       "Sub-component                     object\n",
       "Uniqueness                        object\n",
       "Impact/Benefit                    object\n",
       "AC/DC Motor                       object\n",
       "Phase                             object\n",
       "MOTOR Type                        object\n",
       "Winding config                    object\n",
       "Hairpin                           object\n",
       "Flux                              object\n",
       "Cooling Passage                   object\n",
       "Coolant guide                     object\n",
       "Cooling Type                      object\n",
       "Motor Position                    object\n",
       "Family legal status               object\n",
       "Geography Count                    int64\n",
       "Cit Count                          int64\n",
       "Claim Count                        int64\n",
       "Priority Country                  object\n",
       "Overall Rating                   float64\n",
       "Inventors                         object\n",
       "Earliest priority date    datetime64[ns]\n",
       "Application dates         datetime64[ns]\n",
       "dtype: object"
      ]
     },
     "execution_count": 10,
     "metadata": {},
     "output_type": "execute_result"
    }
   ],
   "source": [
    "df.dtypes"
   ]
  },
  {
   "cell_type": "code",
   "execution_count": 11,
   "id": "31a4d06a",
   "metadata": {},
   "outputs": [
    {
     "data": {
      "text/html": [
       "<div>\n",
       "<style scoped>\n",
       "    .dataframe tbody tr th:only-of-type {\n",
       "        vertical-align: middle;\n",
       "    }\n",
       "\n",
       "    .dataframe tbody tr th {\n",
       "        vertical-align: top;\n",
       "    }\n",
       "\n",
       "    .dataframe thead th {\n",
       "        text-align: right;\n",
       "    }\n",
       "</style>\n",
       "<table border=\"1\" class=\"dataframe\">\n",
       "  <thead>\n",
       "    <tr style=\"text-align: right;\">\n",
       "      <th></th>\n",
       "      <th>Fam. No.</th>\n",
       "      <th>XX Rating</th>\n",
       "      <th>Geography Count</th>\n",
       "      <th>Cit Count</th>\n",
       "      <th>Claim Count</th>\n",
       "      <th>Overall Rating</th>\n",
       "    </tr>\n",
       "  </thead>\n",
       "  <tbody>\n",
       "    <tr>\n",
       "      <th>count</th>\n",
       "      <td>100.000000</td>\n",
       "      <td>100.000000</td>\n",
       "      <td>100.000000</td>\n",
       "      <td>100.000000</td>\n",
       "      <td>100.000000</td>\n",
       "      <td>100.000000</td>\n",
       "    </tr>\n",
       "    <tr>\n",
       "      <th>mean</th>\n",
       "      <td>50.500000</td>\n",
       "      <td>3.340000</td>\n",
       "      <td>2.270000</td>\n",
       "      <td>5.390000</td>\n",
       "      <td>1.610000</td>\n",
       "      <td>2.803500</td>\n",
       "    </tr>\n",
       "    <tr>\n",
       "      <th>std</th>\n",
       "      <td>29.011492</td>\n",
       "      <td>0.535978</td>\n",
       "      <td>1.117853</td>\n",
       "      <td>5.086911</td>\n",
       "      <td>0.851558</td>\n",
       "      <td>0.326541</td>\n",
       "    </tr>\n",
       "    <tr>\n",
       "      <th>min</th>\n",
       "      <td>1.000000</td>\n",
       "      <td>3.000000</td>\n",
       "      <td>1.000000</td>\n",
       "      <td>0.000000</td>\n",
       "      <td>1.000000</td>\n",
       "      <td>2.050000</td>\n",
       "    </tr>\n",
       "    <tr>\n",
       "      <th>25%</th>\n",
       "      <td>25.750000</td>\n",
       "      <td>3.000000</td>\n",
       "      <td>1.000000</td>\n",
       "      <td>1.000000</td>\n",
       "      <td>1.000000</td>\n",
       "      <td>2.600000</td>\n",
       "    </tr>\n",
       "    <tr>\n",
       "      <th>50%</th>\n",
       "      <td>50.500000</td>\n",
       "      <td>3.000000</td>\n",
       "      <td>2.000000</td>\n",
       "      <td>5.000000</td>\n",
       "      <td>1.000000</td>\n",
       "      <td>2.750000</td>\n",
       "    </tr>\n",
       "    <tr>\n",
       "      <th>75%</th>\n",
       "      <td>75.250000</td>\n",
       "      <td>4.000000</td>\n",
       "      <td>3.000000</td>\n",
       "      <td>8.000000</td>\n",
       "      <td>2.000000</td>\n",
       "      <td>3.050000</td>\n",
       "    </tr>\n",
       "    <tr>\n",
       "      <th>max</th>\n",
       "      <td>100.000000</td>\n",
       "      <td>5.000000</td>\n",
       "      <td>6.000000</td>\n",
       "      <td>24.000000</td>\n",
       "      <td>4.000000</td>\n",
       "      <td>3.600000</td>\n",
       "    </tr>\n",
       "  </tbody>\n",
       "</table>\n",
       "</div>"
      ],
      "text/plain": [
       "         Fam. No.   XX Rating  Geography Count   Cit Count  Claim Count  \\\n",
       "count  100.000000  100.000000       100.000000  100.000000   100.000000   \n",
       "mean    50.500000    3.340000         2.270000    5.390000     1.610000   \n",
       "std     29.011492    0.535978         1.117853    5.086911     0.851558   \n",
       "min      1.000000    3.000000         1.000000    0.000000     1.000000   \n",
       "25%     25.750000    3.000000         1.000000    1.000000     1.000000   \n",
       "50%     50.500000    3.000000         2.000000    5.000000     1.000000   \n",
       "75%     75.250000    4.000000         3.000000    8.000000     2.000000   \n",
       "max    100.000000    5.000000         6.000000   24.000000     4.000000   \n",
       "\n",
       "       Overall Rating  \n",
       "count      100.000000  \n",
       "mean         2.803500  \n",
       "std          0.326541  \n",
       "min          2.050000  \n",
       "25%          2.600000  \n",
       "50%          2.750000  \n",
       "75%          3.050000  \n",
       "max          3.600000  "
      ]
     },
     "execution_count": 11,
     "metadata": {},
     "output_type": "execute_result"
    }
   ],
   "source": [
    "df.describe()"
   ]
  },
  {
   "cell_type": "code",
   "execution_count": 12,
   "id": "c1e82d5c",
   "metadata": {},
   "outputs": [
    {
     "data": {
      "text/plain": [
       "Index(['Fam. No.', 'Publication no', 'Current assignees', 'Player Type',\n",
       "       'XX Rating', 'Sub-component', 'Uniqueness', 'Impact/Benefit',\n",
       "       'AC/DC Motor', 'Phase', 'MOTOR Type', 'Winding config', 'Hairpin',\n",
       "       'Flux', 'Cooling Passage', 'Coolant guide', 'Cooling Type',\n",
       "       'Motor Position', 'Family legal status', 'Geography Count', 'Cit Count',\n",
       "       'Claim Count', 'Priority Country', 'Overall Rating', 'Inventors',\n",
       "       'Earliest priority date', 'Application dates'],\n",
       "      dtype='object')"
      ]
     },
     "execution_count": 12,
     "metadata": {},
     "output_type": "execute_result"
    }
   ],
   "source": [
    "df.columns"
   ]
  },
  {
   "cell_type": "code",
   "execution_count": 9,
   "id": "8d19b8f2",
   "metadata": {},
   "outputs": [
    {
     "data": {
      "image/png": "[encoded data removed]",
      "text/plain": [
       "<Figure size 720x576 with 1 Axes>"
      ]
     },
     "metadata": {},
     "output_type": "display_data"
    }
   ],
   "source": [
    "df.groupby(['Priority Country']).sum().plot(kind='pie', y='Overall Rating', autopct='%1.0f%%')\n",
    "\n",
    "import matplotlib.pyplot as plt\n",
    "fig = plt.gcf()\n",
    "fig.set_size_inches(10, 8)\n",
    "fig.savefig('test2png.png', dpi=100)"
   ]
  },
  {
   "cell_type": "code",
   "execution_count": 10,
   "id": "07039f76",
   "metadata": {},
   "outputs": [
    {
     "name": "stdout",
     "output_type": "stream",
     "text": [
      "Enter Current assigneesHONDA MOTOR\n"
     ]
    },
    {
     "data": {
      "image/png": "[encoded data removed]",
      "text/plain": [
       "<Figure size 432x288 with 1 Axes>"
      ]
     },
     "metadata": {
      "needs_background": "light"
     },
     "output_type": "display_data"
    }
   ],
   "source": [
    "x=input('Enter Current assignees')\n",
    "if (df['Current assignees'] == 'HONDA MOTOR').any() :\n",
    "        hm=df[(df['Current assignees'] == 'HONDA MOTOR')][\"Sub-component\"]\n",
    "        hm = hm.tolist()\n",
    "        y={}\n",
    "        for i in hm:\n",
    "            y[i]=hm.count(i)\n",
    "        plt.bar(range(len(y)), list(y.values()), align='center')\n",
    "        plt.xticks(range(len(y)), list(y.keys()))\n",
    "\n",
    "        plt.xticks(rotation=60)\n",
    "        plt.show()"
   ]
  },
  {
   "cell_type": "code",
   "execution_count": 30,
   "id": "2898f6da",
   "metadata": {
    "scrolled": true
   },
   "outputs": [
    {
     "data": {
      "text/plain": [
       "HONDA MOTOR              36\n",
       "HITACHI                  10\n",
       "FORD                     10\n",
       "DAIMLER                   9\n",
       "BYD                       8\n",
       "HYUNDAI|KIA               6\n",
       "DANA                      4\n",
       "TOYOTA                    2\n",
       "NIDEC                     2\n",
       "CONTINENTAL               2\n",
       "FAW                       2\n",
       "HONDA MOTOR  |HITACHI     1\n",
       "VOLKSWAGEN                1\n",
       "HYUNDAI                   1\n",
       "BORGWARNER                1\n",
       "GM                        1\n",
       "VITESCO                   1\n",
       "NISSAN                    1\n",
       "DENSO  |TOYOTA            1\n",
       "RENAULT  |NISSAN          1\n",
       "Name: Current assignees, dtype: int64"
      ]
     },
     "execution_count": 30,
     "metadata": {},
     "output_type": "execute_result"
    }
   ],
   "source": [
    "df['Current assignees'].value_counts()"
   ]
  },
  {
   "cell_type": "code",
   "execution_count": 34,
   "id": "34274414",
   "metadata": {},
   "outputs": [
    {
     "data": {
      "text/plain": [
       "MOTOR COOLING               39\n",
       "STATOR                      17\n",
       "ROTOR                        8\n",
       "MOTOR CASING                 7\n",
       "MOTOR WINDING                5\n",
       "MOTOR CONTROL                5\n",
       "STATOR WINDING               4\n",
       "STATOR                       3\n",
       "Winding                      2\n",
       "ROTOR MAGNET                 2\n",
       "Rotor                        1\n",
       "WINDINGS                     1\n",
       "MOTOR COUPLING               1\n",
       "OUTPUT SHAFT                 1\n",
       "ROTOR CORE                   1\n",
       "MOTOR BEARING                1\n",
       "ROTOR CORE | STATOR CORE     1\n",
       "SUPPORTING MEMBER            1\n",
       "Name: Sub-component, dtype: int64"
      ]
     },
     "execution_count": 34,
     "metadata": {},
     "output_type": "execute_result"
    }
   ],
   "source": [
    "df['Sub-component'].value_counts()"
   ]
  },
  {
   "cell_type": "markdown",
   "id": "23cac713",
   "metadata": {},
   "source": [
    "## HONDA MOTOR"
   ]
  },
  {
   "cell_type": "code",
   "execution_count": 11,
   "id": "3fd4de5d",
   "metadata": {},
   "outputs": [
    {
     "data": {
      "text/plain": [
       "{'MOTOR WINDING': 1,\n",
       " 'MOTOR COOLING': 22,\n",
       " 'MOTOR CONTROL': 4,\n",
       " 'STATOR ': 1,\n",
       " 'ROTOR': 1,\n",
       " 'OUTPUT SHAFT': 1,\n",
       " 'ROTOR MAGNET': 2,\n",
       " 'MOTOR COUPLING': 1,\n",
       " 'STATOR': 3}"
      ]
     },
     "execution_count": 11,
     "metadata": {},
     "output_type": "execute_result"
    }
   ],
   "source": [
    "y"
   ]
  },
  {
   "cell_type": "markdown",
   "id": "d4d5d512",
   "metadata": {},
   "source": [
    "## HITACHI"
   ]
  },
  {
   "cell_type": "code",
   "execution_count": 17,
   "id": "80fe6f40",
   "metadata": {},
   "outputs": [
    {
     "data": {
      "text/plain": [
       "{'MOTOR CASING': 2,\n",
       " 'STATOR': 2,\n",
       " 'ROTOR': 1,\n",
       " 'MOTOR WINDING': 1,\n",
       " 'ROTOR CORE': 1,\n",
       " 'MOTOR COOLING': 2,\n",
       " 'MOTOR CONTROL': 1}"
      ]
     },
     "execution_count": 17,
     "metadata": {},
     "output_type": "execute_result"
    }
   ],
   "source": [
    "hm=df[(df['Current assignees'] == 'HITACHI')][\"Sub-component\"]\n",
    "hm = hm.tolist()\n",
    "h={}\n",
    "for i in hm:\n",
    "    h[i]=hm.count(i)\n",
    "h"
   ]
  },
  {
   "cell_type": "code",
   "execution_count": 29,
   "id": "cbc9d5ae",
   "metadata": {},
   "outputs": [
    {
     "data": {
      "text/html": [
       "<div>\n",
       "<style scoped>\n",
       "    .dataframe tbody tr th:only-of-type {\n",
       "        vertical-align: middle;\n",
       "    }\n",
       "\n",
       "    .dataframe tbody tr th {\n",
       "        vertical-align: top;\n",
       "    }\n",
       "\n",
       "    .dataframe thead th {\n",
       "        text-align: right;\n",
       "    }\n",
       "</style>\n",
       "<table border=\"1\" class=\"dataframe\">\n",
       "  <thead>\n",
       "    <tr style=\"text-align: right;\">\n",
       "      <th></th>\n",
       "      <th>0</th>\n",
       "      <th>1</th>\n",
       "    </tr>\n",
       "  </thead>\n",
       "  <tbody>\n",
       "    <tr>\n",
       "      <th>0</th>\n",
       "      <td>MOTOR CASING</td>\n",
       "      <td>2</td>\n",
       "    </tr>\n",
       "    <tr>\n",
       "      <th>1</th>\n",
       "      <td>STATOR</td>\n",
       "      <td>2</td>\n",
       "    </tr>\n",
       "    <tr>\n",
       "      <th>2</th>\n",
       "      <td>ROTOR</td>\n",
       "      <td>1</td>\n",
       "    </tr>\n",
       "    <tr>\n",
       "      <th>3</th>\n",
       "      <td>MOTOR WINDING</td>\n",
       "      <td>1</td>\n",
       "    </tr>\n",
       "    <tr>\n",
       "      <th>4</th>\n",
       "      <td>ROTOR CORE</td>\n",
       "      <td>1</td>\n",
       "    </tr>\n",
       "    <tr>\n",
       "      <th>5</th>\n",
       "      <td>MOTOR COOLING</td>\n",
       "      <td>2</td>\n",
       "    </tr>\n",
       "    <tr>\n",
       "      <th>6</th>\n",
       "      <td>MOTOR CONTROL</td>\n",
       "      <td>1</td>\n",
       "    </tr>\n",
       "  </tbody>\n",
       "</table>\n",
       "</div>"
      ],
      "text/plain": [
       "               0  1\n",
       "0   MOTOR CASING  2\n",
       "1         STATOR  2\n",
       "2          ROTOR  1\n",
       "3  MOTOR WINDING  1\n",
       "4     ROTOR CORE  1\n",
       "5  MOTOR COOLING  2\n",
       "6  MOTOR CONTROL  1"
      ]
     },
     "execution_count": 29,
     "metadata": {},
     "output_type": "execute_result"
    }
   ],
   "source": [
    "a= pd.DataFrame(h.items())\n",
    "a"
   ]
  },
  {
   "cell_type": "markdown",
   "id": "50482491",
   "metadata": {},
   "source": [
    "## FORD"
   ]
  },
  {
   "cell_type": "code",
   "execution_count": 18,
   "id": "18e2d12b",
   "metadata": {},
   "outputs": [
    {
     "data": {
      "text/plain": [
       "{'STATOR WINDING': 1, 'ROTOR': 2, 'MOTOR WINDING': 3, 'STATOR': 4}"
      ]
     },
     "execution_count": 18,
     "metadata": {},
     "output_type": "execute_result"
    }
   ],
   "source": [
    "r=df[(df['Current assignees'] == 'FORD')][\"Sub-component\"]\n",
    "r = r.tolist()\n",
    "f={}\n",
    "for i in r:\n",
    "    f[i]=r.count(i)\n",
    "f"
   ]
  },
  {
   "cell_type": "code",
   "execution_count": 25,
   "id": "780cff8b",
   "metadata": {},
   "outputs": [
    {
     "data": {
      "text/html": [
       "<div>\n",
       "<style scoped>\n",
       "    .dataframe tbody tr th:only-of-type {\n",
       "        vertical-align: middle;\n",
       "    }\n",
       "\n",
       "    .dataframe tbody tr th {\n",
       "        vertical-align: top;\n",
       "    }\n",
       "\n",
       "    .dataframe thead th {\n",
       "        text-align: right;\n",
       "    }\n",
       "</style>\n",
       "<table border=\"1\" class=\"dataframe\">\n",
       "  <thead>\n",
       "    <tr style=\"text-align: right;\">\n",
       "      <th></th>\n",
       "      <th>0</th>\n",
       "      <th>1</th>\n",
       "    </tr>\n",
       "  </thead>\n",
       "  <tbody>\n",
       "    <tr>\n",
       "      <th>0</th>\n",
       "      <td>STATOR WINDING</td>\n",
       "      <td>1</td>\n",
       "    </tr>\n",
       "    <tr>\n",
       "      <th>1</th>\n",
       "      <td>ROTOR</td>\n",
       "      <td>2</td>\n",
       "    </tr>\n",
       "    <tr>\n",
       "      <th>2</th>\n",
       "      <td>MOTOR WINDING</td>\n",
       "      <td>3</td>\n",
       "    </tr>\n",
       "    <tr>\n",
       "      <th>3</th>\n",
       "      <td>STATOR</td>\n",
       "      <td>4</td>\n",
       "    </tr>\n",
       "  </tbody>\n",
       "</table>\n",
       "</div>"
      ],
      "text/plain": [
       "                0  1\n",
       "0  STATOR WINDING  1\n",
       "1           ROTOR  2\n",
       "2   MOTOR WINDING  3\n",
       "3          STATOR  4"
      ]
     },
     "execution_count": 25,
     "metadata": {},
     "output_type": "execute_result"
    }
   ],
   "source": [
    "d= pd.DataFrame(f.items())\n",
    "d"
   ]
  },
  {
   "cell_type": "code",
   "execution_count": 26,
   "id": "fb046dec",
   "metadata": {},
   "outputs": [],
   "source": [
    "d = d.set_index([0])"
   ]
  },
  {
   "cell_type": "code",
   "execution_count": 28,
   "id": "c49cbd88",
   "metadata": {},
   "outputs": [
    {
     "data": {
      "text/html": [
       "<div>\n",
       "<style scoped>\n",
       "    .dataframe tbody tr th:only-of-type {\n",
       "        vertical-align: middle;\n",
       "    }\n",
       "\n",
       "    .dataframe tbody tr th {\n",
       "        vertical-align: top;\n",
       "    }\n",
       "\n",
       "    .dataframe thead th {\n",
       "        text-align: right;\n",
       "    }\n",
       "</style>\n",
       "<table border=\"1\" class=\"dataframe\">\n",
       "  <thead>\n",
       "    <tr style=\"text-align: right;\">\n",
       "      <th></th>\n",
       "      <th>FORD</th>\n",
       "    </tr>\n",
       "    <tr>\n",
       "      <th>0</th>\n",
       "      <th></th>\n",
       "    </tr>\n",
       "  </thead>\n",
       "  <tbody>\n",
       "    <tr>\n",
       "      <th>STATOR WINDING</th>\n",
       "      <td>1</td>\n",
       "    </tr>\n",
       "    <tr>\n",
       "      <th>ROTOR</th>\n",
       "      <td>2</td>\n",
       "    </tr>\n",
       "    <tr>\n",
       "      <th>MOTOR WINDING</th>\n",
       "      <td>3</td>\n",
       "    </tr>\n",
       "    <tr>\n",
       "      <th>STATOR</th>\n",
       "      <td>4</td>\n",
       "    </tr>\n",
       "  </tbody>\n",
       "</table>\n",
       "</div>"
      ],
      "text/plain": [
       "                FORD\n",
       "0                   \n",
       "STATOR WINDING     1\n",
       "ROTOR              2\n",
       "MOTOR WINDING      3\n",
       "STATOR             4"
      ]
     },
     "execution_count": 28,
     "metadata": {},
     "output_type": "execute_result"
    }
   ],
   "source": [
    "d.columns = ['FORD']\n",
    "d"
   ]
  },
  {
   "cell_type": "markdown",
   "id": "2b03a3c4",
   "metadata": {},
   "source": [
    "## DAIMLER "
   ]
  },
  {
   "cell_type": "code",
   "execution_count": 43,
   "id": "e87915c5",
   "metadata": {},
   "outputs": [
    {
     "data": {
      "text/plain": [
       "{'STATOR': 3,\n",
       " 'ROTOR CORE | STATOR CORE': 1,\n",
       " 'WINDINGS': 1,\n",
       " 'MOTOR COOLING': 2,\n",
       " 'ROTOR': 1,\n",
       " 'STATOR ': 1}"
      ]
     },
     "execution_count": 43,
     "metadata": {},
     "output_type": "execute_result"
    }
   ],
   "source": [
    "d=df[(df['Current assignees'] == 'DAIMLER')][\"Sub-component\"]\n",
    "d = d.tolist()\n",
    "x={}\n",
    "for i in d:\n",
    "    x[i]=d.count(i)\n",
    "x"
   ]
  },
  {
   "cell_type": "markdown",
   "id": "1e2d8d77",
   "metadata": {},
   "source": [
    "## BYD"
   ]
  },
  {
   "cell_type": "code",
   "execution_count": 56,
   "id": "1a83aa73",
   "metadata": {},
   "outputs": [
    {
     "data": {
      "text/plain": [
       "{'MOTOR COOLING': 1, 'MOTOR CASING': 4, 'STATOR WINDING': 2, 'STATOR': 1}"
      ]
     },
     "execution_count": 56,
     "metadata": {},
     "output_type": "execute_result"
    }
   ],
   "source": [
    "d=df[(df['Current assignees'] == 'BYD')][\"Sub-component\"]\n",
    "d = d.tolist()\n",
    "x={}\n",
    "for i in d:\n",
    "    x[i]=d.count(i)\n",
    "x"
   ]
  },
  {
   "cell_type": "markdown",
   "id": "32d0b68b",
   "metadata": {},
   "source": [
    "## HYUNDAI|KIA"
   ]
  },
  {
   "cell_type": "code",
   "execution_count": 65,
   "id": "584445e2",
   "metadata": {},
   "outputs": [
    {
     "data": {
      "text/plain": [
       "{'STATOR ': 1, 'MOTOR COOLING': 4, 'MOTOR BEARING': 1}"
      ]
     },
     "execution_count": 65,
     "metadata": {},
     "output_type": "execute_result"
    }
   ],
   "source": [
    "d=df[(df['Current assignees'] == 'HYUNDAI|KIA')][\"Sub-component\"]\n",
    "d = d.tolist()\n",
    "x={}\n",
    "for i in d:\n",
    "    x[i]=d.count(i)\n",
    "x"
   ]
  },
  {
   "cell_type": "markdown",
   "id": "e799caf7",
   "metadata": {},
   "source": [
    "## DANA"
   ]
  },
  {
   "cell_type": "code",
   "execution_count": 66,
   "id": "ee412017",
   "metadata": {},
   "outputs": [
    {
     "data": {
      "text/plain": [
       "{'MOTOR COOLING': 2, 'STATOR WINDING': 1, 'STATOR': 1}"
      ]
     },
     "execution_count": 66,
     "metadata": {},
     "output_type": "execute_result"
    }
   ],
   "source": [
    "d=df[(df['Current assignees'] == 'DANA')][\"Sub-component\"]\n",
    "d = d.tolist()\n",
    "x={}\n",
    "for i in d:\n",
    "    x[i]=d.count(i)\n",
    "x"
   ]
  },
  {
   "cell_type": "markdown",
   "id": "b6ca779e",
   "metadata": {},
   "source": [
    "## TOYOTA"
   ]
  },
  {
   "cell_type": "code",
   "execution_count": 75,
   "id": "6998d848",
   "metadata": {},
   "outputs": [
    {
     "data": {
      "text/plain": [
       "{'SUPPORTING MEMBER': 1, 'MOTOR COOLING': 1}"
      ]
     },
     "execution_count": 75,
     "metadata": {},
     "output_type": "execute_result"
    }
   ],
   "source": [
    "d=df[(df['Current assignees'] == 'TOYOTA')][\"Sub-component\"]\n",
    "d = d.tolist()\n",
    "x={}\n",
    "for i in d:\n",
    "    x[i]=d.count(i)\n",
    "x"
   ]
  },
  {
   "cell_type": "markdown",
   "id": "b8a4bf18",
   "metadata": {},
   "source": [
    "## NIDEC"
   ]
  },
  {
   "cell_type": "code",
   "execution_count": 79,
   "id": "0825c025",
   "metadata": {},
   "outputs": [
    {
     "data": {
      "text/plain": [
       "{'Winding': 2}"
      ]
     },
     "execution_count": 79,
     "metadata": {},
     "output_type": "execute_result"
    }
   ],
   "source": [
    "d=df[(df['Current assignees'] == 'NIDEC')][\"Sub-component\"]\n",
    "d = d.tolist()\n",
    "x={}\n",
    "for i in d:\n",
    "    x[i]=d.count(i)\n",
    "x"
   ]
  },
  {
   "cell_type": "markdown",
   "id": "3bf02b59",
   "metadata": {},
   "source": [
    "## CONTINENTAL"
   ]
  },
  {
   "cell_type": "code",
   "execution_count": 87,
   "id": "67a153ce",
   "metadata": {},
   "outputs": [
    {
     "data": {
      "text/plain": [
       "{'MOTOR COOLING': 1, 'ROTOR': 1}"
      ]
     },
     "execution_count": 87,
     "metadata": {},
     "output_type": "execute_result"
    }
   ],
   "source": [
    "d=df[(df['Current assignees'] == 'CONTINENTAL')][\"Sub-component\"]\n",
    "d = d.tolist()\n",
    "x={}\n",
    "for i in d:\n",
    "    x[i]=d.count(i)\n",
    "x"
   ]
  },
  {
   "cell_type": "markdown",
   "id": "7bfd71f2",
   "metadata": {},
   "source": [
    "## FAW "
   ]
  },
  {
   "cell_type": "code",
   "execution_count": 88,
   "id": "542b8fa8",
   "metadata": {},
   "outputs": [
    {
     "data": {
      "text/plain": [
       "{}"
      ]
     },
     "execution_count": 88,
     "metadata": {},
     "output_type": "execute_result"
    }
   ],
   "source": [
    "d=df[(df['Current assignees'] == 'FAW ')][\"Sub-component\"]\n",
    "d = d.tolist()\n",
    "x={}\n",
    "for i in d:\n",
    "    x[i]=d.count(i)\n",
    "x"
   ]
  },
  {
   "cell_type": "markdown",
   "id": "3cdadd42",
   "metadata": {},
   "source": [
    "## HONDA MOTOR  |HITACHI"
   ]
  },
  {
   "cell_type": "code",
   "execution_count": 89,
   "id": "c4f4c197",
   "metadata": {},
   "outputs": [
    {
     "data": {
      "text/plain": [
       "{'MOTOR COOLING': 1}"
      ]
     },
     "execution_count": 89,
     "metadata": {},
     "output_type": "execute_result"
    }
   ],
   "source": [
    "d=df[(df['Current assignees'] == 'HONDA MOTOR  |HITACHI')][\"Sub-component\"]\n",
    "d = d.tolist()\n",
    "x={}\n",
    "for i in d:\n",
    "    x[i]=d.count(i)\n",
    "x"
   ]
  },
  {
   "cell_type": "markdown",
   "id": "767e0665",
   "metadata": {},
   "source": [
    "## VOLKSWAGEN"
   ]
  },
  {
   "cell_type": "code",
   "execution_count": 90,
   "id": "747ef54d",
   "metadata": {},
   "outputs": [
    {
     "data": {
      "text/plain": [
       "{'MOTOR COOLING': 1}"
      ]
     },
     "execution_count": 90,
     "metadata": {},
     "output_type": "execute_result"
    }
   ],
   "source": [
    "d=df[(df['Current assignees'] == 'VOLKSWAGEN')][\"Sub-component\"]\n",
    "d = d.tolist()\n",
    "x={}\n",
    "for i in d:\n",
    "    x[i]=d.count(i)\n",
    "x"
   ]
  },
  {
   "cell_type": "markdown",
   "id": "0649bb1d",
   "metadata": {},
   "source": [
    "## HYUNDAI"
   ]
  },
  {
   "cell_type": "code",
   "execution_count": 91,
   "id": "b315de01",
   "metadata": {},
   "outputs": [
    {
     "data": {
      "text/plain": [
       "{'MOTOR COOLING': 1}"
      ]
     },
     "execution_count": 91,
     "metadata": {},
     "output_type": "execute_result"
    }
   ],
   "source": [
    "d=df[(df['Current assignees'] == 'HYUNDAI')][\"Sub-component\"]\n",
    "d = d.tolist()\n",
    "x={}\n",
    "for i in d:\n",
    "    x[i]=d.count(i)\n",
    "x"
   ]
  },
  {
   "cell_type": "markdown",
   "id": "ab62c26f",
   "metadata": {},
   "source": [
    "## BORGWARNER"
   ]
  },
  {
   "cell_type": "code",
   "execution_count": 92,
   "id": "da793b44",
   "metadata": {},
   "outputs": [
    {
     "data": {
      "text/plain": [
       "{'STATOR': 1}"
      ]
     },
     "execution_count": 92,
     "metadata": {},
     "output_type": "execute_result"
    }
   ],
   "source": [
    "d=df[(df['Current assignees'] == 'BORGWARNER')][\"Sub-component\"]\n",
    "d = d.tolist()\n",
    "x={}\n",
    "for i in d:\n",
    "    x[i]=d.count(i)\n",
    "x"
   ]
  },
  {
   "cell_type": "markdown",
   "id": "005b3dc7",
   "metadata": {},
   "source": [
    "## GM"
   ]
  },
  {
   "cell_type": "code",
   "execution_count": 93,
   "id": "61583648",
   "metadata": {},
   "outputs": [
    {
     "data": {
      "text/plain": [
       "{'Rotor': 1}"
      ]
     },
     "execution_count": 93,
     "metadata": {},
     "output_type": "execute_result"
    }
   ],
   "source": [
    "d=df[(df['Current assignees'] == 'GM')][\"Sub-component\"]\n",
    "d = d.tolist()\n",
    "x={}\n",
    "for i in d:\n",
    "    x[i]=d.count(i)\n",
    "x"
   ]
  },
  {
   "cell_type": "markdown",
   "id": "f59594f1",
   "metadata": {},
   "source": [
    "## VITESCO"
   ]
  },
  {
   "cell_type": "code",
   "execution_count": 95,
   "id": "614158b9",
   "metadata": {},
   "outputs": [
    {
     "data": {
      "text/plain": [
       "{'ROTOR': 1}"
      ]
     },
     "execution_count": 95,
     "metadata": {},
     "output_type": "execute_result"
    }
   ],
   "source": [
    "d=df[(df['Current assignees'] == 'VITESCO')][\"Sub-component\"]\n",
    "d = d.tolist()\n",
    "x={}\n",
    "for i in d:\n",
    "    x[i]=d.count(i)\n",
    "x"
   ]
  },
  {
   "cell_type": "markdown",
   "id": "9710efb9",
   "metadata": {},
   "source": [
    "## NISSAN"
   ]
  },
  {
   "cell_type": "code",
   "execution_count": 94,
   "id": "4247f8b3",
   "metadata": {},
   "outputs": [
    {
     "data": {
      "text/plain": [
       "{'MOTOR COOLING': 1}"
      ]
     },
     "execution_count": 94,
     "metadata": {},
     "output_type": "execute_result"
    }
   ],
   "source": [
    "d=df[(df['Current assignees'] == 'NISSAN')][\"Sub-component\"]\n",
    "d = d.tolist()\n",
    "x={}\n",
    "for i in d:\n",
    "    x[i]=d.count(i)\n",
    "x"
   ]
  },
  {
   "cell_type": "markdown",
   "id": "dd7232e3",
   "metadata": {},
   "source": [
    "## DENSO  |TOYOTA"
   ]
  },
  {
   "cell_type": "code",
   "execution_count": 96,
   "id": "cd7a118e",
   "metadata": {},
   "outputs": [
    {
     "data": {
      "text/plain": [
       "{}"
      ]
     },
     "execution_count": 96,
     "metadata": {},
     "output_type": "execute_result"
    }
   ],
   "source": [
    "d=df[(df['Current assignees'] == 'DENSO |TOYOTA')][\"Sub-component\"]\n",
    "d = d.tolist()\n",
    "x={}\n",
    "for i in d:\n",
    "    x[i]=d.count(i)\n",
    "x"
   ]
  },
  {
   "cell_type": "markdown",
   "id": "27f50a65",
   "metadata": {},
   "source": [
    "## RENAULT  |NISSAN"
   ]
  },
  {
   "cell_type": "code",
   "execution_count": 97,
   "id": "a693870c",
   "metadata": {},
   "outputs": [
    {
     "data": {
      "text/plain": [
       "{'STATOR': 1}"
      ]
     },
     "execution_count": 97,
     "metadata": {},
     "output_type": "execute_result"
    }
   ],
   "source": [
    "d=df[(df['Current assignees'] == 'RENAULT  |NISSAN')][\"Sub-component\"]\n",
    "d = d.tolist()\n",
    "x={}\n",
    "for i in d:\n",
    "    x[i]=d.count(i)\n",
    "x"
   ]
  },
  {
   "cell_type": "code",
   "execution_count": null,
   "id": "d7459526",
   "metadata": {},
   "outputs": [],
   "source": []
  },
  {
   "cell_type": "code",
   "execution_count": null,
   "id": "f0b0e669",
   "metadata": {},
   "outputs": [],
   "source": []
  },
  {
   "cell_type": "code",
   "execution_count": null,
   "id": "fc650cc3",
   "metadata": {},
   "outputs": [],
   "source": []
  },
  {
   "cell_type": "code",
   "execution_count": 81,
   "id": "2278585f",
   "metadata": {},
   "outputs": [],
   "source": [
    "data = data.rename(columns={\"FAW,NIDEC\":\"NIDEC\"})"
   ]
  },
  {
   "cell_type": "code",
   "execution_count": 13,
   "id": "71b6afb9",
   "metadata": {},
   "outputs": [],
   "source": [
    "data=pd.DataFrame(index=['MOTOR COOLING','STATOR','ROTOR','MOTOR CASING','MOTOR CONTROL','MOTOR WINDING','STATOR WINDING','STATOR','ROTOR MAGNET','Winding','SUPPORTING MEMBER','WINDINGS','MOTOR BEARING','Rotor','ROTOR CORE','MOTOR COUPLING','ROTOR CORE | STATOR CORE','OUTPUT SHAFT'],columns=['HONDA MOTOR','HITACHI','FORD','DAIMLER','BYD','HYUNDAI|KIA','DANA','TOYOTA','FAW,NIDEC','CONTINENTAL','GM','BORGWARNER','DENSO_TOYOTA','VOLKSWAGEN','NISSAN','HONDA MOTOR_HITACHI','VITESCO','HYUNDAI','RENAULT_NISSAN'])"
   ]
  },
  {
   "cell_type": "code",
   "execution_count": 14,
   "id": "a9764f4a",
   "metadata": {},
   "outputs": [
    {
     "data": {
      "text/html": [
       "<div>\n",
       "<style scoped>\n",
       "    .dataframe tbody tr th:only-of-type {\n",
       "        vertical-align: middle;\n",
       "    }\n",
       "\n",
       "    .dataframe tbody tr th {\n",
       "        vertical-align: top;\n",
       "    }\n",
       "\n",
       "    .dataframe thead th {\n",
       "        text-align: right;\n",
       "    }\n",
       "</style>\n",
       "<table border=\"1\" class=\"dataframe\">\n",
       "  <thead>\n",
       "    <tr style=\"text-align: right;\">\n",
       "      <th></th>\n",
       "      <th>HONDA MOTOR</th>\n",
       "      <th>HITACHI</th>\n",
       "      <th>FORD</th>\n",
       "      <th>DAIMLER</th>\n",
       "      <th>BYD</th>\n",
       "      <th>HYUNDAI|KIA</th>\n",
       "      <th>DANA</th>\n",
       "      <th>TOYOTA</th>\n",
       "      <th>FAW,NIDEC</th>\n",
       "      <th>CONTINENTAL</th>\n",
       "      <th>GM</th>\n",
       "      <th>BORGWARNER</th>\n",
       "      <th>DENSO_TOYOTA</th>\n",
       "      <th>VOLKSWAGEN</th>\n",
       "      <th>NISSAN</th>\n",
       "      <th>HONDA MOTOR_HITACHI</th>\n",
       "      <th>VITESCO</th>\n",
       "      <th>HYUNDAI</th>\n",
       "      <th>RENAULT_NISSAN</th>\n",
       "    </tr>\n",
       "  </thead>\n",
       "  <tbody>\n",
       "    <tr>\n",
       "      <th>MOTOR COOLING</th>\n",
       "      <td>NaN</td>\n",
       "      <td>NaN</td>\n",
       "      <td>NaN</td>\n",
       "      <td>NaN</td>\n",
       "      <td>NaN</td>\n",
       "      <td>NaN</td>\n",
       "      <td>NaN</td>\n",
       "      <td>NaN</td>\n",
       "      <td>NaN</td>\n",
       "      <td>NaN</td>\n",
       "      <td>NaN</td>\n",
       "      <td>NaN</td>\n",
       "      <td>NaN</td>\n",
       "      <td>NaN</td>\n",
       "      <td>NaN</td>\n",
       "      <td>NaN</td>\n",
       "      <td>NaN</td>\n",
       "      <td>NaN</td>\n",
       "      <td>NaN</td>\n",
       "    </tr>\n",
       "    <tr>\n",
       "      <th>STATOR</th>\n",
       "      <td>NaN</td>\n",
       "      <td>NaN</td>\n",
       "      <td>NaN</td>\n",
       "      <td>NaN</td>\n",
       "      <td>NaN</td>\n",
       "      <td>NaN</td>\n",
       "      <td>NaN</td>\n",
       "      <td>NaN</td>\n",
       "      <td>NaN</td>\n",
       "      <td>NaN</td>\n",
       "      <td>NaN</td>\n",
       "      <td>NaN</td>\n",
       "      <td>NaN</td>\n",
       "      <td>NaN</td>\n",
       "      <td>NaN</td>\n",
       "      <td>NaN</td>\n",
       "      <td>NaN</td>\n",
       "      <td>NaN</td>\n",
       "      <td>NaN</td>\n",
       "    </tr>\n",
       "    <tr>\n",
       "      <th>ROTOR</th>\n",
       "      <td>NaN</td>\n",
       "      <td>NaN</td>\n",
       "      <td>NaN</td>\n",
       "      <td>NaN</td>\n",
       "      <td>NaN</td>\n",
       "      <td>NaN</td>\n",
       "      <td>NaN</td>\n",
       "      <td>NaN</td>\n",
       "      <td>NaN</td>\n",
       "      <td>NaN</td>\n",
       "      <td>NaN</td>\n",
       "      <td>NaN</td>\n",
       "      <td>NaN</td>\n",
       "      <td>NaN</td>\n",
       "      <td>NaN</td>\n",
       "      <td>NaN</td>\n",
       "      <td>NaN</td>\n",
       "      <td>NaN</td>\n",
       "      <td>NaN</td>\n",
       "    </tr>\n",
       "    <tr>\n",
       "      <th>MOTOR CASING</th>\n",
       "      <td>NaN</td>\n",
       "      <td>NaN</td>\n",
       "      <td>NaN</td>\n",
       "      <td>NaN</td>\n",
       "      <td>NaN</td>\n",
       "      <td>NaN</td>\n",
       "      <td>NaN</td>\n",
       "      <td>NaN</td>\n",
       "      <td>NaN</td>\n",
       "      <td>NaN</td>\n",
       "      <td>NaN</td>\n",
       "      <td>NaN</td>\n",
       "      <td>NaN</td>\n",
       "      <td>NaN</td>\n",
       "      <td>NaN</td>\n",
       "      <td>NaN</td>\n",
       "      <td>NaN</td>\n",
       "      <td>NaN</td>\n",
       "      <td>NaN</td>\n",
       "    </tr>\n",
       "    <tr>\n",
       "      <th>MOTOR CONTROL</th>\n",
       "      <td>NaN</td>\n",
       "      <td>NaN</td>\n",
       "      <td>NaN</td>\n",
       "      <td>NaN</td>\n",
       "      <td>NaN</td>\n",
       "      <td>NaN</td>\n",
       "      <td>NaN</td>\n",
       "      <td>NaN</td>\n",
       "      <td>NaN</td>\n",
       "      <td>NaN</td>\n",
       "      <td>NaN</td>\n",
       "      <td>NaN</td>\n",
       "      <td>NaN</td>\n",
       "      <td>NaN</td>\n",
       "      <td>NaN</td>\n",
       "      <td>NaN</td>\n",
       "      <td>NaN</td>\n",
       "      <td>NaN</td>\n",
       "      <td>NaN</td>\n",
       "    </tr>\n",
       "    <tr>\n",
       "      <th>MOTOR WINDING</th>\n",
       "      <td>NaN</td>\n",
       "      <td>NaN</td>\n",
       "      <td>NaN</td>\n",
       "      <td>NaN</td>\n",
       "      <td>NaN</td>\n",
       "      <td>NaN</td>\n",
       "      <td>NaN</td>\n",
       "      <td>NaN</td>\n",
       "      <td>NaN</td>\n",
       "      <td>NaN</td>\n",
       "      <td>NaN</td>\n",
       "      <td>NaN</td>\n",
       "      <td>NaN</td>\n",
       "      <td>NaN</td>\n",
       "      <td>NaN</td>\n",
       "      <td>NaN</td>\n",
       "      <td>NaN</td>\n",
       "      <td>NaN</td>\n",
       "      <td>NaN</td>\n",
       "    </tr>\n",
       "    <tr>\n",
       "      <th>STATOR WINDING</th>\n",
       "      <td>NaN</td>\n",
       "      <td>NaN</td>\n",
       "      <td>NaN</td>\n",
       "      <td>NaN</td>\n",
       "      <td>NaN</td>\n",
       "      <td>NaN</td>\n",
       "      <td>NaN</td>\n",
       "      <td>NaN</td>\n",
       "      <td>NaN</td>\n",
       "      <td>NaN</td>\n",
       "      <td>NaN</td>\n",
       "      <td>NaN</td>\n",
       "      <td>NaN</td>\n",
       "      <td>NaN</td>\n",
       "      <td>NaN</td>\n",
       "      <td>NaN</td>\n",
       "      <td>NaN</td>\n",
       "      <td>NaN</td>\n",
       "      <td>NaN</td>\n",
       "    </tr>\n",
       "    <tr>\n",
       "      <th>STATOR</th>\n",
       "      <td>NaN</td>\n",
       "      <td>NaN</td>\n",
       "      <td>NaN</td>\n",
       "      <td>NaN</td>\n",
       "      <td>NaN</td>\n",
       "      <td>NaN</td>\n",
       "      <td>NaN</td>\n",
       "      <td>NaN</td>\n",
       "      <td>NaN</td>\n",
       "      <td>NaN</td>\n",
       "      <td>NaN</td>\n",
       "      <td>NaN</td>\n",
       "      <td>NaN</td>\n",
       "      <td>NaN</td>\n",
       "      <td>NaN</td>\n",
       "      <td>NaN</td>\n",
       "      <td>NaN</td>\n",
       "      <td>NaN</td>\n",
       "      <td>NaN</td>\n",
       "    </tr>\n",
       "    <tr>\n",
       "      <th>ROTOR MAGNET</th>\n",
       "      <td>NaN</td>\n",
       "      <td>NaN</td>\n",
       "      <td>NaN</td>\n",
       "      <td>NaN</td>\n",
       "      <td>NaN</td>\n",
       "      <td>NaN</td>\n",
       "      <td>NaN</td>\n",
       "      <td>NaN</td>\n",
       "      <td>NaN</td>\n",
       "      <td>NaN</td>\n",
       "      <td>NaN</td>\n",
       "      <td>NaN</td>\n",
       "      <td>NaN</td>\n",
       "      <td>NaN</td>\n",
       "      <td>NaN</td>\n",
       "      <td>NaN</td>\n",
       "      <td>NaN</td>\n",
       "      <td>NaN</td>\n",
       "      <td>NaN</td>\n",
       "    </tr>\n",
       "    <tr>\n",
       "      <th>Winding</th>\n",
       "      <td>NaN</td>\n",
       "      <td>NaN</td>\n",
       "      <td>NaN</td>\n",
       "      <td>NaN</td>\n",
       "      <td>NaN</td>\n",
       "      <td>NaN</td>\n",
       "      <td>NaN</td>\n",
       "      <td>NaN</td>\n",
       "      <td>NaN</td>\n",
       "      <td>NaN</td>\n",
       "      <td>NaN</td>\n",
       "      <td>NaN</td>\n",
       "      <td>NaN</td>\n",
       "      <td>NaN</td>\n",
       "      <td>NaN</td>\n",
       "      <td>NaN</td>\n",
       "      <td>NaN</td>\n",
       "      <td>NaN</td>\n",
       "      <td>NaN</td>\n",
       "    </tr>\n",
       "    <tr>\n",
       "      <th>SUPPORTING MEMBER</th>\n",
       "      <td>NaN</td>\n",
       "      <td>NaN</td>\n",
       "      <td>NaN</td>\n",
       "      <td>NaN</td>\n",
       "      <td>NaN</td>\n",
       "      <td>NaN</td>\n",
       "      <td>NaN</td>\n",
       "      <td>NaN</td>\n",
       "      <td>NaN</td>\n",
       "      <td>NaN</td>\n",
       "      <td>NaN</td>\n",
       "      <td>NaN</td>\n",
       "      <td>NaN</td>\n",
       "      <td>NaN</td>\n",
       "      <td>NaN</td>\n",
       "      <td>NaN</td>\n",
       "      <td>NaN</td>\n",
       "      <td>NaN</td>\n",
       "      <td>NaN</td>\n",
       "    </tr>\n",
       "    <tr>\n",
       "      <th>WINDINGS</th>\n",
       "      <td>NaN</td>\n",
       "      <td>NaN</td>\n",
       "      <td>NaN</td>\n",
       "      <td>NaN</td>\n",
       "      <td>NaN</td>\n",
       "      <td>NaN</td>\n",
       "      <td>NaN</td>\n",
       "      <td>NaN</td>\n",
       "      <td>NaN</td>\n",
       "      <td>NaN</td>\n",
       "      <td>NaN</td>\n",
       "      <td>NaN</td>\n",
       "      <td>NaN</td>\n",
       "      <td>NaN</td>\n",
       "      <td>NaN</td>\n",
       "      <td>NaN</td>\n",
       "      <td>NaN</td>\n",
       "      <td>NaN</td>\n",
       "      <td>NaN</td>\n",
       "    </tr>\n",
       "    <tr>\n",
       "      <th>MOTOR BEARING</th>\n",
       "      <td>NaN</td>\n",
       "      <td>NaN</td>\n",
       "      <td>NaN</td>\n",
       "      <td>NaN</td>\n",
       "      <td>NaN</td>\n",
       "      <td>NaN</td>\n",
       "      <td>NaN</td>\n",
       "      <td>NaN</td>\n",
       "      <td>NaN</td>\n",
       "      <td>NaN</td>\n",
       "      <td>NaN</td>\n",
       "      <td>NaN</td>\n",
       "      <td>NaN</td>\n",
       "      <td>NaN</td>\n",
       "      <td>NaN</td>\n",
       "      <td>NaN</td>\n",
       "      <td>NaN</td>\n",
       "      <td>NaN</td>\n",
       "      <td>NaN</td>\n",
       "    </tr>\n",
       "    <tr>\n",
       "      <th>Rotor</th>\n",
       "      <td>NaN</td>\n",
       "      <td>NaN</td>\n",
       "      <td>NaN</td>\n",
       "      <td>NaN</td>\n",
       "      <td>NaN</td>\n",
       "      <td>NaN</td>\n",
       "      <td>NaN</td>\n",
       "      <td>NaN</td>\n",
       "      <td>NaN</td>\n",
       "      <td>NaN</td>\n",
       "      <td>NaN</td>\n",
       "      <td>NaN</td>\n",
       "      <td>NaN</td>\n",
       "      <td>NaN</td>\n",
       "      <td>NaN</td>\n",
       "      <td>NaN</td>\n",
       "      <td>NaN</td>\n",
       "      <td>NaN</td>\n",
       "      <td>NaN</td>\n",
       "    </tr>\n",
       "    <tr>\n",
       "      <th>ROTOR CORE</th>\n",
       "      <td>NaN</td>\n",
       "      <td>NaN</td>\n",
       "      <td>NaN</td>\n",
       "      <td>NaN</td>\n",
       "      <td>NaN</td>\n",
       "      <td>NaN</td>\n",
       "      <td>NaN</td>\n",
       "      <td>NaN</td>\n",
       "      <td>NaN</td>\n",
       "      <td>NaN</td>\n",
       "      <td>NaN</td>\n",
       "      <td>NaN</td>\n",
       "      <td>NaN</td>\n",
       "      <td>NaN</td>\n",
       "      <td>NaN</td>\n",
       "      <td>NaN</td>\n",
       "      <td>NaN</td>\n",
       "      <td>NaN</td>\n",
       "      <td>NaN</td>\n",
       "    </tr>\n",
       "    <tr>\n",
       "      <th>MOTOR COUPLING</th>\n",
       "      <td>NaN</td>\n",
       "      <td>NaN</td>\n",
       "      <td>NaN</td>\n",
       "      <td>NaN</td>\n",
       "      <td>NaN</td>\n",
       "      <td>NaN</td>\n",
       "      <td>NaN</td>\n",
       "      <td>NaN</td>\n",
       "      <td>NaN</td>\n",
       "      <td>NaN</td>\n",
       "      <td>NaN</td>\n",
       "      <td>NaN</td>\n",
       "      <td>NaN</td>\n",
       "      <td>NaN</td>\n",
       "      <td>NaN</td>\n",
       "      <td>NaN</td>\n",
       "      <td>NaN</td>\n",
       "      <td>NaN</td>\n",
       "      <td>NaN</td>\n",
       "    </tr>\n",
       "    <tr>\n",
       "      <th>ROTOR CORE | STATOR CORE</th>\n",
       "      <td>NaN</td>\n",
       "      <td>NaN</td>\n",
       "      <td>NaN</td>\n",
       "      <td>NaN</td>\n",
       "      <td>NaN</td>\n",
       "      <td>NaN</td>\n",
       "      <td>NaN</td>\n",
       "      <td>NaN</td>\n",
       "      <td>NaN</td>\n",
       "      <td>NaN</td>\n",
       "      <td>NaN</td>\n",
       "      <td>NaN</td>\n",
       "      <td>NaN</td>\n",
       "      <td>NaN</td>\n",
       "      <td>NaN</td>\n",
       "      <td>NaN</td>\n",
       "      <td>NaN</td>\n",
       "      <td>NaN</td>\n",
       "      <td>NaN</td>\n",
       "    </tr>\n",
       "    <tr>\n",
       "      <th>OUTPUT SHAFT</th>\n",
       "      <td>NaN</td>\n",
       "      <td>NaN</td>\n",
       "      <td>NaN</td>\n",
       "      <td>NaN</td>\n",
       "      <td>NaN</td>\n",
       "      <td>NaN</td>\n",
       "      <td>NaN</td>\n",
       "      <td>NaN</td>\n",
       "      <td>NaN</td>\n",
       "      <td>NaN</td>\n",
       "      <td>NaN</td>\n",
       "      <td>NaN</td>\n",
       "      <td>NaN</td>\n",
       "      <td>NaN</td>\n",
       "      <td>NaN</td>\n",
       "      <td>NaN</td>\n",
       "      <td>NaN</td>\n",
       "      <td>NaN</td>\n",
       "      <td>NaN</td>\n",
       "    </tr>\n",
       "  </tbody>\n",
       "</table>\n",
       "</div>"
      ],
      "text/plain": [
       "                         HONDA MOTOR HITACHI FORD DAIMLER  BYD HYUNDAI|KIA  \\\n",
       "MOTOR COOLING                    NaN     NaN  NaN     NaN  NaN         NaN   \n",
       "STATOR                           NaN     NaN  NaN     NaN  NaN         NaN   \n",
       "ROTOR                            NaN     NaN  NaN     NaN  NaN         NaN   \n",
       "MOTOR CASING                     NaN     NaN  NaN     NaN  NaN         NaN   \n",
       "MOTOR CONTROL                    NaN     NaN  NaN     NaN  NaN         NaN   \n",
       "MOTOR WINDING                    NaN     NaN  NaN     NaN  NaN         NaN   \n",
       "STATOR WINDING                   NaN     NaN  NaN     NaN  NaN         NaN   \n",
       "STATOR                           NaN     NaN  NaN     NaN  NaN         NaN   \n",
       "ROTOR MAGNET                     NaN     NaN  NaN     NaN  NaN         NaN   \n",
       "Winding                          NaN     NaN  NaN     NaN  NaN         NaN   \n",
       "SUPPORTING MEMBER                NaN     NaN  NaN     NaN  NaN         NaN   \n",
       "WINDINGS                         NaN     NaN  NaN     NaN  NaN         NaN   \n",
       "MOTOR BEARING                    NaN     NaN  NaN     NaN  NaN         NaN   \n",
       "Rotor                            NaN     NaN  NaN     NaN  NaN         NaN   \n",
       "ROTOR CORE                       NaN     NaN  NaN     NaN  NaN         NaN   \n",
       "MOTOR COUPLING                   NaN     NaN  NaN     NaN  NaN         NaN   \n",
       "ROTOR CORE | STATOR CORE         NaN     NaN  NaN     NaN  NaN         NaN   \n",
       "OUTPUT SHAFT                     NaN     NaN  NaN     NaN  NaN         NaN   \n",
       "\n",
       "                         DANA TOYOTA FAW,NIDEC CONTINENTAL   GM BORGWARNER  \\\n",
       "MOTOR COOLING             NaN    NaN       NaN         NaN  NaN        NaN   \n",
       "STATOR                    NaN    NaN       NaN         NaN  NaN        NaN   \n",
       "ROTOR                     NaN    NaN       NaN         NaN  NaN        NaN   \n",
       "MOTOR CASING              NaN    NaN       NaN         NaN  NaN        NaN   \n",
       "MOTOR CONTROL             NaN    NaN       NaN         NaN  NaN        NaN   \n",
       "MOTOR WINDING             NaN    NaN       NaN         NaN  NaN        NaN   \n",
       "STATOR WINDING            NaN    NaN       NaN         NaN  NaN        NaN   \n",
       "STATOR                    NaN    NaN       NaN         NaN  NaN        NaN   \n",
       "ROTOR MAGNET              NaN    NaN       NaN         NaN  NaN        NaN   \n",
       "Winding                   NaN    NaN       NaN         NaN  NaN        NaN   \n",
       "SUPPORTING MEMBER         NaN    NaN       NaN         NaN  NaN        NaN   \n",
       "WINDINGS                  NaN    NaN       NaN         NaN  NaN        NaN   \n",
       "MOTOR BEARING             NaN    NaN       NaN         NaN  NaN        NaN   \n",
       "Rotor                     NaN    NaN       NaN         NaN  NaN        NaN   \n",
       "ROTOR CORE                NaN    NaN       NaN         NaN  NaN        NaN   \n",
       "MOTOR COUPLING            NaN    NaN       NaN         NaN  NaN        NaN   \n",
       "ROTOR CORE | STATOR CORE  NaN    NaN       NaN         NaN  NaN        NaN   \n",
       "OUTPUT SHAFT              NaN    NaN       NaN         NaN  NaN        NaN   \n",
       "\n",
       "                         DENSO_TOYOTA VOLKSWAGEN NISSAN HONDA MOTOR_HITACHI  \\\n",
       "MOTOR COOLING                     NaN        NaN    NaN                 NaN   \n",
       "STATOR                            NaN        NaN    NaN                 NaN   \n",
       "ROTOR                             NaN        NaN    NaN                 NaN   \n",
       "MOTOR CASING                      NaN        NaN    NaN                 NaN   \n",
       "MOTOR CONTROL                     NaN        NaN    NaN                 NaN   \n",
       "MOTOR WINDING                     NaN        NaN    NaN                 NaN   \n",
       "STATOR WINDING                    NaN        NaN    NaN                 NaN   \n",
       "STATOR                            NaN        NaN    NaN                 NaN   \n",
       "ROTOR MAGNET                      NaN        NaN    NaN                 NaN   \n",
       "Winding                           NaN        NaN    NaN                 NaN   \n",
       "SUPPORTING MEMBER                 NaN        NaN    NaN                 NaN   \n",
       "WINDINGS                          NaN        NaN    NaN                 NaN   \n",
       "MOTOR BEARING                     NaN        NaN    NaN                 NaN   \n",
       "Rotor                             NaN        NaN    NaN                 NaN   \n",
       "ROTOR CORE                        NaN        NaN    NaN                 NaN   \n",
       "MOTOR COUPLING                    NaN        NaN    NaN                 NaN   \n",
       "ROTOR CORE | STATOR CORE          NaN        NaN    NaN                 NaN   \n",
       "OUTPUT SHAFT                      NaN        NaN    NaN                 NaN   \n",
       "\n",
       "                         VITESCO HYUNDAI RENAULT_NISSAN  \n",
       "MOTOR COOLING                NaN     NaN            NaN  \n",
       "STATOR                       NaN     NaN            NaN  \n",
       "ROTOR                        NaN     NaN            NaN  \n",
       "MOTOR CASING                 NaN     NaN            NaN  \n",
       "MOTOR CONTROL                NaN     NaN            NaN  \n",
       "MOTOR WINDING                NaN     NaN            NaN  \n",
       "STATOR WINDING               NaN     NaN            NaN  \n",
       "STATOR                       NaN     NaN            NaN  \n",
       "ROTOR MAGNET                 NaN     NaN            NaN  \n",
       "Winding                      NaN     NaN            NaN  \n",
       "SUPPORTING MEMBER            NaN     NaN            NaN  \n",
       "WINDINGS                     NaN     NaN            NaN  \n",
       "MOTOR BEARING                NaN     NaN            NaN  \n",
       "Rotor                        NaN     NaN            NaN  \n",
       "ROTOR CORE                   NaN     NaN            NaN  \n",
       "MOTOR COUPLING               NaN     NaN            NaN  \n",
       "ROTOR CORE | STATOR CORE     NaN     NaN            NaN  \n",
       "OUTPUT SHAFT                 NaN     NaN            NaN  "
      ]
     },
     "execution_count": 14,
     "metadata": {},
     "output_type": "execute_result"
    }
   ],
   "source": [
    "data"
   ]
  },
  {
   "cell_type": "code",
   "execution_count": 139,
   "id": "d254642f",
   "metadata": {},
   "outputs": [],
   "source": [
    "data.replace(0,np.NaN,inplace=True)"
   ]
  },
  {
   "cell_type": "code",
   "execution_count": 140,
   "id": "7216cf5d",
   "metadata": {},
   "outputs": [
    {
     "data": {
      "text/html": [
       "<div>\n",
       "<style scoped>\n",
       "    .dataframe tbody tr th:only-of-type {\n",
       "        vertical-align: middle;\n",
       "    }\n",
       "\n",
       "    .dataframe tbody tr th {\n",
       "        vertical-align: top;\n",
       "    }\n",
       "\n",
       "    .dataframe thead th {\n",
       "        text-align: right;\n",
       "    }\n",
       "</style>\n",
       "<table border=\"1\" class=\"dataframe\">\n",
       "  <thead>\n",
       "    <tr style=\"text-align: right;\">\n",
       "      <th></th>\n",
       "      <th>HONDA MOTOR</th>\n",
       "      <th>HITACHI</th>\n",
       "      <th>FORD</th>\n",
       "      <th>DAIMLER</th>\n",
       "      <th>BYD</th>\n",
       "      <th>HYUNDAI|KIA</th>\n",
       "      <th>DANA</th>\n",
       "      <th>TOYOTA</th>\n",
       "      <th>NIDEC</th>\n",
       "      <th>CONTINENTAL</th>\n",
       "      <th>GM</th>\n",
       "      <th>BORGWARNER</th>\n",
       "      <th>DENSO_TOYOTA</th>\n",
       "      <th>VOLKSWAGEN</th>\n",
       "      <th>NISSAN</th>\n",
       "      <th>HONDA MOTOR_HITACHI</th>\n",
       "      <th>VITESCO</th>\n",
       "      <th>HYUNDAI</th>\n",
       "      <th>RENAULT_NISSAN</th>\n",
       "    </tr>\n",
       "  </thead>\n",
       "  <tbody>\n",
       "    <tr>\n",
       "      <th>MOTOR COOLING</th>\n",
       "      <td>22.0</td>\n",
       "      <td>2.0</td>\n",
       "      <td>NaN</td>\n",
       "      <td>2.0</td>\n",
       "      <td>NaN</td>\n",
       "      <td>4.0</td>\n",
       "      <td>2.0</td>\n",
       "      <td>1.0</td>\n",
       "      <td>NaN</td>\n",
       "      <td>1.0</td>\n",
       "      <td>NaN</td>\n",
       "      <td>NaN</td>\n",
       "      <td>NaN</td>\n",
       "      <td>1.0</td>\n",
       "      <td>1.0</td>\n",
       "      <td>1.0</td>\n",
       "      <td>NaN</td>\n",
       "      <td>1.0</td>\n",
       "      <td>NaN</td>\n",
       "    </tr>\n",
       "    <tr>\n",
       "      <th>STATOR</th>\n",
       "      <td>1.0</td>\n",
       "      <td>2.0</td>\n",
       "      <td>4.0</td>\n",
       "      <td>3.0</td>\n",
       "      <td>1.0</td>\n",
       "      <td>1.0</td>\n",
       "      <td>1.0</td>\n",
       "      <td>NaN</td>\n",
       "      <td>NaN</td>\n",
       "      <td>NaN</td>\n",
       "      <td>NaN</td>\n",
       "      <td>1.0</td>\n",
       "      <td>NaN</td>\n",
       "      <td>NaN</td>\n",
       "      <td>NaN</td>\n",
       "      <td>NaN</td>\n",
       "      <td>NaN</td>\n",
       "      <td>NaN</td>\n",
       "      <td>1.0</td>\n",
       "    </tr>\n",
       "    <tr>\n",
       "      <th>ROTOR</th>\n",
       "      <td>1.0</td>\n",
       "      <td>1.0</td>\n",
       "      <td>2.0</td>\n",
       "      <td>1.0</td>\n",
       "      <td>NaN</td>\n",
       "      <td>NaN</td>\n",
       "      <td>NaN</td>\n",
       "      <td>NaN</td>\n",
       "      <td>NaN</td>\n",
       "      <td>1.0</td>\n",
       "      <td>1.0</td>\n",
       "      <td>NaN</td>\n",
       "      <td>NaN</td>\n",
       "      <td>NaN</td>\n",
       "      <td>NaN</td>\n",
       "      <td>NaN</td>\n",
       "      <td>1.0</td>\n",
       "      <td>NaN</td>\n",
       "      <td>NaN</td>\n",
       "    </tr>\n",
       "    <tr>\n",
       "      <th>MOTOR CASING</th>\n",
       "      <td>NaN</td>\n",
       "      <td>2.0</td>\n",
       "      <td>NaN</td>\n",
       "      <td>NaN</td>\n",
       "      <td>4.0</td>\n",
       "      <td>NaN</td>\n",
       "      <td>NaN</td>\n",
       "      <td>NaN</td>\n",
       "      <td>NaN</td>\n",
       "      <td>NaN</td>\n",
       "      <td>NaN</td>\n",
       "      <td>NaN</td>\n",
       "      <td>NaN</td>\n",
       "      <td>NaN</td>\n",
       "      <td>NaN</td>\n",
       "      <td>NaN</td>\n",
       "      <td>NaN</td>\n",
       "      <td>NaN</td>\n",
       "      <td>NaN</td>\n",
       "    </tr>\n",
       "    <tr>\n",
       "      <th>MOTOR CONTROL</th>\n",
       "      <td>4.0</td>\n",
       "      <td>1.0</td>\n",
       "      <td>NaN</td>\n",
       "      <td>NaN</td>\n",
       "      <td>NaN</td>\n",
       "      <td>NaN</td>\n",
       "      <td>NaN</td>\n",
       "      <td>NaN</td>\n",
       "      <td>NaN</td>\n",
       "      <td>NaN</td>\n",
       "      <td>NaN</td>\n",
       "      <td>NaN</td>\n",
       "      <td>NaN</td>\n",
       "      <td>NaN</td>\n",
       "      <td>NaN</td>\n",
       "      <td>NaN</td>\n",
       "      <td>NaN</td>\n",
       "      <td>NaN</td>\n",
       "      <td>NaN</td>\n",
       "    </tr>\n",
       "    <tr>\n",
       "      <th>MOTOR WINDING</th>\n",
       "      <td>1.0</td>\n",
       "      <td>1.0</td>\n",
       "      <td>3.0</td>\n",
       "      <td>NaN</td>\n",
       "      <td>NaN</td>\n",
       "      <td>NaN</td>\n",
       "      <td>NaN</td>\n",
       "      <td>NaN</td>\n",
       "      <td>NaN</td>\n",
       "      <td>NaN</td>\n",
       "      <td>NaN</td>\n",
       "      <td>NaN</td>\n",
       "      <td>NaN</td>\n",
       "      <td>NaN</td>\n",
       "      <td>NaN</td>\n",
       "      <td>NaN</td>\n",
       "      <td>NaN</td>\n",
       "      <td>NaN</td>\n",
       "      <td>NaN</td>\n",
       "    </tr>\n",
       "    <tr>\n",
       "      <th>STATOR WINDING</th>\n",
       "      <td>NaN</td>\n",
       "      <td>NaN</td>\n",
       "      <td>NaN</td>\n",
       "      <td>NaN</td>\n",
       "      <td>2.0</td>\n",
       "      <td>NaN</td>\n",
       "      <td>1.0</td>\n",
       "      <td>NaN</td>\n",
       "      <td>NaN</td>\n",
       "      <td>NaN</td>\n",
       "      <td>NaN</td>\n",
       "      <td>NaN</td>\n",
       "      <td>NaN</td>\n",
       "      <td>NaN</td>\n",
       "      <td>NaN</td>\n",
       "      <td>NaN</td>\n",
       "      <td>NaN</td>\n",
       "      <td>NaN</td>\n",
       "      <td>NaN</td>\n",
       "    </tr>\n",
       "    <tr>\n",
       "      <th>STATOR</th>\n",
       "      <td>3.0</td>\n",
       "      <td>NaN</td>\n",
       "      <td>NaN</td>\n",
       "      <td>1.0</td>\n",
       "      <td>1.0</td>\n",
       "      <td>NaN</td>\n",
       "      <td>NaN</td>\n",
       "      <td>NaN</td>\n",
       "      <td>NaN</td>\n",
       "      <td>NaN</td>\n",
       "      <td>NaN</td>\n",
       "      <td>NaN</td>\n",
       "      <td>NaN</td>\n",
       "      <td>NaN</td>\n",
       "      <td>NaN</td>\n",
       "      <td>NaN</td>\n",
       "      <td>NaN</td>\n",
       "      <td>NaN</td>\n",
       "      <td>NaN</td>\n",
       "    </tr>\n",
       "    <tr>\n",
       "      <th>ROTOR MAGNET</th>\n",
       "      <td>2.0</td>\n",
       "      <td>NaN</td>\n",
       "      <td>NaN</td>\n",
       "      <td>NaN</td>\n",
       "      <td>NaN</td>\n",
       "      <td>NaN</td>\n",
       "      <td>NaN</td>\n",
       "      <td>NaN</td>\n",
       "      <td>NaN</td>\n",
       "      <td>NaN</td>\n",
       "      <td>NaN</td>\n",
       "      <td>NaN</td>\n",
       "      <td>NaN</td>\n",
       "      <td>NaN</td>\n",
       "      <td>NaN</td>\n",
       "      <td>NaN</td>\n",
       "      <td>NaN</td>\n",
       "      <td>NaN</td>\n",
       "      <td>NaN</td>\n",
       "    </tr>\n",
       "    <tr>\n",
       "      <th>Winding</th>\n",
       "      <td>NaN</td>\n",
       "      <td>NaN</td>\n",
       "      <td>NaN</td>\n",
       "      <td>NaN</td>\n",
       "      <td>NaN</td>\n",
       "      <td>NaN</td>\n",
       "      <td>NaN</td>\n",
       "      <td>NaN</td>\n",
       "      <td>2.0</td>\n",
       "      <td>NaN</td>\n",
       "      <td>NaN</td>\n",
       "      <td>NaN</td>\n",
       "      <td>NaN</td>\n",
       "      <td>NaN</td>\n",
       "      <td>NaN</td>\n",
       "      <td>NaN</td>\n",
       "      <td>NaN</td>\n",
       "      <td>NaN</td>\n",
       "      <td>NaN</td>\n",
       "    </tr>\n",
       "    <tr>\n",
       "      <th>SUPPORTING MEMBER</th>\n",
       "      <td>NaN</td>\n",
       "      <td>NaN</td>\n",
       "      <td>NaN</td>\n",
       "      <td>NaN</td>\n",
       "      <td>NaN</td>\n",
       "      <td>NaN</td>\n",
       "      <td>NaN</td>\n",
       "      <td>1.0</td>\n",
       "      <td>NaN</td>\n",
       "      <td>NaN</td>\n",
       "      <td>NaN</td>\n",
       "      <td>NaN</td>\n",
       "      <td>NaN</td>\n",
       "      <td>NaN</td>\n",
       "      <td>NaN</td>\n",
       "      <td>NaN</td>\n",
       "      <td>NaN</td>\n",
       "      <td>NaN</td>\n",
       "      <td>NaN</td>\n",
       "    </tr>\n",
       "    <tr>\n",
       "      <th>WINDINGS</th>\n",
       "      <td>NaN</td>\n",
       "      <td>NaN</td>\n",
       "      <td>NaN</td>\n",
       "      <td>1.0</td>\n",
       "      <td>NaN</td>\n",
       "      <td>NaN</td>\n",
       "      <td>NaN</td>\n",
       "      <td>NaN</td>\n",
       "      <td>NaN</td>\n",
       "      <td>NaN</td>\n",
       "      <td>NaN</td>\n",
       "      <td>NaN</td>\n",
       "      <td>NaN</td>\n",
       "      <td>NaN</td>\n",
       "      <td>NaN</td>\n",
       "      <td>NaN</td>\n",
       "      <td>NaN</td>\n",
       "      <td>NaN</td>\n",
       "      <td>NaN</td>\n",
       "    </tr>\n",
       "    <tr>\n",
       "      <th>MOTOR BEARING</th>\n",
       "      <td>NaN</td>\n",
       "      <td>NaN</td>\n",
       "      <td>NaN</td>\n",
       "      <td>NaN</td>\n",
       "      <td>NaN</td>\n",
       "      <td>1.0</td>\n",
       "      <td>NaN</td>\n",
       "      <td>NaN</td>\n",
       "      <td>NaN</td>\n",
       "      <td>NaN</td>\n",
       "      <td>NaN</td>\n",
       "      <td>NaN</td>\n",
       "      <td>NaN</td>\n",
       "      <td>NaN</td>\n",
       "      <td>NaN</td>\n",
       "      <td>NaN</td>\n",
       "      <td>NaN</td>\n",
       "      <td>NaN</td>\n",
       "      <td>NaN</td>\n",
       "    </tr>\n",
       "    <tr>\n",
       "      <th>Rotor</th>\n",
       "      <td>NaN</td>\n",
       "      <td>NaN</td>\n",
       "      <td>NaN</td>\n",
       "      <td>NaN</td>\n",
       "      <td>NaN</td>\n",
       "      <td>NaN</td>\n",
       "      <td>NaN</td>\n",
       "      <td>NaN</td>\n",
       "      <td>NaN</td>\n",
       "      <td>NaN</td>\n",
       "      <td>NaN</td>\n",
       "      <td>NaN</td>\n",
       "      <td>NaN</td>\n",
       "      <td>NaN</td>\n",
       "      <td>NaN</td>\n",
       "      <td>NaN</td>\n",
       "      <td>NaN</td>\n",
       "      <td>NaN</td>\n",
       "      <td>NaN</td>\n",
       "    </tr>\n",
       "    <tr>\n",
       "      <th>ROTOR CORE</th>\n",
       "      <td>NaN</td>\n",
       "      <td>1.0</td>\n",
       "      <td>NaN</td>\n",
       "      <td>NaN</td>\n",
       "      <td>NaN</td>\n",
       "      <td>NaN</td>\n",
       "      <td>NaN</td>\n",
       "      <td>NaN</td>\n",
       "      <td>NaN</td>\n",
       "      <td>NaN</td>\n",
       "      <td>NaN</td>\n",
       "      <td>NaN</td>\n",
       "      <td>NaN</td>\n",
       "      <td>NaN</td>\n",
       "      <td>NaN</td>\n",
       "      <td>NaN</td>\n",
       "      <td>NaN</td>\n",
       "      <td>NaN</td>\n",
       "      <td>NaN</td>\n",
       "    </tr>\n",
       "    <tr>\n",
       "      <th>MOTOR COUPLING</th>\n",
       "      <td>1.0</td>\n",
       "      <td>NaN</td>\n",
       "      <td>NaN</td>\n",
       "      <td>NaN</td>\n",
       "      <td>NaN</td>\n",
       "      <td>NaN</td>\n",
       "      <td>NaN</td>\n",
       "      <td>NaN</td>\n",
       "      <td>NaN</td>\n",
       "      <td>NaN</td>\n",
       "      <td>NaN</td>\n",
       "      <td>NaN</td>\n",
       "      <td>NaN</td>\n",
       "      <td>NaN</td>\n",
       "      <td>NaN</td>\n",
       "      <td>NaN</td>\n",
       "      <td>NaN</td>\n",
       "      <td>NaN</td>\n",
       "      <td>NaN</td>\n",
       "    </tr>\n",
       "    <tr>\n",
       "      <th>ROTOR CORE | STATOR CORE</th>\n",
       "      <td>NaN</td>\n",
       "      <td>NaN</td>\n",
       "      <td>NaN</td>\n",
       "      <td>1.0</td>\n",
       "      <td>NaN</td>\n",
       "      <td>NaN</td>\n",
       "      <td>NaN</td>\n",
       "      <td>NaN</td>\n",
       "      <td>NaN</td>\n",
       "      <td>NaN</td>\n",
       "      <td>NaN</td>\n",
       "      <td>NaN</td>\n",
       "      <td>NaN</td>\n",
       "      <td>NaN</td>\n",
       "      <td>NaN</td>\n",
       "      <td>NaN</td>\n",
       "      <td>NaN</td>\n",
       "      <td>NaN</td>\n",
       "      <td>NaN</td>\n",
       "    </tr>\n",
       "    <tr>\n",
       "      <th>OUTPUT SHAFT</th>\n",
       "      <td>1.0</td>\n",
       "      <td>NaN</td>\n",
       "      <td>NaN</td>\n",
       "      <td>NaN</td>\n",
       "      <td>NaN</td>\n",
       "      <td>NaN</td>\n",
       "      <td>NaN</td>\n",
       "      <td>NaN</td>\n",
       "      <td>NaN</td>\n",
       "      <td>NaN</td>\n",
       "      <td>NaN</td>\n",
       "      <td>NaN</td>\n",
       "      <td>NaN</td>\n",
       "      <td>NaN</td>\n",
       "      <td>NaN</td>\n",
       "      <td>NaN</td>\n",
       "      <td>NaN</td>\n",
       "      <td>NaN</td>\n",
       "      <td>NaN</td>\n",
       "    </tr>\n",
       "  </tbody>\n",
       "</table>\n",
       "</div>"
      ],
      "text/plain": [
       "                          HONDA MOTOR  HITACHI  FORD  DAIMLER  BYD  \\\n",
       "MOTOR COOLING                    22.0      2.0   NaN      2.0  NaN   \n",
       "STATOR                            1.0      2.0   4.0      3.0  1.0   \n",
       "ROTOR                             1.0      1.0   2.0      1.0  NaN   \n",
       "MOTOR CASING                      NaN      2.0   NaN      NaN  4.0   \n",
       "MOTOR CONTROL                     4.0      1.0   NaN      NaN  NaN   \n",
       "MOTOR WINDING                     1.0      1.0   3.0      NaN  NaN   \n",
       "STATOR WINDING                    NaN      NaN   NaN      NaN  2.0   \n",
       "STATOR                            3.0      NaN   NaN      1.0  1.0   \n",
       "ROTOR MAGNET                      2.0      NaN   NaN      NaN  NaN   \n",
       "Winding                           NaN      NaN   NaN      NaN  NaN   \n",
       "SUPPORTING MEMBER                 NaN      NaN   NaN      NaN  NaN   \n",
       "WINDINGS                          NaN      NaN   NaN      1.0  NaN   \n",
       "MOTOR BEARING                     NaN      NaN   NaN      NaN  NaN   \n",
       "Rotor                             NaN      NaN   NaN      NaN  NaN   \n",
       "ROTOR CORE                        NaN      1.0   NaN      NaN  NaN   \n",
       "MOTOR COUPLING                    1.0      NaN   NaN      NaN  NaN   \n",
       "ROTOR CORE | STATOR CORE          NaN      NaN   NaN      1.0  NaN   \n",
       "OUTPUT SHAFT                      1.0      NaN   NaN      NaN  NaN   \n",
       "\n",
       "                          HYUNDAI|KIA  DANA  TOYOTA  NIDEC  CONTINENTAL   GM  \\\n",
       "MOTOR COOLING                     4.0   2.0     1.0    NaN          1.0  NaN   \n",
       "STATOR                            1.0   1.0     NaN    NaN          NaN  NaN   \n",
       "ROTOR                             NaN   NaN     NaN    NaN          1.0  1.0   \n",
       "MOTOR CASING                      NaN   NaN     NaN    NaN          NaN  NaN   \n",
       "MOTOR CONTROL                     NaN   NaN     NaN    NaN          NaN  NaN   \n",
       "MOTOR WINDING                     NaN   NaN     NaN    NaN          NaN  NaN   \n",
       "STATOR WINDING                    NaN   1.0     NaN    NaN          NaN  NaN   \n",
       "STATOR                            NaN   NaN     NaN    NaN          NaN  NaN   \n",
       "ROTOR MAGNET                      NaN   NaN     NaN    NaN          NaN  NaN   \n",
       "Winding                           NaN   NaN     NaN    2.0          NaN  NaN   \n",
       "SUPPORTING MEMBER                 NaN   NaN     1.0    NaN          NaN  NaN   \n",
       "WINDINGS                          NaN   NaN     NaN    NaN          NaN  NaN   \n",
       "MOTOR BEARING                     1.0   NaN     NaN    NaN          NaN  NaN   \n",
       "Rotor                             NaN   NaN     NaN    NaN          NaN  NaN   \n",
       "ROTOR CORE                        NaN   NaN     NaN    NaN          NaN  NaN   \n",
       "MOTOR COUPLING                    NaN   NaN     NaN    NaN          NaN  NaN   \n",
       "ROTOR CORE | STATOR CORE          NaN   NaN     NaN    NaN          NaN  NaN   \n",
       "OUTPUT SHAFT                      NaN   NaN     NaN    NaN          NaN  NaN   \n",
       "\n",
       "                          BORGWARNER  DENSO_TOYOTA  VOLKSWAGEN  NISSAN  \\\n",
       "MOTOR COOLING                    NaN           NaN         1.0     1.0   \n",
       "STATOR                           1.0           NaN         NaN     NaN   \n",
       "ROTOR                            NaN           NaN         NaN     NaN   \n",
       "MOTOR CASING                     NaN           NaN         NaN     NaN   \n",
       "MOTOR CONTROL                    NaN           NaN         NaN     NaN   \n",
       "MOTOR WINDING                    NaN           NaN         NaN     NaN   \n",
       "STATOR WINDING                   NaN           NaN         NaN     NaN   \n",
       "STATOR                           NaN           NaN         NaN     NaN   \n",
       "ROTOR MAGNET                     NaN           NaN         NaN     NaN   \n",
       "Winding                          NaN           NaN         NaN     NaN   \n",
       "SUPPORTING MEMBER                NaN           NaN         NaN     NaN   \n",
       "WINDINGS                         NaN           NaN         NaN     NaN   \n",
       "MOTOR BEARING                    NaN           NaN         NaN     NaN   \n",
       "Rotor                            NaN           NaN         NaN     NaN   \n",
       "ROTOR CORE                       NaN           NaN         NaN     NaN   \n",
       "MOTOR COUPLING                   NaN           NaN         NaN     NaN   \n",
       "ROTOR CORE | STATOR CORE         NaN           NaN         NaN     NaN   \n",
       "OUTPUT SHAFT                     NaN           NaN         NaN     NaN   \n",
       "\n",
       "                          HONDA MOTOR_HITACHI  VITESCO  HYUNDAI  \\\n",
       "MOTOR COOLING                             1.0      NaN      1.0   \n",
       "STATOR                                    NaN      NaN      NaN   \n",
       "ROTOR                                     NaN      1.0      NaN   \n",
       "MOTOR CASING                              NaN      NaN      NaN   \n",
       "MOTOR CONTROL                             NaN      NaN      NaN   \n",
       "MOTOR WINDING                             NaN      NaN      NaN   \n",
       "STATOR WINDING                            NaN      NaN      NaN   \n",
       "STATOR                                    NaN      NaN      NaN   \n",
       "ROTOR MAGNET                              NaN      NaN      NaN   \n",
       "Winding                                   NaN      NaN      NaN   \n",
       "SUPPORTING MEMBER                         NaN      NaN      NaN   \n",
       "WINDINGS                                  NaN      NaN      NaN   \n",
       "MOTOR BEARING                             NaN      NaN      NaN   \n",
       "Rotor                                     NaN      NaN      NaN   \n",
       "ROTOR CORE                                NaN      NaN      NaN   \n",
       "MOTOR COUPLING                            NaN      NaN      NaN   \n",
       "ROTOR CORE | STATOR CORE                  NaN      NaN      NaN   \n",
       "OUTPUT SHAFT                              NaN      NaN      NaN   \n",
       "\n",
       "                          RENAULT_NISSAN  \n",
       "MOTOR COOLING                        NaN  \n",
       "STATOR                               1.0  \n",
       "ROTOR                                NaN  \n",
       "MOTOR CASING                         NaN  \n",
       "MOTOR CONTROL                        NaN  \n",
       "MOTOR WINDING                        NaN  \n",
       "STATOR WINDING                       NaN  \n",
       "STATOR                               NaN  \n",
       "ROTOR MAGNET                         NaN  \n",
       "Winding                              NaN  \n",
       "SUPPORTING MEMBER                    NaN  \n",
       "WINDINGS                             NaN  \n",
       "MOTOR BEARING                        NaN  \n",
       "Rotor                                NaN  \n",
       "ROTOR CORE                           NaN  \n",
       "MOTOR COUPLING                       NaN  \n",
       "ROTOR CORE | STATOR CORE             NaN  \n",
       "OUTPUT SHAFT                         NaN  "
      ]
     },
     "execution_count": 140,
     "metadata": {},
     "output_type": "execute_result"
    }
   ],
   "source": [
    "data"
   ]
  },
  {
   "cell_type": "code",
   "execution_count": 145,
   "id": "c706e042",
   "metadata": {},
   "outputs": [],
   "source": [
    "data.to_csv('heatmap_data.csv')"
   ]
  },
  {
   "cell_type": "code",
   "execution_count": 99,
   "id": "47393ca3",
   "metadata": {},
   "outputs": [
    {
     "data": {
      "text/html": [
       "<div>\n",
       "<style scoped>\n",
       "    .dataframe tbody tr th:only-of-type {\n",
       "        vertical-align: middle;\n",
       "    }\n",
       "\n",
       "    .dataframe tbody tr th {\n",
       "        vertical-align: top;\n",
       "    }\n",
       "\n",
       "    .dataframe thead th {\n",
       "        text-align: right;\n",
       "    }\n",
       "</style>\n",
       "<table border=\"1\" class=\"dataframe\">\n",
       "  <thead>\n",
       "    <tr style=\"text-align: right;\">\n",
       "      <th></th>\n",
       "      <th>HONDA MOTOR</th>\n",
       "      <th>HITACHI</th>\n",
       "      <th>FORD</th>\n",
       "      <th>DAIMLER</th>\n",
       "      <th>BYD</th>\n",
       "      <th>HYUNDAI|KIA</th>\n",
       "      <th>DANA</th>\n",
       "      <th>TOYOTA</th>\n",
       "      <th>NIDEC</th>\n",
       "      <th>CONTINENTAL</th>\n",
       "      <th>GM</th>\n",
       "      <th>BORGWARNER</th>\n",
       "      <th>DENSO_TOYOTA</th>\n",
       "      <th>VOLKSWAGEN</th>\n",
       "      <th>NISSAN</th>\n",
       "      <th>HONDA MOTOR_HITACHI</th>\n",
       "      <th>VITESCO</th>\n",
       "      <th>HYUNDAI</th>\n",
       "      <th>RENAULT_NISSAN</th>\n",
       "    </tr>\n",
       "  </thead>\n",
       "  <tbody>\n",
       "    <tr>\n",
       "      <th>MOTOR COOLING</th>\n",
       "      <td>22</td>\n",
       "      <td>2</td>\n",
       "      <td>NaN</td>\n",
       "      <td>2</td>\n",
       "      <td>NaN</td>\n",
       "      <td>4</td>\n",
       "      <td>2</td>\n",
       "      <td>1</td>\n",
       "      <td>NaN</td>\n",
       "      <td>NaN</td>\n",
       "      <td>NaN</td>\n",
       "      <td>NaN</td>\n",
       "      <td>NaN</td>\n",
       "      <td>NaN</td>\n",
       "      <td>NaN</td>\n",
       "      <td>NaN</td>\n",
       "      <td>NaN</td>\n",
       "      <td>NaN</td>\n",
       "      <td>NaN</td>\n",
       "    </tr>\n",
       "    <tr>\n",
       "      <th>STATOR</th>\n",
       "      <td>1</td>\n",
       "      <td>2</td>\n",
       "      <td>4</td>\n",
       "      <td>3</td>\n",
       "      <td>1</td>\n",
       "      <td>1</td>\n",
       "      <td>1</td>\n",
       "      <td>NaN</td>\n",
       "      <td>NaN</td>\n",
       "      <td>NaN</td>\n",
       "      <td>NaN</td>\n",
       "      <td>NaN</td>\n",
       "      <td>NaN</td>\n",
       "      <td>NaN</td>\n",
       "      <td>NaN</td>\n",
       "      <td>NaN</td>\n",
       "      <td>NaN</td>\n",
       "      <td>NaN</td>\n",
       "      <td>NaN</td>\n",
       "    </tr>\n",
       "    <tr>\n",
       "      <th>ROTOR</th>\n",
       "      <td>1</td>\n",
       "      <td>1</td>\n",
       "      <td>2</td>\n",
       "      <td>1</td>\n",
       "      <td>NaN</td>\n",
       "      <td>NaN</td>\n",
       "      <td>NaN</td>\n",
       "      <td>NaN</td>\n",
       "      <td>NaN</td>\n",
       "      <td>NaN</td>\n",
       "      <td>NaN</td>\n",
       "      <td>NaN</td>\n",
       "      <td>NaN</td>\n",
       "      <td>NaN</td>\n",
       "      <td>NaN</td>\n",
       "      <td>NaN</td>\n",
       "      <td>NaN</td>\n",
       "      <td>NaN</td>\n",
       "      <td>NaN</td>\n",
       "    </tr>\n",
       "    <tr>\n",
       "      <th>MOTOR CASING</th>\n",
       "      <td>NaN</td>\n",
       "      <td>2</td>\n",
       "      <td>NaN</td>\n",
       "      <td>NaN</td>\n",
       "      <td>4</td>\n",
       "      <td>NaN</td>\n",
       "      <td>NaN</td>\n",
       "      <td>NaN</td>\n",
       "      <td>NaN</td>\n",
       "      <td>NaN</td>\n",
       "      <td>NaN</td>\n",
       "      <td>NaN</td>\n",
       "      <td>NaN</td>\n",
       "      <td>NaN</td>\n",
       "      <td>NaN</td>\n",
       "      <td>NaN</td>\n",
       "      <td>NaN</td>\n",
       "      <td>NaN</td>\n",
       "      <td>NaN</td>\n",
       "    </tr>\n",
       "    <tr>\n",
       "      <th>MOTOR CONTROL</th>\n",
       "      <td>4</td>\n",
       "      <td>1</td>\n",
       "      <td>NaN</td>\n",
       "      <td>NaN</td>\n",
       "      <td>NaN</td>\n",
       "      <td>NaN</td>\n",
       "      <td>NaN</td>\n",
       "      <td>NaN</td>\n",
       "      <td>NaN</td>\n",
       "      <td>NaN</td>\n",
       "      <td>NaN</td>\n",
       "      <td>NaN</td>\n",
       "      <td>NaN</td>\n",
       "      <td>NaN</td>\n",
       "      <td>NaN</td>\n",
       "      <td>NaN</td>\n",
       "      <td>NaN</td>\n",
       "      <td>NaN</td>\n",
       "      <td>NaN</td>\n",
       "    </tr>\n",
       "  </tbody>\n",
       "</table>\n",
       "</div>"
      ],
      "text/plain": [
       "              HONDA MOTOR HITACHI FORD DAIMLER  BYD HYUNDAI|KIA DANA TOYOTA  \\\n",
       "MOTOR COOLING          22       2  NaN       2  NaN           4    2      1   \n",
       "STATOR                  1       2    4       3    1           1    1    NaN   \n",
       "ROTOR                   1       1    2       1  NaN         NaN  NaN    NaN   \n",
       "MOTOR CASING          NaN       2  NaN     NaN    4         NaN  NaN    NaN   \n",
       "MOTOR CONTROL           4       1  NaN     NaN  NaN         NaN  NaN    NaN   \n",
       "\n",
       "              NIDEC CONTINENTAL   GM BORGWARNER DENSO_TOYOTA VOLKSWAGEN  \\\n",
       "MOTOR COOLING   NaN         NaN  NaN        NaN          NaN        NaN   \n",
       "STATOR          NaN         NaN  NaN        NaN          NaN        NaN   \n",
       "ROTOR           NaN         NaN  NaN        NaN          NaN        NaN   \n",
       "MOTOR CASING    NaN         NaN  NaN        NaN          NaN        NaN   \n",
       "MOTOR CONTROL   NaN         NaN  NaN        NaN          NaN        NaN   \n",
       "\n",
       "              NISSAN HONDA MOTOR_HITACHI VITESCO HYUNDAI RENAULT_NISSAN  \n",
       "MOTOR COOLING    NaN                 NaN     NaN     NaN            NaN  \n",
       "STATOR           NaN                 NaN     NaN     NaN            NaN  \n",
       "ROTOR            NaN                 NaN     NaN     NaN            NaN  \n",
       "MOTOR CASING     NaN                 NaN     NaN     NaN            NaN  \n",
       "MOTOR CONTROL    NaN                 NaN     NaN     NaN            NaN  "
      ]
     },
     "execution_count": 99,
     "metadata": {},
     "output_type": "execute_result"
    }
   ],
   "source": [
    "data.head()"
   ]
  },
  {
   "cell_type": "code",
   "execution_count": 141,
   "id": "b367994c",
   "metadata": {},
   "outputs": [
    {
     "data": {
      "text/plain": [
       "HONDA MOTOR             9\n",
       "HITACHI                11\n",
       "FORD                   15\n",
       "DAIMLER                12\n",
       "BYD                    14\n",
       "HYUNDAI|KIA            15\n",
       "DANA                   15\n",
       "TOYOTA                 16\n",
       "NIDEC                  17\n",
       "CONTINENTAL            16\n",
       "GM                     17\n",
       "BORGWARNER             17\n",
       "DENSO_TOYOTA           18\n",
       "VOLKSWAGEN             17\n",
       "NISSAN                 17\n",
       "HONDA MOTOR_HITACHI    17\n",
       "VITESCO                17\n",
       "HYUNDAI                17\n",
       "RENAULT_NISSAN         17\n",
       "dtype: int64"
      ]
     },
     "execution_count": 141,
     "metadata": {},
     "output_type": "execute_result"
    }
   ],
   "source": [
    "data.isnull().sum()"
   ]
  },
  {
   "cell_type": "code",
   "execution_count": 131,
   "id": "9d89cfea",
   "metadata": {},
   "outputs": [],
   "source": [
    "import numpy as np\n",
    "data.iloc[3,0]=np.nan"
   ]
  },
  {
   "cell_type": "code",
   "execution_count": 125,
   "id": "67915521",
   "metadata": {},
   "outputs": [],
   "source": [
    "data.fillna(0,inplace=True)"
   ]
  },
  {
   "cell_type": "markdown",
   "id": "d78c9a39",
   "metadata": {},
   "source": [
    "## Current assignees   Sub-component"
   ]
  },
  {
   "cell_type": "code",
   "execution_count": 144,
   "id": "6c738215",
   "metadata": {},
   "outputs": [
    {
     "data": {
      "image/png": "[encoded data removed]",
      "text/plain": [
       "<Figure size 576x432 with 2 Axes>"
      ]
     },
     "metadata": {
      "needs_background": "light"
     },
     "output_type": "display_data"
    }
   ],
   "source": [
    "import seaborn as sns\n",
    "sns.heatmap(data, annot=True,cmap=\"PiYG\")\n",
    "fig = plt.gcf()\n",
    "fig.set_size_inches(8, 6)"
   ]
  },
  {
   "cell_type": "code",
   "execution_count": 146,
   "id": "ced404a2",
   "metadata": {},
   "outputs": [
    {
     "name": "stdout",
     "output_type": "stream",
     "text": [
      "Collecting wordcloud\n",
      "  Downloading wordcloud-1.8.1-cp38-cp38-win_amd64.whl (155 kB)\n",
      "Requirement already satisfied: numpy>=1.6.1 in c:\\users\\hp\\anaconda3\\lib\\site-packages (from wordcloud) (1.19.5)\n",
      "Requirement already satisfied: matplotlib in c:\\users\\hp\\anaconda3\\lib\\site-packages (from wordcloud) (3.3.4)\n",
      "Requirement already satisfied: pillow in c:\\users\\hp\\anaconda3\\lib\\site-packages (from wordcloud) (8.2.0)\n",
      "Requirement already satisfied: kiwisolver>=1.0.1 in c:\\users\\hp\\anaconda3\\lib\\site-packages (from matplotlib->wordcloud) (1.3.1)\n",
      "Requirement already satisfied: pyparsing!=2.0.4,!=2.1.2,!=2.1.6,>=2.0.3 in c:\\users\\hp\\anaconda3\\lib\\site-packages (from matplotlib->wordcloud) (2.4.7)\n",
      "Requirement already satisfied: python-dateutil>=2.1 in c:\\users\\hp\\anaconda3\\lib\\site-packages (from matplotlib->wordcloud) (2.8.1)\n",
      "Requirement already satisfied: cycler>=0.10 in c:\\users\\hp\\anaconda3\\lib\\site-packages (from matplotlib->wordcloud) (0.10.0)\n",
      "Requirement already satisfied: six in c:\\users\\hp\\anaconda3\\lib\\site-packages (from cycler>=0.10->matplotlib->wordcloud) (1.15.0)\n",
      "Installing collected packages: wordcloud\n",
      "Successfully installed wordcloud-1.8.1\n",
      "Note: you may need to restart the kernel to use updated packages.\n"
     ]
    }
   ],
   "source": [
    "pip install wordcloud"
   ]
  },
  {
   "cell_type": "code",
   "execution_count": 149,
   "id": "6e98f9b5",
   "metadata": {},
   "outputs": [
    {
     "data": {
      "image/png": "[encoded data removed]",
      "text/plain": [
       "<Figure size 432x432 with 1 Axes>"
      ]
     },
     "metadata": {
      "needs_background": "light"
     },
     "output_type": "display_data"
    }
   ],
   "source": [
    "from wordcloud import WordCloud, STOPWORDS\n",
    "import matplotlib.pyplot as plt\n",
    "import pandas as pd\n",
    "\n",
    " \n",
    "comment_words = ''\n",
    "stopwords = set(STOPWORDS)\n",
    " \n",
    "# iterate through the csv file\n",
    "for val in df['Impact/Benefit']:\n",
    "     \n",
    "    # typecaste each val to string\n",
    "    val = str(val)\n",
    " \n",
    "    # split the value\n",
    "    tokens = val.split()\n",
    "     \n",
    "    # Converts each token into lowercase\n",
    "    for i in range(len(tokens)):\n",
    "        tokens[i] = tokens[i].lower()\n",
    "     \n",
    "    comment_words += \" \".join(tokens)+\" \"\n",
    " \n",
    "wordcloud = WordCloud(width = 800, height = 800,\n",
    "                background_color ='white',\n",
    "                stopwords = stopwords,\n",
    "                min_font_size = 10).generate(comment_words)\n",
    " \n",
    "# plot the WordCloud image                      \n",
    "plt.figure(figsize = (6, 6), facecolor = None)\n",
    "plt.imshow(wordcloud)\n",
    "plt.axis(\"off\")\n",
    "plt.tight_layout(pad = 0)\n",
    " \n",
    "plt.show()"
   ]
  },
  {
   "cell_type": "code",
   "execution_count": 150,
   "id": "a34593ce",
   "metadata": {},
   "outputs": [
    {
     "data": {
      "text/html": [
       "<div>\n",
       "<style scoped>\n",
       "    .dataframe tbody tr th:only-of-type {\n",
       "        vertical-align: middle;\n",
       "    }\n",
       "\n",
       "    .dataframe tbody tr th {\n",
       "        vertical-align: top;\n",
       "    }\n",
       "\n",
       "    .dataframe thead th {\n",
       "        text-align: right;\n",
       "    }\n",
       "</style>\n",
       "<table border=\"1\" class=\"dataframe\">\n",
       "  <thead>\n",
       "    <tr style=\"text-align: right;\">\n",
       "      <th></th>\n",
       "      <th>Fam. No.</th>\n",
       "      <th>Publication no</th>\n",
       "      <th>Current assignees</th>\n",
       "      <th>Player Type</th>\n",
       "      <th>XX Rating</th>\n",
       "      <th>Sub-component</th>\n",
       "      <th>Uniqueness</th>\n",
       "      <th>Impact/Benefit</th>\n",
       "      <th>AC/DC Motor</th>\n",
       "      <th>Phase</th>\n",
       "      <th>...</th>\n",
       "      <th>Motor Position</th>\n",
       "      <th>Family legal status</th>\n",
       "      <th>Geography Count</th>\n",
       "      <th>Cit Count</th>\n",
       "      <th>Claim Count</th>\n",
       "      <th>Priority Country</th>\n",
       "      <th>Overall Rating</th>\n",
       "      <th>Inventors</th>\n",
       "      <th>Earliest priority date</th>\n",
       "      <th>Application dates</th>\n",
       "    </tr>\n",
       "  </thead>\n",
       "  <tbody>\n",
       "    <tr>\n",
       "      <th>0</th>\n",
       "      <td>1</td>\n",
       "      <td>Reference9</td>\n",
       "      <td>BYD</td>\n",
       "      <td>OEM</td>\n",
       "      <td>5</td>\n",
       "      <td>MOTOR COOLING</td>\n",
       "      <td>Oil-cooled cooling system | Spraying device</td>\n",
       "      <td>Improved cooling | Compact</td>\n",
       "      <td>NaN</td>\n",
       "      <td>NaN</td>\n",
       "      <td>...</td>\n",
       "      <td>NaN</td>\n",
       "      <td>GRANTED</td>\n",
       "      <td>1</td>\n",
       "      <td>0</td>\n",
       "      <td>1</td>\n",
       "      <td>CN</td>\n",
       "      <td>3.20</td>\n",
       "      <td>WANG JIANXIN\\nZOU XIAOSONG\\nFANG ZHAOXIANG</td>\n",
       "      <td>2019-04-15</td>\n",
       "      <td>2019-04-15</td>\n",
       "    </tr>\n",
       "    <tr>\n",
       "      <th>1</th>\n",
       "      <td>2</td>\n",
       "      <td>Reference10</td>\n",
       "      <td>BYD</td>\n",
       "      <td>OEM</td>\n",
       "      <td>5</td>\n",
       "      <td>MOTOR CASING</td>\n",
       "      <td>Water-cooled cooling device</td>\n",
       "      <td>Compact</td>\n",
       "      <td>NaN</td>\n",
       "      <td>NaN</td>\n",
       "      <td>...</td>\n",
       "      <td>NaN</td>\n",
       "      <td>PENDING</td>\n",
       "      <td>1</td>\n",
       "      <td>5</td>\n",
       "      <td>1</td>\n",
       "      <td>CN</td>\n",
       "      <td>2.85</td>\n",
       "      <td>WANG JIANXIN\\nZOU XIAOSONG\\nFANG ZHAOXIANG</td>\n",
       "      <td>2019-04-15</td>\n",
       "      <td>2019-04-15</td>\n",
       "    </tr>\n",
       "    <tr>\n",
       "      <th>2</th>\n",
       "      <td>3</td>\n",
       "      <td>Reference330</td>\n",
       "      <td>NIDEC</td>\n",
       "      <td>Suplier</td>\n",
       "      <td>5</td>\n",
       "      <td>Winding</td>\n",
       "      <td>Hairpin windings</td>\n",
       "      <td>Improved Cooling</td>\n",
       "      <td>AC</td>\n",
       "      <td>NaN</td>\n",
       "      <td>...</td>\n",
       "      <td>NaN</td>\n",
       "      <td>GRANTED</td>\n",
       "      <td>2</td>\n",
       "      <td>5</td>\n",
       "      <td>1</td>\n",
       "      <td>FR</td>\n",
       "      <td>3.20</td>\n",
       "      <td>LENOIR ROMARIC ([FR])\\nBONNET VINCENT ([FR])</td>\n",
       "      <td>2019-10-31</td>\n",
       "      <td>2020-10-14</td>\n",
       "    </tr>\n",
       "    <tr>\n",
       "      <th>3</th>\n",
       "      <td>4</td>\n",
       "      <td>Reference12</td>\n",
       "      <td>BYD</td>\n",
       "      <td>OEM</td>\n",
       "      <td>4</td>\n",
       "      <td>MOTOR CASING</td>\n",
       "      <td>Silencing spaces</td>\n",
       "      <td>NVH | Improved Structural Strength</td>\n",
       "      <td>NaN</td>\n",
       "      <td>NaN</td>\n",
       "      <td>...</td>\n",
       "      <td>NaN</td>\n",
       "      <td>PENDING</td>\n",
       "      <td>1</td>\n",
       "      <td>6</td>\n",
       "      <td>1</td>\n",
       "      <td>CN</td>\n",
       "      <td>3.05</td>\n",
       "      <td>HUA XIAOCONG</td>\n",
       "      <td>2019-07-16</td>\n",
       "      <td>2019-07-16</td>\n",
       "    </tr>\n",
       "    <tr>\n",
       "      <th>4</th>\n",
       "      <td>5</td>\n",
       "      <td>Reference34</td>\n",
       "      <td>DAIMLER</td>\n",
       "      <td>OEM</td>\n",
       "      <td>4</td>\n",
       "      <td>STATOR</td>\n",
       "      <td>Cooling channels</td>\n",
       "      <td>Improved cooling</td>\n",
       "      <td>NaN</td>\n",
       "      <td>NaN</td>\n",
       "      <td>...</td>\n",
       "      <td>NaN</td>\n",
       "      <td>LAPSED</td>\n",
       "      <td>1</td>\n",
       "      <td>4</td>\n",
       "      <td>1</td>\n",
       "      <td>DE</td>\n",
       "      <td>2.70</td>\n",
       "      <td>SCHULZE TORBEN ([DE])</td>\n",
       "      <td>2018-08-08</td>\n",
       "      <td>2018-08-08</td>\n",
       "    </tr>\n",
       "  </tbody>\n",
       "</table>\n",
       "<p>5 rows × 27 columns</p>\n",
       "</div>"
      ],
      "text/plain": [
       "   Fam. No. Publication no Current assignees Player Type  XX Rating  \\\n",
       "0         1     Reference9               BYD         OEM          5   \n",
       "1         2    Reference10               BYD         OEM          5   \n",
       "2         3   Reference330             NIDEC     Suplier          5   \n",
       "3         4    Reference12               BYD         OEM          4   \n",
       "4         5    Reference34           DAIMLER         OEM          4   \n",
       "\n",
       "   Sub-component                                   Uniqueness  \\\n",
       "0  MOTOR COOLING  Oil-cooled cooling system | Spraying device   \n",
       "1   MOTOR CASING                  Water-cooled cooling device   \n",
       "2        Winding                             Hairpin windings   \n",
       "3   MOTOR CASING                             Silencing spaces   \n",
       "4         STATOR                             Cooling channels   \n",
       "\n",
       "                       Impact/Benefit AC/DC Motor Phase  ... Motor Position  \\\n",
       "0          Improved cooling | Compact         NaN   NaN  ...            NaN   \n",
       "1                             Compact         NaN   NaN  ...            NaN   \n",
       "2                    Improved Cooling          AC   NaN  ...            NaN   \n",
       "3  NVH | Improved Structural Strength         NaN   NaN  ...            NaN   \n",
       "4                    Improved cooling         NaN   NaN  ...            NaN   \n",
       "\n",
       "  Family legal status Geography Count Cit Count Claim Count Priority Country  \\\n",
       "0             GRANTED               1         0           1               CN   \n",
       "1             PENDING               1         5           1               CN   \n",
       "2             GRANTED               2         5           1               FR   \n",
       "3             PENDING               1         6           1               CN   \n",
       "4              LAPSED               1         4           1               DE   \n",
       "\n",
       "  Overall Rating                                     Inventors  \\\n",
       "0           3.20    WANG JIANXIN\\nZOU XIAOSONG\\nFANG ZHAOXIANG   \n",
       "1           2.85    WANG JIANXIN\\nZOU XIAOSONG\\nFANG ZHAOXIANG   \n",
       "2           3.20  LENOIR ROMARIC ([FR])\\nBONNET VINCENT ([FR])   \n",
       "3           3.05                                  HUA XIAOCONG   \n",
       "4           2.70                         SCHULZE TORBEN ([DE])   \n",
       "\n",
       "  Earliest priority date  Application dates  \n",
       "0             2019-04-15         2019-04-15  \n",
       "1             2019-04-15         2019-04-15  \n",
       "2             2019-10-31         2020-10-14  \n",
       "3             2019-07-16         2019-07-16  \n",
       "4             2018-08-08         2018-08-08  \n",
       "\n",
       "[5 rows x 27 columns]"
      ]
     },
     "execution_count": 150,
     "metadata": {},
     "output_type": "execute_result"
    }
   ],
   "source": [
    "df.head()"
   ]
  },
  {
   "cell_type": "code",
   "execution_count": null,
   "id": "8e485915",
   "metadata": {},
   "outputs": [],
   "source": []
  }
 ],
 "metadata": {
  "kernelspec": {
   "display_name": "Python 3",
   "language": "python",
   "name": "python3"
  },
  "language_info": {
   "codemirror_mode": {
    "name": "ipython",
    "version": 3
   },
   "file_extension": ".py",
   "mimetype": "text/x-python",
   "name": "python",
   "nbconvert_exporter": "python",
   "pygments_lexer": "ipython3",
   "version": "3.8.8"
  }
 },
 "nbformat": 4,
 "nbformat_minor": 5
}
