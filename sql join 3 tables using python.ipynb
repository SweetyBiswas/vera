{
 "cells": [
  {
   "cell_type": "code",
   "execution_count": 1,
   "id": "9a1671a1",
   "metadata": {},
   "outputs": [],
   "source": [
    "import pymysql\n",
    "  \n",
    "\n",
    "myconn = pymysql.connect(host = \"localhost\", user = \"root\",passwd = \"sweety110\", database='new', autocommit = True, charset = 'utf8mb4', cursorclass = pymysql.cursors.DictCursor)\n",
    "\n",
    "cursor = myconn.cursor() "
   ]
  },
  {
   "cell_type": "code",
   "execution_count": null,
   "id": "07fae8e4",
   "metadata": {},
   "outputs": [],
   "source": [
    "sql = \"select * from customer\"\n",
    "cursor.execute(sql)\n",
    "\n",
    "rows = cursor.fetchall()\n",
    "\n",
    "print(rows)"
   ]
  },
  {
   "cell_type": "code",
   "execution_count": 9,
   "id": "f9c5128d",
   "metadata": {},
   "outputs": [
    {
     "name": "stdout",
     "output_type": "stream",
     "text": [
      "()\n"
     ]
    }
   ],
   "source": [
    "import pymysql\n",
    "  \n",
    "#Create the connection object   \n",
    "myconn = pymysql.connect(host = \"localhost\", user = \"root\",passwd = \"sweety110\", database='python', autocommit = True, charset = 'utf8mb4', cursorclass = pymysql.cursors.DictCursor)\n",
    "\n",
    "cursor = myconn.cursor() \n",
    "\n",
    "\n",
    "sql = \"create table sales (sid varchar(10)primary key,salesman_name varchar(100),sale_dept varchar(100));\"\n",
    "cursor.execute(sql)\n",
    "\n",
    "rows = cursor.fetchall()\n",
    "\n",
    "print(rows)\n",
    "\n",
    "\n"
   ]
  },
  {
   "cell_type": "code",
   "execution_count": 10,
   "id": "522de57b",
   "metadata": {},
   "outputs": [
    {
     "name": "stdout",
     "output_type": "stream",
     "text": [
      "5 was inserted.\n"
     ]
    }
   ],
   "source": [
    "sql = \"INSERT INTO sales (sid,salesman_name,sale_dept) VALUES (%s, %s, %s)\"\n",
    "val = [\n",
    "  (\"s1\",\"ankit\",\"home\"),\n",
    "  (\"s2\",\"riya\",\"ecommerence\"),\n",
    "  (\"s3\",\"bittu\",\"loan\"),\n",
    "  (\"s4\",\"arnab\",\"home\"),\n",
    "  (\"s5\",\"snehasish\",\"home\")\n",
    "]\n",
    "\n",
    "cursor.executemany(sql, val)\n",
    "\n",
    "myconn.commit()\n",
    "\n",
    "print(cursor.rowcount, \"was inserted.\")"
   ]
  },
  {
   "cell_type": "code",
   "execution_count": 11,
   "id": "739acc87",
   "metadata": {},
   "outputs": [
    {
     "name": "stdout",
     "output_type": "stream",
     "text": [
      "[{'sid': 's1', 'salesman_name': 'ankit', 'sale_dept': 'home'}, {'sid': 's2', 'salesman_name': 'riya', 'sale_dept': 'ecommerence'}, {'sid': 's3', 'salesman_name': 'bittu', 'sale_dept': 'loan'}, {'sid': 's4', 'salesman_name': 'arnab', 'sale_dept': 'home'}, {'sid': 's5', 'salesman_name': 'snehasish', 'sale_dept': 'home'}]\n"
     ]
    }
   ],
   "source": [
    "sql = \"select * from sales\"\n",
    "cursor.execute(sql)\n",
    "\n",
    "rows = cursor.fetchall()\n",
    "\n",
    "print(rows)"
   ]
  },
  {
   "cell_type": "code",
   "execution_count": 12,
   "id": "bf2296c9",
   "metadata": {},
   "outputs": [
    {
     "name": "stdout",
     "output_type": "stream",
     "text": [
      "5 was inserted.\n",
      "[{'eid': 'e1', 'emp_name': 'ankit', 'sid': 's1'}, {'eid': 'e2', 'emp_name': 'riya', 'sid': 's2'}, {'eid': 'e3', 'emp_name': 'bittu', 'sid': 's3'}, {'eid': 'e4', 'emp_name': 'arnab', 'sid': 's4'}, {'eid': 'e5', 'emp_name': 'snehasish', 'sid': 's5'}]\n"
     ]
    }
   ],
   "source": [
    "sql = \"create table emp (eid varchar(10)primary key,emp_name varchar(100),sid varchar(10));\"\n",
    "cursor.execute(sql)\n",
    "\n",
    "sql = \"INSERT INTO emp (eid,emp_name,sid) VALUES (%s, %s, %s)\"\n",
    "val = [\n",
    "  (\"e1\",\"ankit\",\"s1\"),\n",
    "  (\"e2\",\"riya\",\"s2\"),\n",
    "  (\"e3\",\"bittu\",\"s3\"),\n",
    "  (\"e4\",\"arnab\",\"s4\"),\n",
    "  (\"e5\",\"snehasish\",\"s5\")\n",
    "]\n",
    "\n",
    "cursor.executemany(sql, val)\n",
    "\n",
    "myconn.commit()\n",
    "\n",
    "print(cursor.rowcount, \"was inserted.\")\n",
    "\n",
    "\n",
    "sql = \"select * from emp\"\n",
    "cursor.execute(sql)\n",
    "\n",
    "detail = cursor.fetchall()\n",
    "\n",
    "print(detail)"
   ]
  },
  {
   "cell_type": "code",
   "execution_count": 13,
   "id": "63c5d6f3",
   "metadata": {},
   "outputs": [
    {
     "name": "stdout",
     "output_type": "stream",
     "text": [
      "5 was inserted.\n",
      "[{'deptid': 'd1', 'dept_name': 'sales', 'eid': 'e1'}, {'deptid': 'd2', 'dept_name': 'hr', 'eid': 'e2'}, {'deptid': 'd3', 'dept_name': 'sales', 'eid': 'e3'}, {'deptid': 'd4', 'dept_name': 'hr', 'eid': 'e4'}, {'deptid': 'd5', 'dept_name': 'tech', 'eid': 'e5'}]\n"
     ]
    }
   ],
   "source": [
    "sql = \"create table dept (deptid varchar(10)primary key,dept_name varchar(100),eid varchar(10));\"\n",
    "cursor.execute(sql)\n",
    "\n",
    "sql = \"INSERT INTO dept (deptid,dept_name,eid) VALUES (%s, %s, %s)\"\n",
    "val = [\n",
    "  (\"d1\",\"sales\",\"e1\"),\n",
    "  (\"d2\",\"hr\",\"e2\"),\n",
    "  (\"d3\",\"sales\",\"e3\"),\n",
    "  (\"d4\",\"hr\",\"e4\"),\n",
    "  (\"d5\",\"tech\",\"e5\")\n",
    "]\n",
    "\n",
    "cursor.executemany(sql, val)\n",
    "\n",
    "myconn.commit()\n",
    "\n",
    "print(cursor.rowcount, \"was inserted.\")\n",
    "\n",
    "\n",
    "sql = \"select * from dept\"\n",
    "cursor.execute(sql)\n",
    "\n",
    "detail = cursor.fetchall()\n",
    "\n",
    "print(detail)"
   ]
  },
  {
   "cell_type": "code",
   "execution_count": null,
   "id": "a49b99eb",
   "metadata": {},
   "outputs": [],
   "source": [
    "SELECT * FROM sales JOIN emp ON sales.sid=emp.sid JOIN dept ON emp.eid=dept.eid;"
   ]
  },
  {
   "cell_type": "code",
   "execution_count": 14,
   "id": "63352034",
   "metadata": {},
   "outputs": [
    {
     "name": "stdout",
     "output_type": "stream",
     "text": [
      "[{'sid': 's1', 'salesman_name': 'ankit', 'sale_dept': 'home', 'eid': 'e1', 'emp_name': 'ankit', 'emp.sid': 's1', 'deptid': 'd1', 'dept_name': 'sales', 'dept.eid': 'e1'}, {'sid': 's2', 'salesman_name': 'riya', 'sale_dept': 'ecommerence', 'eid': 'e2', 'emp_name': 'riya', 'emp.sid': 's2', 'deptid': 'd2', 'dept_name': 'hr', 'dept.eid': 'e2'}, {'sid': 's3', 'salesman_name': 'bittu', 'sale_dept': 'loan', 'eid': 'e3', 'emp_name': 'bittu', 'emp.sid': 's3', 'deptid': 'd3', 'dept_name': 'sales', 'dept.eid': 'e3'}, {'sid': 's4', 'salesman_name': 'arnab', 'sale_dept': 'home', 'eid': 'e4', 'emp_name': 'arnab', 'emp.sid': 's4', 'deptid': 'd4', 'dept_name': 'hr', 'dept.eid': 'e4'}, {'sid': 's5', 'salesman_name': 'snehasish', 'sale_dept': 'home', 'eid': 'e5', 'emp_name': 'snehasish', 'emp.sid': 's5', 'deptid': 'd5', 'dept_name': 'tech', 'dept.eid': 'e5'}]\n"
     ]
    }
   ],
   "source": [
    "sql = \"select * from sales,emp,dept where sales.sid=emp.sid and emp.eid=dept.eid\"\n",
    "cursor.execute(sql)\n",
    "\n",
    "detail = cursor.fetchall()\n",
    "\n",
    "print(detail)"
   ]
  },
  {
   "cell_type": "code",
   "execution_count": 16,
   "id": "89bd2a3b",
   "metadata": {},
   "outputs": [],
   "source": [
    "list=[]\n",
    "for i in detail:\n",
    "    \n",
    "    sid=i['sid']\n",
    "    salesman_name=i['salesman_name']\n",
    "    sale_dept=i['sale_dept']\n",
    "    eid=i['eid']\n",
    "    emp_name=i['emp_name']\n",
    "    \n",
    "    deptid=i['deptid']\n",
    "    dept_name=i['dept_name']\n",
    "    \n",
    "    \n",
    "    list.append([sid,salesman_name,sale_dept,eid,emp_name,deptid,dept_name])\n",
    "   "
   ]
  },
  {
   "cell_type": "code",
   "execution_count": 17,
   "id": "13807d07",
   "metadata": {},
   "outputs": [],
   "source": [
    "import pandas as pd\n",
    "df = pd.DataFrame(list,columns =['sid','salesman_name','sale_dept','eid','emp_name','deptid','dept_name'])"
   ]
  },
  {
   "cell_type": "code",
   "execution_count": 18,
   "id": "ddf35e60",
   "metadata": {},
   "outputs": [
    {
     "data": {
      "text/html": [
       "<div>\n",
       "<style scoped>\n",
       "    .dataframe tbody tr th:only-of-type {\n",
       "        vertical-align: middle;\n",
       "    }\n",
       "\n",
       "    .dataframe tbody tr th {\n",
       "        vertical-align: top;\n",
       "    }\n",
       "\n",
       "    .dataframe thead th {\n",
       "        text-align: right;\n",
       "    }\n",
       "</style>\n",
       "<table border=\"1\" class=\"dataframe\">\n",
       "  <thead>\n",
       "    <tr style=\"text-align: right;\">\n",
       "      <th></th>\n",
       "      <th>sid</th>\n",
       "      <th>salesman_name</th>\n",
       "      <th>sale_dept</th>\n",
       "      <th>eid</th>\n",
       "      <th>emp_name</th>\n",
       "      <th>deptid</th>\n",
       "      <th>dept_name</th>\n",
       "    </tr>\n",
       "  </thead>\n",
       "  <tbody>\n",
       "    <tr>\n",
       "      <th>0</th>\n",
       "      <td>s1</td>\n",
       "      <td>ankit</td>\n",
       "      <td>home</td>\n",
       "      <td>e1</td>\n",
       "      <td>ankit</td>\n",
       "      <td>d1</td>\n",
       "      <td>sales</td>\n",
       "    </tr>\n",
       "    <tr>\n",
       "      <th>1</th>\n",
       "      <td>s2</td>\n",
       "      <td>riya</td>\n",
       "      <td>ecommerence</td>\n",
       "      <td>e2</td>\n",
       "      <td>riya</td>\n",
       "      <td>d2</td>\n",
       "      <td>hr</td>\n",
       "    </tr>\n",
       "    <tr>\n",
       "      <th>2</th>\n",
       "      <td>s3</td>\n",
       "      <td>bittu</td>\n",
       "      <td>loan</td>\n",
       "      <td>e3</td>\n",
       "      <td>bittu</td>\n",
       "      <td>d3</td>\n",
       "      <td>sales</td>\n",
       "    </tr>\n",
       "    <tr>\n",
       "      <th>3</th>\n",
       "      <td>s4</td>\n",
       "      <td>arnab</td>\n",
       "      <td>home</td>\n",
       "      <td>e4</td>\n",
       "      <td>arnab</td>\n",
       "      <td>d4</td>\n",
       "      <td>hr</td>\n",
       "    </tr>\n",
       "    <tr>\n",
       "      <th>4</th>\n",
       "      <td>s5</td>\n",
       "      <td>snehasish</td>\n",
       "      <td>home</td>\n",
       "      <td>e5</td>\n",
       "      <td>snehasish</td>\n",
       "      <td>d5</td>\n",
       "      <td>tech</td>\n",
       "    </tr>\n",
       "  </tbody>\n",
       "</table>\n",
       "</div>"
      ],
      "text/plain": [
       "  sid salesman_name    sale_dept eid   emp_name deptid dept_name\n",
       "0  s1         ankit         home  e1      ankit     d1     sales\n",
       "1  s2          riya  ecommerence  e2       riya     d2        hr\n",
       "2  s3         bittu         loan  e3      bittu     d3     sales\n",
       "3  s4         arnab         home  e4      arnab     d4        hr\n",
       "4  s5     snehasish         home  e5  snehasish     d5      tech"
      ]
     },
     "execution_count": 18,
     "metadata": {},
     "output_type": "execute_result"
    }
   ],
   "source": [
    "df"
   ]
  },
  {
   "cell_type": "code",
   "execution_count": 23,
   "id": "ed03eb51",
   "metadata": {},
   "outputs": [
    {
     "name": "stdout",
     "output_type": "stream",
     "text": [
      "[{'dept_name': 'hr', 'emp_name': 'riya'}]\n"
     ]
    }
   ],
   "source": [
    "\n",
    "cursor.execute('''SELECT dept_name,emp_name FROM sales JOIN emp ON sales.sid=emp.sid JOIN dept ON emp.eid=dept.eid WHERE dept.dept_name='hr' and emp.emp_name like 'r%';''')\n",
    "\n",
    "detail = cursor.fetchall()\n",
    "\n",
    "print(detail)\n",
    "\n"
   ]
  },
  {
   "cell_type": "code",
   "execution_count": null,
   "id": "1fdcd766",
   "metadata": {},
   "outputs": [],
   "source": [
    "\n",
    "SELECT dept_name,emp_name FROM sales JOIN emp ON sales.sid=emp.sid JOIN dept ON emp.eid=dept.eid WHERE dept.dept_name='hr' and emp.emp_name='r%';"
   ]
  }
 ],
 "metadata": {
  "kernelspec": {
   "display_name": "Python 3",
   "language": "python",
   "name": "python3"
  },
  "language_info": {
   "codemirror_mode": {
    "name": "ipython",
    "version": 3
   },
   "file_extension": ".py",
   "mimetype": "text/x-python",
   "name": "python",
   "nbconvert_exporter": "python",
   "pygments_lexer": "ipython3",
   "version": "3.8.8"
  }
 },
 "nbformat": 4,
 "nbformat_minor": 5
}
